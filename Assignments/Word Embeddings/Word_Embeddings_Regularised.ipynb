{
  "nbformat": 4,
  "nbformat_minor": 0,
  "metadata": {
    "colab": {
      "name": "Word_Embeddings_Regularised.ipynb",
      "provenance": [],
      "collapsed_sections": []
    },
    "kernelspec": {
      "name": "python3",
      "display_name": "Python 3"
    },
    "accelerator": "GPU"
  },
  "cells": [
    {
      "cell_type": "code",
      "metadata": {
        "id": "4D_WJccvL7zU",
        "colab_type": "code",
        "outputId": "2791ebfa-8fe3-4351-aaff-e5fc271eb894",
        "colab": {
          "base_uri": "https://localhost:8080/",
          "height": 34
        }
      },
      "source": [
        "import tensorflow as tf\n",
        "from tensorflow.keras.models import Sequential\n",
        "from tensorflow.keras.layers import Dense, Embedding, Dropout, Bidirectional, LSTM, BatchNormalization, GRU\n",
        "from sklearn.model_selection import train_test_split\n",
        "from tensorflow.keras.preprocessing.text import Tokenizer\n",
        "from tensorflow.keras.preprocessing.sequence import pad_sequences\n",
        "from tensorflow.keras import regularizers\n",
        "\n",
        "import tensorflow_datasets as tfds\n",
        "\n",
        "import numpy as np\n",
        "from matplotlib import pyplot as plt\n",
        "\n",
        "print(tf.__version__)"
      ],
      "execution_count": 0,
      "outputs": [
        {
          "output_type": "stream",
          "text": [
            "2.2.0\n"
          ],
          "name": "stdout"
        }
      ]
    },
    {
      "cell_type": "code",
      "metadata": {
        "id": "tzs9JQkb6Lsb",
        "colab_type": "code",
        "colab": {}
      },
      "source": [
        "# Loading the dataset\n",
        "(ds_train, ds_test), ds_info = tfds.load(\n",
        "    'imdb_reviews',\n",
        "    split=['train', 'test'],\n",
        "    shuffle_files=True,\n",
        "    as_supervised=True,\n",
        "    with_info=True,\n",
        ")"
      ],
      "execution_count": 0,
      "outputs": []
    },
    {
      "cell_type": "code",
      "metadata": {
        "id": "eWs2Q4kTkeqZ",
        "colab_type": "code",
        "outputId": "26f86867-8229-4bae-a7bf-8b0fd559be4e",
        "colab": {
          "base_uri": "https://localhost:8080/",
          "height": 34
        }
      },
      "source": [
        "# Prepping the data a little\n",
        "x_train, y_train, x_test, y_test = [], [], [], []\n",
        "\n",
        "for x in ds_train:\n",
        "  text = str(x[0].numpy()).split(\"b\", 1)[1][1:-1]\n",
        "  label = x[1].numpy()\n",
        "  x_train.append(text)\n",
        "  y_train.append(label)\n",
        "\n",
        "for x in ds_test:\n",
        "  text = str(x[0].numpy()).split(\"b\", 1)[1][1:-1]\n",
        "  label = x[1].numpy()\n",
        "  x_test.append(text)\n",
        "  y_test.append(label)\n",
        "\n",
        "x_train, y_train, x_test, y_test = np.array(x_train), np.array(y_train), np.array(x_test), np.array(y_test)\n",
        "\n",
        "print(x_train.shape, y_train.shape)"
      ],
      "execution_count": 0,
      "outputs": [
        {
          "output_type": "stream",
          "text": [
            "(25000,) (25000,)\n"
          ],
          "name": "stdout"
        }
      ]
    },
    {
      "cell_type": "code",
      "metadata": {
        "id": "pyle1w_-pYvX",
        "colab_type": "code",
        "colab": {}
      },
      "source": [
        "vocab_size = 80000\n",
        "\n",
        "tokenizer = Tokenizer(num_words = vocab_size, lower = True, oov_token = '<OOV>')\n",
        "tokenizer.fit_on_texts(x_train)\n"
      ],
      "execution_count": 0,
      "outputs": []
    },
    {
      "cell_type": "code",
      "metadata": {
        "id": "Px3-IabNrWcK",
        "colab_type": "code",
        "colab": {}
      },
      "source": [
        "maxlen = 100\n",
        "padding = 'post'\n",
        "truncating = 'post'\n",
        "\n",
        "sequences = tokenizer.texts_to_sequences(x_train)\n",
        "seq_train = pad_sequences(sequences, maxlen = maxlen, padding = padding, truncating = truncating)\n",
        "\n",
        "test_sequences = tokenizer.texts_to_sequences(x_test)\n",
        "seq_test = pad_sequences(test_sequences, maxlen = maxlen, padding = padding, truncating = truncating)"
      ],
      "execution_count": 0,
      "outputs": []
    },
    {
      "cell_type": "code",
      "metadata": {
        "id": "GSPhAC0wtUwF",
        "colab_type": "code",
        "outputId": "57f8b1da-b794-43d3-b927-97682b32994e",
        "colab": {
          "base_uri": "https://localhost:8080/",
          "height": 459
        }
      },
      "source": [
        "embedding_dim = 300\n",
        "\n",
        "model = Sequential([\n",
        "                    Embedding(input_dim = vocab_size+1, output_dim= embedding_dim, input_length = maxlen),\n",
        "                    LSTM(64, kernel_regularizer=regularizers.l2(0.001), return_sequences=True),\n",
        "                    Bidirectional(LSTM(64, kernel_regularizer=regularizers.l2(0.001), return_sequences=True)),\n",
        "                    Bidirectional(LSTM(64, kernel_regularizer=regularizers.l2(0.001))), \n",
        "                    Dense(64, activation = 'relu', kernel_regularizer='l2'),\n",
        "                    Dropout(0.6),\n",
        "                    Dense(32, activation = 'relu', kernel_regularizer='l2'),\n",
        "                    Dropout(0.6),\n",
        "                    Dense(1, activation = 'sigmoid')\n",
        "])\n",
        "\n",
        "model.compile(optimizer = 'adam', loss = 'binary_crossentropy', metrics = ['accuracy'])\n",
        "model.summary()"
      ],
      "execution_count": 0,
      "outputs": [
        {
          "output_type": "stream",
          "text": [
            "Model: \"sequential\"\n",
            "_________________________________________________________________\n",
            "Layer (type)                 Output Shape              Param #   \n",
            "=================================================================\n",
            "embedding (Embedding)        (None, 100, 300)          24000300  \n",
            "_________________________________________________________________\n",
            "lstm (LSTM)                  (None, 100, 64)           93440     \n",
            "_________________________________________________________________\n",
            "bidirectional (Bidirectional (None, 100, 128)          66048     \n",
            "_________________________________________________________________\n",
            "bidirectional_1 (Bidirection (None, 128)               98816     \n",
            "_________________________________________________________________\n",
            "dense (Dense)                (None, 64)                8256      \n",
            "_________________________________________________________________\n",
            "dropout (Dropout)            (None, 64)                0         \n",
            "_________________________________________________________________\n",
            "dense_1 (Dense)              (None, 32)                2080      \n",
            "_________________________________________________________________\n",
            "dropout_1 (Dropout)          (None, 32)                0         \n",
            "_________________________________________________________________\n",
            "dense_2 (Dense)              (None, 1)                 33        \n",
            "=================================================================\n",
            "Total params: 24,268,973\n",
            "Trainable params: 24,268,973\n",
            "Non-trainable params: 0\n",
            "_________________________________________________________________\n"
          ],
          "name": "stdout"
        }
      ]
    },
    {
      "cell_type": "code",
      "metadata": {
        "id": "Lc6cn3PFuOyb",
        "colab_type": "code",
        "outputId": "94c572bc-a421-46bd-e6d9-1d516dfb5f40",
        "colab": {
          "base_uri": "https://localhost:8080/",
          "height": 1000
        }
      },
      "source": [
        "history = model.fit(seq_train, y_train, epochs = 50, validation_data = (seq_test, y_test), batch_size = 10000, verbose = 1)"
      ],
      "execution_count": 0,
      "outputs": [
        {
          "output_type": "stream",
          "text": [
            "Epoch 1/50\n",
            "3/3 [==============================] - 5s 2s/step - loss: 2.7458 - accuracy: 0.5020 - val_loss: 2.6604 - val_accuracy: 0.5004\n",
            "Epoch 2/50\n",
            "3/3 [==============================] - 3s 1s/step - loss: 2.6302 - accuracy: 0.5081 - val_loss: 2.5481 - val_accuracy: 0.5425\n",
            "Epoch 3/50\n",
            "3/3 [==============================] - 3s 1s/step - loss: 2.5190 - accuracy: 0.5115 - val_loss: 2.4405 - val_accuracy: 0.5536\n",
            "Epoch 4/50\n",
            "3/3 [==============================] - 3s 1s/step - loss: 2.4124 - accuracy: 0.5326 - val_loss: 2.3369 - val_accuracy: 0.5776\n",
            "Epoch 5/50\n",
            "3/3 [==============================] - 3s 1s/step - loss: 2.3098 - accuracy: 0.5592 - val_loss: 2.2352 - val_accuracy: 0.6201\n",
            "Epoch 6/50\n",
            "3/3 [==============================] - 3s 1s/step - loss: 2.2082 - accuracy: 0.5932 - val_loss: 2.1288 - val_accuracy: 0.6728\n",
            "Epoch 7/50\n",
            "3/3 [==============================] - 4s 1s/step - loss: 2.0985 - accuracy: 0.6309 - val_loss: 2.0034 - val_accuracy: 0.6975\n",
            "Epoch 8/50\n",
            "3/3 [==============================] - 3s 1s/step - loss: 1.9705 - accuracy: 0.6680 - val_loss: 1.8740 - val_accuracy: 0.7076\n",
            "Epoch 9/50\n",
            "3/3 [==============================] - 3s 1s/step - loss: 1.8471 - accuracy: 0.7185 - val_loss: 1.7557 - val_accuracy: 0.7501\n",
            "Epoch 10/50\n",
            "3/3 [==============================] - 3s 1s/step - loss: 1.7233 - accuracy: 0.7675 - val_loss: 1.6582 - val_accuracy: 0.7807\n",
            "Epoch 11/50\n",
            "3/3 [==============================] - 3s 1s/step - loss: 1.6080 - accuracy: 0.8076 - val_loss: 1.5721 - val_accuracy: 0.7891\n",
            "Epoch 12/50\n",
            "3/3 [==============================] - 3s 1s/step - loss: 1.4916 - accuracy: 0.8465 - val_loss: 1.5088 - val_accuracy: 0.7968\n",
            "Epoch 13/50\n",
            "3/3 [==============================] - 3s 1s/step - loss: 1.3819 - accuracy: 0.8762 - val_loss: 1.4926 - val_accuracy: 0.8000\n",
            "Epoch 14/50\n",
            "3/3 [==============================] - 3s 1s/step - loss: 1.2945 - accuracy: 0.9006 - val_loss: 1.4750 - val_accuracy: 0.7980\n",
            "Epoch 15/50\n",
            "3/3 [==============================] - 3s 1s/step - loss: 1.2168 - accuracy: 0.9121 - val_loss: 1.3985 - val_accuracy: 0.7967\n",
            "Epoch 16/50\n",
            "3/3 [==============================] - 3s 1s/step - loss: 1.1382 - accuracy: 0.9245 - val_loss: 1.3858 - val_accuracy: 0.7719\n",
            "Epoch 17/50\n",
            "3/3 [==============================] - 3s 1s/step - loss: 1.0615 - accuracy: 0.9405 - val_loss: 1.3740 - val_accuracy: 0.7943\n",
            "Epoch 18/50\n",
            "3/3 [==============================] - 3s 1s/step - loss: 0.9816 - accuracy: 0.9527 - val_loss: 1.4045 - val_accuracy: 0.7927\n",
            "Epoch 19/50\n",
            "3/3 [==============================] - 3s 1s/step - loss: 0.9177 - accuracy: 0.9643 - val_loss: 1.4175 - val_accuracy: 0.7794\n",
            "Epoch 20/50\n",
            "3/3 [==============================] - 3s 1s/step - loss: 0.8597 - accuracy: 0.9699 - val_loss: 1.4051 - val_accuracy: 0.7878\n",
            "Epoch 21/50\n",
            "3/3 [==============================] - 3s 1s/step - loss: 0.8051 - accuracy: 0.9754 - val_loss: 1.4580 - val_accuracy: 0.7830\n",
            "Epoch 22/50\n",
            "3/3 [==============================] - 3s 1s/step - loss: 0.7589 - accuracy: 0.9800 - val_loss: 1.5330 - val_accuracy: 0.7747\n",
            "Epoch 23/50\n",
            "3/3 [==============================] - 3s 1s/step - loss: 0.7112 - accuracy: 0.9825 - val_loss: 1.5432 - val_accuracy: 0.7790\n",
            "Epoch 24/50\n",
            "3/3 [==============================] - 3s 1s/step - loss: 0.6750 - accuracy: 0.9839 - val_loss: 1.5713 - val_accuracy: 0.7704\n",
            "Epoch 25/50\n",
            "3/3 [==============================] - 3s 1s/step - loss: 0.6402 - accuracy: 0.9858 - val_loss: 1.5281 - val_accuracy: 0.7767\n",
            "Epoch 26/50\n",
            "3/3 [==============================] - 3s 1s/step - loss: 0.6091 - accuracy: 0.9872 - val_loss: 1.5101 - val_accuracy: 0.7747\n",
            "Epoch 27/50\n",
            "3/3 [==============================] - 3s 1s/step - loss: 0.5748 - accuracy: 0.9868 - val_loss: 1.5168 - val_accuracy: 0.7630\n",
            "Epoch 28/50\n",
            "3/3 [==============================] - 3s 1s/step - loss: 0.5460 - accuracy: 0.9887 - val_loss: 1.5251 - val_accuracy: 0.7740\n",
            "Epoch 29/50\n",
            "3/3 [==============================] - 3s 1s/step - loss: 0.5195 - accuracy: 0.9900 - val_loss: 1.5552 - val_accuracy: 0.7677\n",
            "Epoch 30/50\n",
            "3/3 [==============================] - 3s 1s/step - loss: 0.4956 - accuracy: 0.9904 - val_loss: 1.5293 - val_accuracy: 0.7704\n",
            "Epoch 31/50\n",
            "3/3 [==============================] - 3s 1s/step - loss: 0.4755 - accuracy: 0.9887 - val_loss: 1.4491 - val_accuracy: 0.7724\n",
            "Epoch 32/50\n",
            "3/3 [==============================] - 3s 1s/step - loss: 0.4631 - accuracy: 0.9850 - val_loss: 1.4695 - val_accuracy: 0.7372\n",
            "Epoch 33/50\n",
            "3/3 [==============================] - 3s 1s/step - loss: 0.4955 - accuracy: 0.9632 - val_loss: 1.0627 - val_accuracy: 0.7741\n",
            "Epoch 34/50\n",
            "3/3 [==============================] - 3s 1s/step - loss: 0.5244 - accuracy: 0.9443 - val_loss: 0.9370 - val_accuracy: 0.7762\n",
            "Epoch 35/50\n",
            "3/3 [==============================] - 3s 1s/step - loss: 0.4458 - accuracy: 0.9759 - val_loss: 1.2505 - val_accuracy: 0.7810\n",
            "Epoch 36/50\n",
            "3/3 [==============================] - 3s 1s/step - loss: 0.3970 - accuracy: 0.9848 - val_loss: 1.4338 - val_accuracy: 0.7632\n",
            "Epoch 37/50\n",
            "3/3 [==============================] - 3s 1s/step - loss: 0.3901 - accuracy: 0.9852 - val_loss: 1.3682 - val_accuracy: 0.7770\n",
            "Epoch 38/50\n",
            "3/3 [==============================] - 3s 1s/step - loss: 0.3729 - accuracy: 0.9874 - val_loss: 1.3527 - val_accuracy: 0.7671\n",
            "Epoch 39/50\n",
            "3/3 [==============================] - 3s 1s/step - loss: 0.3486 - accuracy: 0.9876 - val_loss: 1.3002 - val_accuracy: 0.7703\n",
            "Epoch 40/50\n",
            "3/3 [==============================] - 3s 1s/step - loss: 0.3254 - accuracy: 0.9902 - val_loss: 1.2201 - val_accuracy: 0.7715\n",
            "Epoch 41/50\n",
            "3/3 [==============================] - 3s 1s/step - loss: 0.3117 - accuracy: 0.9900 - val_loss: 1.2301 - val_accuracy: 0.7675\n",
            "Epoch 42/50\n",
            "3/3 [==============================] - 3s 1s/step - loss: 0.2983 - accuracy: 0.9913 - val_loss: 1.2587 - val_accuracy: 0.7696\n",
            "Epoch 43/50\n",
            "3/3 [==============================] - 3s 1s/step - loss: 0.2823 - accuracy: 0.9938 - val_loss: 1.3218 - val_accuracy: 0.7719\n",
            "Epoch 44/50\n",
            "3/3 [==============================] - 3s 1s/step - loss: 0.2712 - accuracy: 0.9937 - val_loss: 1.4090 - val_accuracy: 0.7708\n",
            "Epoch 45/50\n",
            "3/3 [==============================] - 3s 1s/step - loss: 0.2603 - accuracy: 0.9944 - val_loss: 1.4842 - val_accuracy: 0.7666\n",
            "Epoch 46/50\n",
            "3/3 [==============================] - 3s 1s/step - loss: 0.2500 - accuracy: 0.9950 - val_loss: 1.5247 - val_accuracy: 0.7646\n",
            "Epoch 47/50\n",
            "3/3 [==============================] - 3s 1s/step - loss: 0.2377 - accuracy: 0.9953 - val_loss: 1.5309 - val_accuracy: 0.7662\n",
            "Epoch 48/50\n",
            "3/3 [==============================] - 3s 1s/step - loss: 0.2295 - accuracy: 0.9954 - val_loss: 1.5300 - val_accuracy: 0.7664\n",
            "Epoch 49/50\n",
            "3/3 [==============================] - 3s 1s/step - loss: 0.2243 - accuracy: 0.9950 - val_loss: 1.5214 - val_accuracy: 0.7669\n",
            "Epoch 50/50\n",
            "3/3 [==============================] - 3s 1s/step - loss: 0.2145 - accuracy: 0.9956 - val_loss: 1.5107 - val_accuracy: 0.7662\n"
          ],
          "name": "stdout"
        }
      ]
    },
    {
      "cell_type": "code",
      "metadata": {
        "id": "oE0cSfjzuiWy",
        "colab_type": "code",
        "outputId": "a272f008-9e6c-46dc-8769-eb7fb5f94b51",
        "colab": {
          "base_uri": "https://localhost:8080/",
          "height": 573
        }
      },
      "source": [
        "acc=history.history['accuracy']\n",
        "val_acc=history.history['val_accuracy']\n",
        "loss=history.history['loss']\n",
        "val_loss=history.history['val_loss']\n",
        "\n",
        "epochs=range(len(acc)) \n",
        "\n",
        "plt.plot(epochs, acc, 'r')\n",
        "plt.plot(epochs, val_acc, 'b')\n",
        "plt.title('Training and validation accuracy')\n",
        "plt.xlabel(\"Epochs\")\n",
        "plt.ylabel(\"Accuracy\")\n",
        "plt.legend([\"Accuracy\", \"Validation Accuracy\"])\n",
        "plt.show()\n",
        "\n",
        "plt.plot(epochs, loss, 'r')\n",
        "plt.plot(epochs, val_loss, 'b')\n",
        "plt.title('Training and validation Loss')\n",
        "plt.xlabel(\"Epochs\")\n",
        "plt.ylabel(\"Loss\")\n",
        "plt.legend([\"Loss\", \"Validation Loss\"])\n",
        "plt.show()"
      ],
      "execution_count": 0,
      "outputs": [
        {
          "output_type": "display_data",
          "data": {
            "image/png": "[encoded data removed]",
            "text/plain": [
              "<Figure size 432x288 with 1 Axes>"
            ]
          },
          "metadata": {
            "tags": [],
            "needs_background": "light"
          }
        },
        {
          "output_type": "display_data",
          "data": {
            "image/png": "[encoded data removed]",
            "text/plain": [
              "<Figure size 432x288 with 1 Axes>"
            ]
          },
          "metadata": {
            "tags": [],
            "needs_background": "light"
          }
        }
      ]
    },
    {
      "cell_type": "code",
      "metadata": {
        "id": "B5n3EJtVv6RZ",
        "colab_type": "code",
        "outputId": "698d4990-f2e5-4258-913a-f3542ef8db42",
        "colab": {
          "base_uri": "https://localhost:8080/",
          "height": 34
        }
      },
      "source": [
        "# Extracting the Embeddings\n",
        "embedding_layer = model.layers[0]\n",
        "weights = embedding_layer.get_weights()[0]\n",
        "print(weights.shape)"
      ],
      "execution_count": 0,
      "outputs": [
        {
          "output_type": "stream",
          "text": [
            "(80001, 300)\n"
          ],
          "name": "stdout"
        }
      ]
    },
    {
      "cell_type": "code",
      "metadata": {
        "id": "1HL_uN4ayZU_",
        "colab_type": "code",
        "colab": {}
      },
      "source": [
        "word_index = {e:i for e,i in tokenizer.word_index.items() if i <= vocab_size}"
      ],
      "execution_count": 0,
      "outputs": []
    },
    {
      "cell_type": "code",
      "metadata": {
        "id": "hDq5BJOMxwZN",
        "colab_type": "code",
        "colab": {}
      },
      "source": [
        "# Saving the weights\n",
        "import io\n",
        "\n",
        "out_v = io.open('vecs.tsv', 'w', encoding='utf-8')\n",
        "out_m = io.open('meta.tsv', 'w', encoding='utf-8')\n",
        "\n",
        "for word in word_index:\n",
        "  vec = weights[ int(word_index[word]) - 1] # skip 0, it's padding.\n",
        "  out_m.write(word + \"\\n\")\n",
        "  out_v.write('\\t'.join([str(x) for x in vec]) + \"\\n\")\n",
        "out_v.close()\n",
        "out_m.close()"
      ],
      "execution_count": 0,
      "outputs": []
    },
    {
      "cell_type": "code",
      "metadata": {
        "id": "eK2WAvTWyCYe",
        "colab_type": "code",
        "colab": {}
      },
      "source": [
        "# Downloading the weights\n",
        "\n",
        "try:\n",
        "  from google.colab import files\n",
        "except ImportError:\n",
        "   pass\n",
        "else:\n",
        "  files.download('vecs.tsv')\n",
        "  files.download('meta.tsv')"
      ],
      "execution_count": 0,
      "outputs": []
    }
  ]
}