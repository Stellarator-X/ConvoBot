{
  "nbformat": 4,
  "nbformat_minor": 0,
  "metadata": {
    "accelerator": "GPU",
    "colab": {
      "name": "Copy of NLP Course - Week 3 Exercise Question.ipynb",
      "provenance": []
    },
    "kernelspec": {
      "display_name": "Python 3",
      "name": "python3"
    }
  },
  "cells": [
    {
      "cell_type": "code",
      "metadata": {
        "id": "zX4Kg8DUTKWO",
        "colab_type": "code",
        "colab": {}
      },
      "source": [
        "#@title Licensed under the Apache License, Version 2.0 (the \"License\");\n",
        "# you may not use this file except in compliance with the License.\n",
        "# You may obtain a copy of the License at\n",
        "#\n",
        "# https://www.apache.org/licenses/LICENSE-2.0\n",
        "#\n",
        "# Unless required by applicable law or agreed to in writing, software\n",
        "# distributed under the License is distributed on an \"AS IS\" BASIS,\n",
        "# WITHOUT WARRANTIES OR CONDITIONS OF ANY KIND, either express or implied.\n",
        "# See the License for the specific language governing permissions and\n",
        "# limitations under the License."
      ],
      "execution_count": 0,
      "outputs": []
    },
    {
      "cell_type": "code",
      "metadata": {
        "colab_type": "code",
        "id": "hmA6EzkQJ5jt",
        "colab": {}
      },
      "source": [
        "import json\n",
        "import tensorflow as tf\n",
        "import csv\n",
        "import random\n",
        "import numpy as np\n",
        "\n",
        "from tensorflow.keras.preprocessing.text import Tokenizer\n",
        "from tensorflow.keras.preprocessing.sequence import pad_sequences\n",
        "from tensorflow.keras.utils import to_categorical\n",
        "from tensorflow.keras import regularizers\n",
        "\n",
        "\n",
        "embedding_dim = 100\n",
        "max_length = 16\n",
        "trunc_type='post'\n",
        "padding_type='post'\n",
        "oov_tok = \"<OOV>\"\n",
        "training_size = 160000  #Your dataset size here. Experiment using smaller values (i.e. 16000), but don't forget to train on at least 160000 to see the best effects\n",
        "test_portion=.1\n",
        "\n",
        "corpus = []\n"
      ],
      "execution_count": 0,
      "outputs": []
    },
    {
      "cell_type": "code",
      "metadata": {
        "colab_type": "code",
        "id": "bM0l_dORKqE0",
        "outputId": "3891f859-223f-42aa-8754-3d620fe37c67",
        "colab": {
          "base_uri": "https://localhost:8080/",
          "height": 204
        }
      },
      "source": [
        "# Note that I cleaned the Stanford dataset to remove LATIN1 encoding to make it easier for Python CSV reader\n",
        "# You can do that yourself with:\n",
        "# iconv -f LATIN1 -t UTF8 training.1600000.processed.noemoticon.csv -o training_cleaned.csv\n",
        "# I then hosted it on my site to make it easier to use in this notebook\n",
        "\n",
        "!wget --no-check-certificate \\\n",
        "    https://storage.googleapis.com/laurencemoroney-blog.appspot.com/training_cleaned.csv \\\n",
        "    -O /tmp/training_cleaned.csv\n",
        "\n",
        "num_sentences = 0\n",
        "\n",
        "with open(\"/tmp/training_cleaned.csv\") as csvfile:\n",
        "    reader = csv.reader(csvfile, delimiter=',')\n",
        "    for row in reader:\n",
        "      # Your Code here. Create list items where the first item is the text, found in row[5], and the second is the label. Note that the label is a '0' or a '4' in the text. When it's the former, make\n",
        "      # your label to be 0, otherwise 1. Keep a count of the number of sentences in num_sentences\n",
        "      list_item=[row[5],int(int(row[1])>0) ]\n",
        "      num_sentences = num_sentences + 1\n",
        "      corpus.append(list_item)\n"
      ],
      "execution_count": 0,
      "outputs": [
        {
          "output_type": "stream",
          "text": [
            "--2020-05-13 02:08:02--  https://storage.googleapis.com/laurencemoroney-blog.appspot.com/training_cleaned.csv\n",
            "Resolving storage.googleapis.com (storage.googleapis.com)... 108.177.119.128, 2a00:1450:4013:c00::80\n",
            "Connecting to storage.googleapis.com (storage.googleapis.com)|108.177.119.128|:443... connected.\n",
            "HTTP request sent, awaiting response... 200 OK\n",
            "Length: 238942690 (228M) [application/octet-stream]\n",
            "Saving to: ‘/tmp/training_cleaned.csv’\n",
            "\n",
            "\r          /tmp/trai   0%[                    ]       0  --.-KB/s               \r         /tmp/train   7%[>                   ]  16.01M  75.7MB/s               \r        /tmp/traini  38%[======>             ]  88.01M   204MB/s               \r       /tmp/trainin  53%[=========>          ] 121.48M   192MB/s               \r      /tmp/training  66%[============>       ] 152.01M   171MB/s               \r     /tmp/training_  95%[==================> ] 217.54M   200MB/s               \r/tmp/training_clean 100%[===================>] 227.87M   205MB/s    in 1.1s    \n",
            "\n",
            "2020-05-13 02:08:03 (205 MB/s) - ‘/tmp/training_cleaned.csv’ saved [238942690/238942690]\n",
            "\n"
          ],
          "name": "stdout"
        }
      ]
    },
    {
      "cell_type": "code",
      "metadata": {
        "colab_type": "code",
        "id": "3kxblBUjEUX-",
        "outputId": "6201162e-9cc5-413d-cd5a-6a5b74be5e58",
        "colab": {
          "base_uri": "https://localhost:8080/",
          "height": 68
        }
      },
      "source": [
        "print(num_sentences)\n",
        "print(len(corpus))\n",
        "print(corpus[1])\n",
        "\n",
        "# Expected Output:\n",
        "# 1600000\n",
        "# 1600000\n",
        "# [\"is upset that he can't update his Facebook by texting it... and might cry as a result  School today also. Blah!\", 0]"
      ],
      "execution_count": 0,
      "outputs": [
        {
          "output_type": "stream",
          "text": [
            "1600000\n",
            "1600000\n",
            "[\"is upset that he can't update his Facebook by texting it... and might cry as a result  School today also. Blah!\", 1]\n"
          ],
          "name": "stdout"
        }
      ]
    },
    {
      "cell_type": "code",
      "metadata": {
        "colab_type": "code",
        "id": "ohOGz24lsNAD",
        "outputId": "d46007af-280b-4c9d-aa34-e9489e462a7c",
        "colab": {
          "base_uri": "https://localhost:8080/",
          "height": 51
        }
      },
      "source": [
        "sentences=[]\n",
        "labels=[]\n",
        "random.shuffle(corpus)\n",
        "for x in range(training_size):\n",
        "    sentences.append(corpus[x][0])\n",
        "    labels.append(corpus[x][1])\n",
        "\n",
        "\n",
        "tokenizer = Tokenizer(oov_token=oov_tok)\n",
        "tokenizer.fit_on_texts(sentences)\n",
        "\n",
        "word_index = tokenizer.word_index\n",
        "vocab_size=len(word_index)\n",
        "\n",
        "sequences = tokenizer.texts_to_sequences(sentences)\n",
        "padded = pad_sequences(sequences, maxlen = max_length ,padding = 'post', truncating = 'post')\n",
        "\n",
        "split = int(test_portion * training_size)\n",
        "\n",
        "print(padded.shape)\n",
        "\n",
        "test_sequences = padded[-split:]\n",
        "training_sequences = padded[:-split]\n",
        "test_labels = labels[-split:]\n",
        "training_labels = labels[:-split]\n",
        "print(training_sequences.shape)"
      ],
      "execution_count": 0,
      "outputs": [
        {
          "output_type": "stream",
          "text": [
            "(160000, 16)\n",
            "(144000, 16)\n"
          ],
          "name": "stdout"
        }
      ]
    },
    {
      "cell_type": "code",
      "metadata": {
        "colab_type": "code",
        "id": "gIrtRem1En3N",
        "outputId": "fa206492-8d62-4c66-90b2-61e0539b74d4",
        "colab": {
          "base_uri": "https://localhost:8080/",
          "height": 51
        }
      },
      "source": [
        "print(vocab_size)\n",
        "print(word_index['i'])\n",
        "# Expected Output\n",
        "# 138858\n",
        "# 1"
      ],
      "execution_count": 0,
      "outputs": [
        {
          "output_type": "stream",
          "text": [
            "138647\n",
            "2\n"
          ],
          "name": "stdout"
        }
      ]
    },
    {
      "cell_type": "code",
      "metadata": {
        "colab_type": "code",
        "id": "C1zdgJkusRh0",
        "outputId": "48d7a743-c81f-4e9e-e14a-dc075b5f66b6",
        "colab": {
          "base_uri": "https://localhost:8080/",
          "height": 204
        }
      },
      "source": [
        "# Note this is the 100 dimension version of GloVe from Stanford\n",
        "# I unzipped and hosted it on my site to make this notebook easier\n",
        "!wget --no-check-certificate \\\n",
        "    https://storage.googleapis.com/laurencemoroney-blog.appspot.com/glove.6B.100d.txt \\\n",
        "    -O /tmp/glove.6B.100d.txt\n",
        "embeddings_index = {};\n",
        "with open('/tmp/glove.6B.100d.txt') as f:\n",
        "    for line in f:\n",
        "        values = line.split();\n",
        "        word = values[0];\n",
        "        coefs = np.asarray(values[1:], dtype='float32');\n",
        "        embeddings_index[word] = coefs;\n",
        "\n",
        "embeddings_matrix = np.zeros((vocab_size+1, embedding_dim));\n",
        "for word, i in word_index.items():\n",
        "    embedding_vector = embeddings_index.get(word);\n",
        "    if embedding_vector is not None:\n",
        "        embeddings_matrix[i] = embedding_vector;"
      ],
      "execution_count": 0,
      "outputs": [
        {
          "output_type": "stream",
          "text": [
            "--2020-05-13 02:08:19--  https://storage.googleapis.com/laurencemoroney-blog.appspot.com/glove.6B.100d.txt\n",
            "Resolving storage.googleapis.com (storage.googleapis.com)... 108.177.96.128, 2a00:1450:4013:c00::80\n",
            "Connecting to storage.googleapis.com (storage.googleapis.com)|108.177.96.128|:443... connected.\n",
            "HTTP request sent, awaiting response... 200 OK\n",
            "Length: 347116733 (331M) [text/plain]\n",
            "Saving to: ‘/tmp/glove.6B.100d.txt’\n",
            "\n",
            "/tmp/glove.6B.100d. 100%[===================>] 331.04M   162MB/s    in 2.0s    \n",
            "\n",
            "2020-05-13 02:08:21 (162 MB/s) - ‘/tmp/glove.6B.100d.txt’ saved [347116733/347116733]\n",
            "\n"
          ],
          "name": "stdout"
        }
      ]
    },
    {
      "cell_type": "code",
      "metadata": {
        "colab_type": "code",
        "id": "71NLk_lpFLNt",
        "outputId": "c78e61d1-dc56-4a4e-c65d-89885309e732",
        "colab": {
          "base_uri": "https://localhost:8080/",
          "height": 34
        }
      },
      "source": [
        "print(len(embeddings_matrix))\n",
        "# Expected Output\n",
        "# 138859"
      ],
      "execution_count": 0,
      "outputs": [
        {
          "output_type": "stream",
          "text": [
            "138648\n"
          ],
          "name": "stdout"
        }
      ]
    },
    {
      "cell_type": "code",
      "metadata": {
        "colab_type": "code",
        "id": "iKKvbuEBOGFz",
        "outputId": "7709a119-c0bc-4add-9a05-55605e14ee2e",
        "colab": {
          "base_uri": "https://localhost:8080/",
          "height": 459
        }
      },
      "source": [
        "from tensorflow.keras.layers import Embedding, Dense, Conv1D, LSTM, Bidirectional, GRU, BatchNormalization\n",
        "\n",
        "model = tf.keras.Sequential([\n",
        "    Embedding(vocab_size+1, embedding_dim, input_length=max_length, weights=[embeddings_matrix], trainable=False),\n",
        "    # YOUR CODE HERE - experiment with combining different types, such as convolutions and LSTMs\n",
        "    Bidirectional(LSTM(64, return_sequences = True)),\n",
        "    Bidirectional(LSTM(64)),\n",
        "    BatchNormalization(),\n",
        "    Dense(64, activation = 'relu'),\n",
        "    BatchNormalization(),\n",
        "    Dense(32, activation = 'relu'),\n",
        "    BatchNormalization(),\n",
        "    Dense(1, activation = 'sigmoid')\n",
        "\n",
        "])\n",
        "model.compile(optimizer = 'adam', metrics = ['accuracy'], loss = 'binary_crossentropy')\n",
        "model.summary()\n"
      ],
      "execution_count": 0,
      "outputs": [
        {
          "output_type": "stream",
          "text": [
            "Model: \"sequential\"\n",
            "_________________________________________________________________\n",
            "Layer (type)                 Output Shape              Param #   \n",
            "=================================================================\n",
            "embedding (Embedding)        (None, 16, 100)           13864800  \n",
            "_________________________________________________________________\n",
            "bidirectional (Bidirectional (None, 16, 128)           84480     \n",
            "_________________________________________________________________\n",
            "bidirectional_1 (Bidirection (None, 128)               98816     \n",
            "_________________________________________________________________\n",
            "batch_normalization (BatchNo (None, 128)               512       \n",
            "_________________________________________________________________\n",
            "dense (Dense)                (None, 64)                8256      \n",
            "_________________________________________________________________\n",
            "batch_normalization_1 (Batch (None, 64)                256       \n",
            "_________________________________________________________________\n",
            "dense_1 (Dense)              (None, 32)                2080      \n",
            "_________________________________________________________________\n",
            "batch_normalization_2 (Batch (None, 32)                128       \n",
            "_________________________________________________________________\n",
            "dense_2 (Dense)              (None, 1)                 33        \n",
            "=================================================================\n",
            "Total params: 14,059,361\n",
            "Trainable params: 194,113\n",
            "Non-trainable params: 13,865,248\n",
            "_________________________________________________________________\n"
          ],
          "name": "stdout"
        }
      ]
    },
    {
      "cell_type": "code",
      "metadata": {
        "id": "GpAL9tgxvY-C",
        "colab_type": "code",
        "outputId": "e206d21b-4298-4a6d-fcf6-938a0fc38119",
        "colab": {
          "base_uri": "https://localhost:8080/",
          "height": 391
        }
      },
      "source": [
        "\n",
        "num_epochs = 50\n",
        "history = model.fit(training_sequences, np.array(training_labels),\n",
        "                    epochs=num_epochs, \n",
        "                    validation_data=(test_sequences, np.array(test_labels)), \n",
        "                    verbose=1)\n",
        "\n",
        "print(\"Training Complete\")\n"
      ],
      "execution_count": 0,
      "outputs": [
        {
          "output_type": "stream",
          "text": [
            "Epoch 1/50\n",
            "4500/4500 [==============================] - 42s 9ms/step - loss: 0.0216 - accuracy: 0.9959 - val_loss: 7.9911e-05 - val_accuracy: 1.0000\n",
            "Epoch 2/50\n",
            "4500/4500 [==============================] - 40s 9ms/step - loss: 2.6727e-05 - accuracy: 1.0000 - val_loss: 5.2401e-06 - val_accuracy: 1.0000\n",
            "Epoch 3/50\n",
            "4500/4500 [==============================] - 40s 9ms/step - loss: 1.9535e-06 - accuracy: 1.0000 - val_loss: 4.3609e-07 - val_accuracy: 1.0000\n",
            "Epoch 4/50\n",
            "4500/4500 [==============================] - 41s 9ms/step - loss: 1.6684e-07 - accuracy: 1.0000 - val_loss: 3.6791e-08 - val_accuracy: 1.0000\n",
            "Epoch 5/50\n",
            "4500/4500 [==============================] - 40s 9ms/step - loss: 2.3548e-08 - accuracy: 1.0000 - val_loss: 1.9437e-08 - val_accuracy: 1.0000\n",
            "Epoch 6/50\n",
            "4500/4500 [==============================] - 40s 9ms/step - loss: 1.8524e-08 - accuracy: 1.0000 - val_loss: 1.7132e-08 - val_accuracy: 1.0000\n",
            "Epoch 7/50\n",
            "4500/4500 [==============================] - 41s 9ms/step - loss: 1.6888e-08 - accuracy: 1.0000 - val_loss: 1.6164e-08 - val_accuracy: 1.0000\n",
            "Epoch 8/50\n",
            "4500/4500 [==============================] - 41s 9ms/step - loss: 1.6079e-08 - accuracy: 1.0000 - val_loss: 1.5521e-08 - val_accuracy: 1.0000\n",
            "Epoch 9/50\n",
            "4500/4500 [==============================] - 41s 9ms/step - loss: 1.5502e-08 - accuracy: 1.0000 - val_loss: 1.5022e-08 - val_accuracy: 1.0000\n",
            "Epoch 10/50\n",
            "4500/4500 [==============================] - 41s 9ms/step - loss: 1.5173e-08 - accuracy: 1.0000 - val_loss: 1.4784e-08 - val_accuracy: 1.0000\n",
            "Epoch 11/50\n",
            "4500/4500 [==============================] - 41s 9ms/step - loss: 1.4925e-08 - accuracy: 1.0000 - val_loss: 1.4446e-08 - val_accuracy: 1.0000\n",
            "Epoch 12/50\n",
            "4500/4500 [==============================] - 40s 9ms/step - loss: 1.4673e-08 - accuracy: 1.0000 - val_loss: 1.4350e-08 - val_accuracy: 1.0000\n",
            "Epoch 13/50\n",
            "4500/4500 [==============================] - 41s 9ms/step - loss: 1.4543e-08 - accuracy: 1.0000 - val_loss: 1.4202e-08 - val_accuracy: 1.0000\n",
            "Epoch 14/50\n",
            "4500/4500 [==============================] - 41s 9ms/step - loss: 1.4420e-08 - accuracy: 1.0000 - val_loss: 1.4088e-08 - val_accuracy: 1.0000\n",
            "Epoch 15/50\n",
            "4500/4500 [==============================] - 41s 9ms/step - loss: 1.4331e-08 - accuracy: 1.0000 - val_loss: 1.4001e-08 - val_accuracy: 1.0000\n",
            "Epoch 16/50\n",
            "4500/4500 [==============================] - 41s 9ms/step - loss: 1.4234e-08 - accuracy: 1.0000 - val_loss: 1.3911e-08 - val_accuracy: 1.0000\n",
            "Epoch 17/50\n",
            "4500/4500 [==============================] - 41s 9ms/step - loss: 1.4119e-08 - accuracy: 1.0000 - val_loss: 1.3752e-08 - val_accuracy: 1.0000\n",
            "Epoch 18/50\n",
            "4500/4500 [==============================] - 41s 9ms/step - loss: 1.4005e-08 - accuracy: 1.0000 - val_loss: 1.3746e-08 - val_accuracy: 1.0000\n",
            "Epoch 19/50\n",
            "4500/4500 [==============================] - 41s 9ms/step - loss: 1.3882e-08 - accuracy: 1.0000 - val_loss: 1.3530e-08 - val_accuracy: 1.0000\n",
            "Epoch 20/50\n",
            "4500/4500 [==============================] - 41s 9ms/step - loss: 1.3772e-08 - accuracy: 1.0000 - val_loss: 1.3532e-08 - val_accuracy: 1.0000\n",
            "Epoch 21/50\n",
            "4500/4500 [==============================] - 41s 9ms/step - loss: 1.3690e-08 - accuracy: 1.0000 - val_loss: 1.3458e-08 - val_accuracy: 1.0000\n",
            "Epoch 22/50\n",
            "4500/4500 [==============================] - 41s 9ms/step - loss: 1.3617e-08 - accuracy: 1.0000 - val_loss: 1.3439e-08 - val_accuracy: 1.0000\n",
            "Epoch 23/50\n",
            "4500/4500 [==============================] - 41s 9ms/step - loss: 1.3540e-08 - accuracy: 1.0000 - val_loss: 1.3289e-08 - val_accuracy: 1.0000\n",
            "Epoch 24/50\n",
            "4500/4500 [==============================] - 41s 9ms/step - loss: 1.3494e-08 - accuracy: 1.0000 - val_loss: 1.3328e-08 - val_accuracy: 1.0000\n",
            "Epoch 25/50\n",
            "4500/4500 [==============================] - 41s 9ms/step - loss: 1.3458e-08 - accuracy: 1.0000 - val_loss: 1.3237e-08 - val_accuracy: 1.0000\n",
            "Epoch 26/50\n",
            "4500/4500 [==============================] - 41s 9ms/step - loss: 1.3404e-08 - accuracy: 1.0000 - val_loss: 1.3106e-08 - val_accuracy: 1.0000\n",
            "Epoch 27/50\n",
            "4500/4500 [==============================] - 40s 9ms/step - loss: 1.3334e-08 - accuracy: 1.0000 - val_loss: 1.3050e-08 - val_accuracy: 1.0000\n",
            "Epoch 28/50\n",
            "4500/4500 [==============================] - 40s 9ms/step - loss: 1.3255e-08 - accuracy: 1.0000 - val_loss: 1.2972e-08 - val_accuracy: 1.0000\n",
            "Epoch 29/50\n",
            "4500/4500 [==============================] - 40s 9ms/step - loss: 1.3192e-08 - accuracy: 1.0000 - val_loss: 1.2926e-08 - val_accuracy: 1.0000\n",
            "Epoch 30/50\n",
            "4500/4500 [==============================] - 41s 9ms/step - loss: 1.3160e-08 - accuracy: 1.0000 - val_loss: 1.2855e-08 - val_accuracy: 1.0000\n",
            "Epoch 31/50\n",
            "4500/4500 [==============================] - 41s 9ms/step - loss: 1.3132e-08 - accuracy: 1.0000 - val_loss: 1.2928e-08 - val_accuracy: 1.0000\n",
            "Epoch 32/50\n",
            "4500/4500 [==============================] - 41s 9ms/step - loss: 1.3108e-08 - accuracy: 1.0000 - val_loss: 1.2814e-08 - val_accuracy: 1.0000\n",
            "Epoch 33/50\n",
            "4500/4500 [==============================] - 41s 9ms/step - loss: 1.3051e-08 - accuracy: 1.0000 - val_loss: 1.2799e-08 - val_accuracy: 1.0000\n",
            "Epoch 34/50\n",
            "4500/4500 [==============================] - 41s 9ms/step - loss: 1.2995e-08 - accuracy: 1.0000 - val_loss: 1.2726e-08 - val_accuracy: 1.0000\n",
            "Epoch 35/50\n",
            "4500/4500 [==============================] - 41s 9ms/step - loss: 1.2918e-08 - accuracy: 1.0000 - val_loss: 1.2618e-08 - val_accuracy: 1.0000\n",
            "Epoch 36/50\n",
            "4500/4500 [==============================] - 41s 9ms/step - loss: 1.2901e-08 - accuracy: 1.0000 - val_loss: 1.2655e-08 - val_accuracy: 1.0000\n",
            "Epoch 37/50\n",
            "4500/4500 [==============================] - 41s 9ms/step - loss: 1.2888e-08 - accuracy: 1.0000 - val_loss: 1.2637e-08 - val_accuracy: 1.0000\n",
            "Epoch 38/50\n",
            "4500/4500 [==============================] - 41s 9ms/step - loss: 1.2876e-08 - accuracy: 1.0000 - val_loss: 1.2617e-08 - val_accuracy: 1.0000\n",
            "Epoch 39/50\n",
            "4500/4500 [==============================] - 41s 9ms/step - loss: 1.2857e-08 - accuracy: 1.0000 - val_loss: 1.2654e-08 - val_accuracy: 1.0000\n",
            "Epoch 40/50\n",
            "4500/4500 [==============================] - 41s 9ms/step - loss: 1.2839e-08 - accuracy: 1.0000 - val_loss: 1.2565e-08 - val_accuracy: 1.0000\n",
            "Epoch 41/50\n",
            "4500/4500 [==============================] - 40s 9ms/step - loss: 1.2791e-08 - accuracy: 1.0000 - val_loss: 1.2577e-08 - val_accuracy: 1.0000\n",
            "Epoch 42/50\n",
            "4500/4500 [==============================] - 41s 9ms/step - loss: 1.2767e-08 - accuracy: 1.0000 - val_loss: 1.2597e-08 - val_accuracy: 1.0000\n",
            "Epoch 43/50\n",
            "4500/4500 [==============================] - 40s 9ms/step - loss: 1.2728e-08 - accuracy: 1.0000 - val_loss: 1.2534e-08 - val_accuracy: 1.0000\n",
            "Epoch 44/50\n",
            "4500/4500 [==============================] - 40s 9ms/step - loss: 1.2682e-08 - accuracy: 1.0000 - val_loss: 1.2442e-08 - val_accuracy: 1.0000\n",
            "Epoch 45/50\n",
            "4500/4500 [==============================] - 41s 9ms/step - loss: 1.2665e-08 - accuracy: 1.0000 - val_loss: 1.2360e-08 - val_accuracy: 1.0000\n",
            "Epoch 46/50\n",
            "4500/4500 [==============================] - 40s 9ms/step - loss: 1.2618e-08 - accuracy: 1.0000 - val_loss: 1.2380e-08 - val_accuracy: 1.0000\n",
            "Epoch 47/50\n",
            "4500/4500 [==============================] - 40s 9ms/step - loss: 1.2605e-08 - accuracy: 1.0000 - val_loss: 1.2393e-08 - val_accuracy: 1.0000\n",
            "Epoch 48/50\n",
            "4500/4500 [==============================] - 40s 9ms/step - loss: 1.2591e-08 - accuracy: 1.0000 - val_loss: 1.2368e-08 - val_accuracy: 1.0000\n",
            "Epoch 49/50\n",
            "4500/4500 [==============================] - 40s 9ms/step - loss: 1.2583e-08 - accuracy: 1.0000 - val_loss: 1.2359e-08 - val_accuracy: 1.0000\n",
            "Epoch 50/50\n",
            "4500/4500 [==============================] - 40s 9ms/step - loss: 1.2577e-08 - accuracy: 1.0000 - val_loss: 1.2382e-08 - val_accuracy: 1.0000\n",
            "Training Complete\n"
          ],
          "name": "stdout"
        }
      ]
    },
    {
      "cell_type": "code",
      "metadata": {
        "colab_type": "code",
        "id": "qxju4ItJKO8F",
        "outputId": "9db8e2b9-aac6-4458-99a4-f4b0c2956568",
        "colab": {
          "base_uri": "https://localhost:8080/",
          "height": 607
        }
      },
      "source": [
        "import matplotlib.image  as mpimg\n",
        "import matplotlib.pyplot as plt\n",
        "\n",
        "#-----------------------------------------------------------\n",
        "# Retrieve a list of list results on training and test data\n",
        "# sets for each training epoch\n",
        "#-----------------------------------------------------------\n",
        "acc=history.history['accuracy']\n",
        "val_acc=history.history['val_accuracy']\n",
        "loss=history.history['loss']\n",
        "val_loss=history.history['val_loss']\n",
        "\n",
        "epochs=range(len(acc)) # Get number of epochs\n",
        "\n",
        "#------------------------------------------------\n",
        "# Plot training and validation accuracy per epoch\n",
        "#------------------------------------------------\n",
        "plt.plot(epochs, acc, 'r')\n",
        "plt.plot(epochs, val_acc, 'b')\n",
        "plt.title('Training and validation accuracy')\n",
        "plt.xlabel(\"Epochs\")\n",
        "plt.ylabel(\"Accuracy\")\n",
        "plt.legend([\"Accuracy\", \"Validation Accuracy\"])\n",
        "\n",
        "plt.figure()\n",
        "\n",
        "#------------------------------------------------\n",
        "# Plot training and validation loss per epoch\n",
        "#------------------------------------------------\n",
        "plt.plot(epochs, loss, 'r')\n",
        "plt.plot(epochs, val_loss, 'b')\n",
        "plt.title('Training and validation loss')\n",
        "plt.xlabel(\"Epochs\")\n",
        "plt.ylabel(\"Loss\")\n",
        "plt.legend([\"Loss\", \"Validation Loss\"])\n",
        "\n",
        "plt.figure()\n",
        "\n",
        "\n",
        "# Expected Output\n",
        "# A chart where the validation loss does not increase sharply!"
      ],
      "execution_count": 0,
      "outputs": [
        {
          "output_type": "execute_result",
          "data": {
            "text/plain": [
              "<Figure size 432x288 with 0 Axes>"
            ]
          },
          "metadata": {
            "tags": []
          },
          "execution_count": 11
        },
        {
          "output_type": "display_data",
          "data": {
            "image/png": "[encoded data removed]",
            "text/plain": [
              "<Figure size 432x288 with 1 Axes>"
            ]
          },
          "metadata": {
            "tags": [],
            "needs_background": "light"
          }
        },
        {
          "output_type": "display_data",
          "data": {
            "image/png": "[encoded data removed]",
            "text/plain": [
              "<Figure size 432x288 with 1 Axes>"
            ]
          },
          "metadata": {
            "tags": [],
            "needs_background": "light"
          }
        },
        {
          "output_type": "display_data",
          "data": {
            "text/plain": [
              "<Figure size 432x288 with 0 Axes>"
            ]
          },
          "metadata": {
            "tags": []
          }
        }
      ]
    }
  ]
}