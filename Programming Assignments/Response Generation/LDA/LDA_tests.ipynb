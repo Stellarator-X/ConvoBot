{
  "nbformat": 4,
  "nbformat_minor": 0,
  "metadata": {
    "colab": {
      "name": "LDA_tests",
      "provenance": [],
      "collapsed_sections": []
    },
    "kernelspec": {
      "name": "python3",
      "display_name": "Python 3"
    },
    "accelerator": "GPU"
  },
  "cells": [
    {
      "cell_type": "code",
      "metadata": {
        "id": "uG73UxlYn71e",
        "colab_type": "code",
        "colab": {
          "base_uri": "https://localhost:8080/",
          "height": 34
        },
        "outputId": "8ffe975d-b240-4f7c-9d21-7e08e3842d07"
      },
      "source": [
        "!pip install aesthetix"
      ],
      "execution_count": 28,
      "outputs": [
        {
          "output_type": "stream",
          "text": [
            "Requirement already satisfied: aesthetix in /usr/local/lib/python3.6/dist-packages (0.0.1)\n"
          ],
          "name": "stdout"
        }
      ]
    },
    {
      "cell_type": "code",
      "metadata": {
        "id": "yeWRLyDVoDLL",
        "colab_type": "code",
        "colab": {}
      },
      "source": [
        "import aesthetix as at\n",
        "import numpy as np "
      ],
      "execution_count": 56,
      "outputs": []
    },
    {
      "cell_type": "code",
      "metadata": {
        "id": "b2i5KEDVm-ZQ",
        "colab_type": "code",
        "colab": {}
      },
      "source": [
        "import os\n",
        "if \"tweets.csv\" not in os.popen(\"ls\").read():\n",
        "  !wget https://raw.githubusercontent.com/Stellarator-X/ConvoBot/servus/Programming%20Assignments/Response%20Generation/LDA/tweets.csv"
      ],
      "execution_count": 30,
      "outputs": []
    },
    {
      "cell_type": "code",
      "metadata": {
        "id": "RZGKU77vkP1j",
        "colab_type": "code",
        "colab": {
          "base_uri": "https://localhost:8080/",
          "height": 111
        },
        "outputId": "75b83e62-5358-4a4c-eb92-7e8f003a38a5"
      },
      "source": [
        "import pandas as pd\n",
        "df_tweets = pd.read_csv('tweets.csv')\n",
        "df_tweets.head(2)"
      ],
      "execution_count": 133,
      "outputs": [
        {
          "output_type": "execute_result",
          "data": {
            "text/html": [
              "<div>\n",
              "<style scoped>\n",
              "    .dataframe tbody tr th:only-of-type {\n",
              "        vertical-align: middle;\n",
              "    }\n",
              "\n",
              "    .dataframe tbody tr th {\n",
              "        vertical-align: top;\n",
              "    }\n",
              "\n",
              "    .dataframe thead th {\n",
              "        text-align: right;\n",
              "    }\n",
              "</style>\n",
              "<table border=\"1\" class=\"dataframe\">\n",
              "  <thead>\n",
              "    <tr style=\"text-align: right;\">\n",
              "      <th></th>\n",
              "      <th>text</th>\n",
              "      <th>created_at</th>\n",
              "    </tr>\n",
              "  </thead>\n",
              "  <tbody>\n",
              "    <tr>\n",
              "      <th>0</th>\n",
              "      <td>Hogan Gidley will be leaving the White House o...</td>\n",
              "      <td>06-23-2020 17:23:40</td>\n",
              "    </tr>\n",
              "    <tr>\n",
              "      <th>1</th>\n",
              "      <td>....Dr. Anthony Fauci who is with us in all wa...</td>\n",
              "      <td>06-23-2020 14:41:52</td>\n",
              "    </tr>\n",
              "  </tbody>\n",
              "</table>\n",
              "</div>"
            ],
            "text/plain": [
              "                                                text           created_at\n",
              "0  Hogan Gidley will be leaving the White House o...  06-23-2020 17:23:40\n",
              "1  ....Dr. Anthony Fauci who is with us in all wa...  06-23-2020 14:41:52"
            ]
          },
          "metadata": {
            "tags": []
          },
          "execution_count": 133
        }
      ]
    },
    {
      "cell_type": "code",
      "metadata": {
        "id": "s9NlD8hFoVhn",
        "colab_type": "code",
        "colab": {
          "base_uri": "https://localhost:8080/",
          "height": 68
        },
        "outputId": "7c88f898-028d-4fff-9788-cc0a1061ebf8"
      },
      "source": [
        "import nltk\n",
        "nltk.download('stopwords')"
      ],
      "execution_count": 32,
      "outputs": [
        {
          "output_type": "stream",
          "text": [
            "[nltk_data] Downloading package stopwords to /root/nltk_data...\n",
            "[nltk_data]   Package stopwords is already up-to-date!\n"
          ],
          "name": "stdout"
        },
        {
          "output_type": "execute_result",
          "data": {
            "text/plain": [
              "True"
            ]
          },
          "metadata": {
            "tags": []
          },
          "execution_count": 32
        }
      ]
    },
    {
      "cell_type": "code",
      "metadata": {
        "id": "UMgymGpyE45T",
        "colab_type": "code",
        "colab": {
          "base_uri": "https://localhost:8080/",
          "height": 34
        },
        "outputId": "004dec05-3475-4d4b-ef37-49e48875df41"
      },
      "source": [
        "from nltk.corpus import stopwords\n",
        "en_stop_words = set(stopwords.words('english'))\n",
        "list(en_stop_words)[:10]"
      ],
      "execution_count": 33,
      "outputs": [
        {
          "output_type": "execute_result",
          "data": {
            "text/plain": [
              "['each', 'whom', 'had', 'more', 'that', 'same', 'no', 'an', 'to', 'wasn']"
            ]
          },
          "metadata": {
            "tags": []
          },
          "execution_count": 33
        }
      ]
    },
    {
      "cell_type": "code",
      "metadata": {
        "id": "06wgIaBKnlOx",
        "colab_type": "code",
        "colab": {
          "base_uri": "https://localhost:8080/",
          "height": 111
        },
        "outputId": "9b72e78a-b679-4448-d328-22dfbba580c5"
      },
      "source": [
        "from sklearn.feature_extraction.text import CountVectorizer\n",
        "from gensim.corpora import Dictionary\n",
        "from gensim.models.ldamodel import LdaModel\n",
        "from gensim.models import CoherenceModel\n",
        "from nltk.corpus import stopwords\n",
        "from nltk.tokenize import RegexpTokenizer\n",
        "from datetime import datetime\n",
        "import pandas as pd\n",
        "import re\n",
        "import math\n",
        "\n",
        "def clean_tweets(df=df_tweets, \n",
        "                 tweet_col='text', \n",
        "                 date_col='created_at',\n",
        "                 start_datetime=datetime(2017,1,20, 0, 0, 0)\n",
        "                ):\n",
        "    \n",
        "    df_copy = df.copy()\n",
        "    \n",
        "    # drop rows with empty values\n",
        "    df_copy.dropna(inplace=True)\n",
        "    \n",
        "    # format the date\n",
        "    df_copy[date_col] = df_copy[date_col].apply(lambda row: datetime.strptime(row, '%m-%d-%Y %H:%M:%S'))\n",
        "    \n",
        "    # filter rows older than a given date\n",
        "    df_copy = df_copy[df_copy[date_col] >=start_datetime]\n",
        "    \n",
        "    # lower the tweets\n",
        "    df_copy['preprocessed_' + tweet_col] = df_copy[tweet_col].str.lower()\n",
        "    \n",
        "    # filter out stop words and URLs\n",
        "    en_stop_words = set(stopwords.words('english'))\n",
        "    extended_stop_words = en_stop_words | \\\n",
        "                        {\n",
        "                            '&amp;', 'rt',                           \n",
        "                            'th','co', 're', 've', 'kim', 'daca'\n",
        "                        }\n",
        "    url_re = '(https?:\\/\\/(?:www\\.|(?!www))[a-zA-Z0-9][a-zA-Z0-9-]+[a-zA-Z0-9]\\.[^\\s]{2,}|www\\.[a-zA-Z0-9][a-zA-Z0-9-]+[a-zA-Z0-9]\\.[^\\s]{2,}|https?:\\/\\/(?:www\\.|(?!www))[a-zA-Z0-9]+\\.[^\\s]{2,}|www\\.[a-zA-Z0-9]+\\.[^\\s]{2,})'        \n",
        "    df_copy['preprocessed_' + tweet_col] = df_copy['preprocessed_' + tweet_col].apply(lambda row: ' '.join([word for word in row.split() if (not word in en_stop_words) and (not re.match(url_re, word))]))\n",
        "    \n",
        "    # tokenize the tweets\n",
        "    tokenizer = RegexpTokenizer('[a-zA-Z]\\w+\\'?\\w*')\n",
        "    df_copy['tokenized_' + tweet_col] = df_copy['preprocessed_' + tweet_col].apply(lambda row: tokenizer.tokenize(row))\n",
        "    \n",
        "    return df_copy\n",
        "  \n",
        "df_tweets = pd.read_csv('tweets.csv')\n",
        "df_tweets_clean = clean_tweets(df_tweets)\n",
        "df_tweets_clean.head(2)"
      ],
      "execution_count": 134,
      "outputs": [
        {
          "output_type": "execute_result",
          "data": {
            "text/html": [
              "<div>\n",
              "<style scoped>\n",
              "    .dataframe tbody tr th:only-of-type {\n",
              "        vertical-align: middle;\n",
              "    }\n",
              "\n",
              "    .dataframe tbody tr th {\n",
              "        vertical-align: top;\n",
              "    }\n",
              "\n",
              "    .dataframe thead th {\n",
              "        text-align: right;\n",
              "    }\n",
              "</style>\n",
              "<table border=\"1\" class=\"dataframe\">\n",
              "  <thead>\n",
              "    <tr style=\"text-align: right;\">\n",
              "      <th></th>\n",
              "      <th>text</th>\n",
              "      <th>created_at</th>\n",
              "      <th>preprocessed_text</th>\n",
              "      <th>tokenized_text</th>\n",
              "    </tr>\n",
              "  </thead>\n",
              "  <tbody>\n",
              "    <tr>\n",
              "      <th>0</th>\n",
              "      <td>Hogan Gidley will be leaving the White House o...</td>\n",
              "      <td>2020-06-23 17:23:40</td>\n",
              "      <td>hogan gidley leaving white house july 1 headin...</td>\n",
              "      <td>[hogan, gidley, leaving, white, house, july, h...</td>\n",
              "    </tr>\n",
              "    <tr>\n",
              "      <th>1</th>\n",
              "      <td>....Dr. Anthony Fauci who is with us in all wa...</td>\n",
              "      <td>2020-06-23 14:41:52</td>\n",
              "      <td>....dr. anthony fauci us ways high 72% approva...</td>\n",
              "      <td>[dr, anthony, fauci, us, ways, high, approval,...</td>\n",
              "    </tr>\n",
              "  </tbody>\n",
              "</table>\n",
              "</div>"
            ],
            "text/plain": [
              "                                                text  ...                                     tokenized_text\n",
              "0  Hogan Gidley will be leaving the White House o...  ...  [hogan, gidley, leaving, white, house, july, h...\n",
              "1  ....Dr. Anthony Fauci who is with us in all wa...  ...  [dr, anthony, fauci, us, ways, high, approval,...\n",
              "\n",
              "[2 rows x 4 columns]"
            ]
          },
          "metadata": {
            "tags": []
          },
          "execution_count": 134
        }
      ]
    },
    {
      "cell_type": "code",
      "metadata": {
        "id": "dx80t4n-Bywf",
        "colab_type": "code",
        "colab": {
          "base_uri": "https://localhost:8080/",
          "height": 34
        },
        "outputId": "22f476a5-7c7f-446f-e7df-5c6024193ccb"
      },
      "source": [
        "print(tweets_dictionary[1])"
      ],
      "execution_count": 41,
      "outputs": [
        {
          "output_type": "stream",
          "text": [
            "election\n"
          ],
          "name": "stdout"
        }
      ]
    },
    {
      "cell_type": "code",
      "metadata": {
        "id": "40D5MxGyCz54",
        "colab_type": "code",
        "colab": {}
      },
      "source": [
        "# Trying to build the same with tf tokenized sequences : our output :)\n",
        "from tensorflow.keras.preprocessing.text import Tokenizer, tokenizer_from_json\n",
        "from tensorflow.keras.preprocessing.sequence import pad_sequences\n",
        "\n",
        "oov_token = \"<OOV>\"\n",
        "tokenizer = Tokenizer(oov_token=oov_token)\n",
        "tokenizer.fit_on_texts(df_tweets_clean.preprocessed_text)"
      ],
      "execution_count": 42,
      "outputs": []
    },
    {
      "cell_type": "code",
      "metadata": {
        "id": "ST2mJycXEx9k",
        "colab_type": "code",
        "colab": {
          "base_uri": "https://localhost:8080/",
          "height": 34
        },
        "outputId": "5f10e6bb-03de-43de-9beb-05068c8c8e8d"
      },
      "source": [
        "word_index= tokenizer.word_index\n",
        "index_word = {word_index[word]:word for word in word_index}\n",
        "\n",
        "print(index_word[2])"
      ],
      "execution_count": 43,
      "outputs": [
        {
          "output_type": "stream",
          "text": [
            "rt\n"
          ],
          "name": "stdout"
        }
      ]
    },
    {
      "cell_type": "code",
      "metadata": {
        "id": "nCmi0q6oFg0_",
        "colab_type": "code",
        "colab": {}
      },
      "source": [
        "seq = tokenizer.texts_to_sequences(df_tweets_clean.preprocessed_text)"
      ],
      "execution_count": 44,
      "outputs": []
    },
    {
      "cell_type": "code",
      "metadata": {
        "id": "RLNQcUxIFGB2",
        "colab_type": "code",
        "colab": {}
      },
      "source": [
        "def build_lda_corpus(sequences, verbose = False):\n",
        "  corpus = []\n",
        "  net = len(sequences)\n",
        "  for num, line in enumerate(sequences):\n",
        "    if verbose : at.progress_bar(\"Generating the Corpus  : \", num, net)\n",
        "    counts = [line.count(elt) for elt in line]\n",
        "    line_ = list(set([(line[i], counts[i]) for i in range(len(counts))]))\n",
        "    corpus.append(line_)\n",
        "  return corpus\n"
      ],
      "execution_count": 45,
      "outputs": []
    },
    {
      "cell_type": "code",
      "metadata": {
        "id": "uwfhK2lFH2p9",
        "colab_type": "code",
        "colab": {
          "base_uri": "https://localhost:8080/",
          "height": 34
        },
        "outputId": "4b7da9d8-9e99-46ad-c363-6ef947b27de2"
      },
      "source": [
        "corpus  = build_lda_corpus(seq, True)"
      ],
      "execution_count": 46,
      "outputs": [
        {
          "output_type": "stream",
          "text": [
            "Generating the Corpus  : :[==============================](100.00%)  \n"
          ],
          "name": "stdout"
        }
      ]
    },
    {
      "cell_type": "code",
      "metadata": {
        "id": "4b6t1LkjIE4f",
        "colab_type": "code",
        "colab": {}
      },
      "source": [
        "new_lda = LdaModel(corpus = corpus, num_topics = 10, id2word=index_word, passes = 10)"
      ],
      "execution_count": 47,
      "outputs": []
    },
    {
      "cell_type": "code",
      "metadata": {
        "id": "7VzvrV86IwyL",
        "colab_type": "code",
        "colab": {
          "base_uri": "https://localhost:8080/",
          "height": 864
        },
        "outputId": "143cb208-668a-4e48-fe62-4dc71bf54c3b"
      },
      "source": [
        "plot_top_words(new_lda, 9, 10)"
      ],
      "execution_count": 48,
      "outputs": [
        {
          "output_type": "display_data",
          "data": {
            "image/png": "[encoded data removed]",
            "text/plain": [
              "<Figure size 1440x1080 with 9 Axes>"
            ]
          },
          "metadata": {
            "tags": [],
            "needs_background": "light"
          }
        }
      ]
    },
    {
      "cell_type": "code",
      "metadata": {
        "id": "zWFgZ8kYJt9L",
        "colab_type": "code",
        "colab": {
          "base_uri": "https://localhost:8080/",
          "height": 34
        },
        "outputId": "ce3c875b-a2fd-4b1b-de90-e6a476a1bac0"
      },
      "source": [
        "true_line = ['The president is a fraud and should be impeached on the basis of his browser history alone', \n",
        "             'America has seen the greatest rise in its economy since Vladmir Putin became the de facto president']\n",
        "true_seq = tokenizer.texts_to_sequences(true_line)\n",
        "print(len(true_seq[0]), len(true_seq[1]))"
      ],
      "execution_count": 65,
      "outputs": [
        {
          "output_type": "stream",
          "text": [
            "17 17\n"
          ],
          "name": "stdout"
        }
      ]
    },
    {
      "cell_type": "code",
      "metadata": {
        "id": "ayyydy4hPhfQ",
        "colab_type": "code",
        "colab": {}
      },
      "source": [
        "pred = new_lda[build_lda_corpus(true_seq)]"
      ],
      "execution_count": 59,
      "outputs": []
    },
    {
      "cell_type": "code",
      "metadata": {
        "id": "c8TDmA4kPnjV",
        "colab_type": "code",
        "colab": {
          "base_uri": "https://localhost:8080/",
          "height": 34
        },
        "outputId": "998f3dcb-2514-49a9-b7b9-1fb7b7e61aa6"
      },
      "source": [
        "pred = np.array(pred)\n",
        "print(pred.shape)"
      ],
      "execution_count": 60,
      "outputs": [
        {
          "output_type": "stream",
          "text": [
            "(2,)\n"
          ],
          "name": "stdout"
        }
      ]
    },
    {
      "cell_type": "code",
      "metadata": {
        "id": "-sV9sc0mQcb0",
        "colab_type": "code",
        "colab": {
          "base_uri": "https://localhost:8080/",
          "height": 68
        },
        "outputId": "44ce558e-7cd4-4e82-d00a-bf98066bbd9a"
      },
      "source": [
        "pred"
      ],
      "execution_count": 62,
      "outputs": [
        {
          "output_type": "execute_result",
          "data": {
            "text/plain": [
              "array([list([(0, 0.14093894), (1, 0.06870345), (3, 0.09096206), (4, 0.13114375), (5, 0.17102918), (6, 0.093877055), (9, 0.2866765)]),\n",
              "       list([(0, 0.106252104), (1, 0.14662474), (6, 0.4018121), (7, 0.07679867), (8, 0.24072558)])],\n",
              "      dtype=object)"
            ]
          },
          "metadata": {
            "tags": []
          },
          "execution_count": 62
        }
      ]
    },
    {
      "cell_type": "code",
      "metadata": {
        "id": "D-AbWQIHRR_O",
        "colab_type": "code",
        "colab": {}
      },
      "source": [
        "true_seq"
      ],
      "execution_count": null,
      "outputs": []
    },
    {
      "cell_type": "code",
      "metadata": {
        "id": "rCJXEXAnQjUd",
        "colab_type": "code",
        "colab": {
          "base_uri": "https://localhost:8080/",
          "height": 34
        },
        "outputId": "13c21e4a-862d-4ce9-e30b-c3660ead3a9c"
      },
      "source": [
        "pred_ = new_lda.get_document_topics(build_lda_corpus(true_seq), minimum_probability = 0.0)\n",
        "pred_ = np.array(pred_)\n",
        "print(pred_.shape)"
      ],
      "execution_count": 71,
      "outputs": [
        {
          "output_type": "stream",
          "text": [
            "(2, 10, 2)\n"
          ],
          "name": "stdout"
        }
      ]
    },
    {
      "cell_type": "code",
      "metadata": {
        "id": "M5iKdCfMMwvF",
        "colab_type": "code",
        "colab": {}
      },
      "source": [
        "top_topics = new_lda.get_document_topics(build_lda_corpus(true_seq)[0], minimum_probability=0.0)\n",
        "topic_vec = [top_topics[i][1] for i in range(10)]"
      ],
      "execution_count": 51,
      "outputs": []
    },
    {
      "cell_type": "code",
      "metadata": {
        "id": "rmKzcV77O6aD",
        "colab_type": "code",
        "colab": {
          "base_uri": "https://localhost:8080/",
          "height": 54
        },
        "outputId": "1693d0ee-822a-492a-f922-acbdeb856cb2"
      },
      "source": [
        "print(top_topics)"
      ],
      "execution_count": 52,
      "outputs": [
        {
          "output_type": "stream",
          "text": [
            "[(0, 0.14094275), (1, 0.0687034), (2, 0.00555672), (3, 0.090952784), (4, 0.1312169), (5, 0.17096779), (6, 0.093871094), (7, 0.005556246), (8, 0.0055561364), (9, 0.28667614)]\n"
          ],
          "name": "stdout"
        }
      ]
    },
    {
      "cell_type": "code",
      "metadata": {
        "id": "YA0_vBnhO9Q-",
        "colab_type": "code",
        "colab": {
          "base_uri": "https://localhost:8080/",
          "height": 187
        },
        "outputId": "c73f7ae9-681c-4fae-8b8d-caafc9033cd9"
      },
      "source": [
        "topic_vec"
      ],
      "execution_count": 53,
      "outputs": [
        {
          "output_type": "execute_result",
          "data": {
            "text/plain": [
              "[0.14094275,\n",
              " 0.0687034,\n",
              " 0.00555672,\n",
              " 0.090952784,\n",
              " 0.1312169,\n",
              " 0.17096779,\n",
              " 0.093871094,\n",
              " 0.005556246,\n",
              " 0.0055561364,\n",
              " 0.28667614]"
            ]
          },
          "metadata": {
            "tags": []
          },
          "execution_count": 53
        }
      ]
    },
    {
      "cell_type": "code",
      "metadata": {
        "id": "vgZQnlwTPK6u",
        "colab_type": "code",
        "colab": {}
      },
      "source": [
        "import tensorflow as tf"
      ],
      "execution_count": 73,
      "outputs": []
    },
    {
      "cell_type": "code",
      "metadata": {
        "id": "AH26fcXNcqsZ",
        "colab_type": "code",
        "colab": {}
      },
      "source": [
        "# Topic Prediction Layer for our model\n",
        "\n",
        "class TopicPrediction(tf.keras.layers.Layer): \n",
        "  \"\"\"\n",
        "    Topic Prediction using a pre-trained gensim LdaModel\n",
        "    init\n",
        "      params : \n",
        "        LdaModel : instance of trained gensim.ldamodel.LdaModel\n",
        "        num_topics : num_topics for the model\n",
        "        dims : required dims for topic vector\n",
        "    call() \n",
        "      params:\n",
        "        inp : input batch of shape (batch_size, maxlen)\n",
        "      returns :\n",
        "          predicted topic tensor of shape (batch_size, dims)\n",
        "  \"\"\"\n",
        "  def __init__(self, ldaModel, num_topics, dims):\n",
        "    super(TopicPrediction, self).__init__(trainable= False)\n",
        "    self.ldaModel = ldaModel\n",
        "    assert(dims >= num_topics), f\"The required dims({dims}) are less than num_topics ({num_topics})\"\n",
        "    self.dims = dims\n",
        "    self.num_topics=num_topics\n",
        "\n",
        "  def convert_to_corpus(self, sequences):\n",
        "    corpus = []\n",
        "    for num, line in enumerate(sequences):\n",
        "      counts = [list(line).count(elt) for elt in line]\n",
        "      line_ = list(set([(line.numpy()[i], counts[i]) for i in range(len(counts))]))\n",
        "      corpus.append(line_)\n",
        "    return corpus\n",
        "\n",
        "  def call(self, inp):\n",
        "    bs = inp.shape[0]\n",
        "    vec = np.zeros((bs,self.dims))\n",
        "    corpus = self.convert_to_corpus(inp)\n",
        "    topic_vec = self.ldaModel.get_document_topics(corpus, minimum_probability = 0.0)\n",
        "    topic_vec = np.array(topic_vec)[:, :, 1]\n",
        "    vec[:, :self.num_topics] = topic_vec\n",
        "    return tf.convert_to_tensor(vec)\n"
      ],
      "execution_count": 127,
      "outputs": []
    },
    {
      "cell_type": "code",
      "metadata": {
        "id": "OGIzOYSYHtWf",
        "colab_type": "code",
        "colab": {}
      },
      "source": [
        "test_topic_layer = TopicPrediction(new_lda, num_topics = 10, dims = 100)"
      ],
      "execution_count": 128,
      "outputs": []
    },
    {
      "cell_type": "code",
      "metadata": {
        "id": "Qb68KcaiTQOB",
        "colab_type": "code",
        "colab": {}
      },
      "source": [
        "a = test_topic_layer(tf.convert_to_tensor(true_seq))"
      ],
      "execution_count": 129,
      "outputs": []
    },
    {
      "cell_type": "code",
      "metadata": {
        "id": "paoxlokWTj8t",
        "colab_type": "code",
        "colab": {
          "base_uri": "https://localhost:8080/",
          "height": 34
        },
        "outputId": "9574e5d9-9512-49a0-bb38-23cf876cc908"
      },
      "source": [
        "print(a.shape)"
      ],
      "execution_count": 132,
      "outputs": [
        {
          "output_type": "stream",
          "text": [
            "(2, 100)\n"
          ],
          "name": "stdout"
        }
      ]
    }
  ]
}