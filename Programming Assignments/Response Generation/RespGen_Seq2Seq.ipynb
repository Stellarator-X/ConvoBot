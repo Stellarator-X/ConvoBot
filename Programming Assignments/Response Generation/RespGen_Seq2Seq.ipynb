{
  "nbformat": 4,
  "nbformat_minor": 0,
  "metadata": {
    "colab": {
      "name": "Copy of RespGen",
      "provenance": [],
      "collapsed_sections": [
        "Ws1Spfzewx6X",
        "7lkmLE5ju7ZD",
        "d5AJUVbmvBr8"
      ]
    },
    "kernelspec": {
      "name": "python3",
      "display_name": "Python 3"
    },
    "accelerator": "GPU"
  },
  "cells": [
    {
      "cell_type": "markdown",
      "metadata": {
        "id": "Ikyk5tcEvFZg",
        "colab_type": "text"
      },
      "source": [
        "# Data Loading and Generation"
      ]
    },
    {
      "cell_type": "code",
      "metadata": {
        "id": "E-WKEkwBTft4",
        "colab_type": "code",
        "colab": {
          "base_uri": "https://localhost:8080/",
          "height": 445
        },
        "outputId": "f3f60790-6615-40a5-8136-891d6a95c657"
      },
      "source": [
        "import os\n",
        "if \"aesthetix.py\" not in os.popen(\"ls\").read():\n",
        "  !wget https://raw.githubusercontent.com/Stellarator-X/ConvoBot/servus/Programming%20Assignments/Speech%20Recognition/ds_utils/aesthetix.py\n",
        "import numpy as np \n",
        "from sklearn.model_selection import train_test_split\n",
        "import aesthetix as at\n",
        "\n",
        "# Downloading movie_lines\n",
        "if \"movie_lines.txt\" not in os.popen(\"ls\").read():\n",
        "  !wget https://raw.githubusercontent.com/Stellarator-X/ConvoBot/servus/Programming%20Assignments/Response%20Generation/movie_lines.txt\n",
        "\n",
        "movielines = open(\"movie_lines.txt\", mode='r')\n",
        "print(movielines)\n",
        "lines = movielines.readlines()\n",
        "print(len(lines))\n",
        "\n",
        "def clean_str(_str):\n",
        "  _str = _str.strip()\n",
        "  _str = _str.lower()\n",
        "  _str = _str.replace(\".\", \"\")\n",
        "  _str = _str.replace(\",\", \"\")\n",
        "  _str = _str.replace(\"?\", \"\")\n",
        "  _str = _str.replace(\"!\", \"\")\n",
        "  _str = _str.replace(\":\", \"\")\n",
        "  _str = _str.replace(\"-\", \" \")\n",
        "  _str = _str.replace(\"_\", \" \")\n",
        "  _str = _str.replace(\"\\\\\", \"\")\n",
        "  _str = _str.replace(\"  \", \" \")\n",
        "  return _str\n",
        "\n"
      ],
      "execution_count": 1,
      "outputs": [
        {
          "output_type": "stream",
          "text": [
            "--2020-06-21 10:23:55--  https://raw.githubusercontent.com/Stellarator-X/ConvoBot/servus/Programming%20Assignments/Speech%20Recognition/ds_utils/aesthetix.py\n",
            "Resolving raw.githubusercontent.com (raw.githubusercontent.com)... 151.101.0.133, 151.101.64.133, 151.101.128.133, ...\n",
            "Connecting to raw.githubusercontent.com (raw.githubusercontent.com)|151.101.0.133|:443... connected.\n",
            "HTTP request sent, awaiting response... 200 OK\n",
            "Length: 1212 (1.2K) [text/plain]\n",
            "Saving to: ‘aesthetix.py’\n",
            "\n",
            "\raesthetix.py          0%[                    ]       0  --.-KB/s               \raesthetix.py        100%[===================>]   1.18K  --.-KB/s    in 0s      \n",
            "\n",
            "2020-06-21 10:23:55 (59.9 MB/s) - ‘aesthetix.py’ saved [1212/1212]\n",
            "\n",
            "--2020-06-21 10:24:00--  https://raw.githubusercontent.com/Stellarator-X/ConvoBot/servus/Programming%20Assignments/Response%20Generation/movie_lines.txt\n",
            "Resolving raw.githubusercontent.com (raw.githubusercontent.com)... 151.101.0.133, 151.101.64.133, 151.101.128.133, ...\n",
            "Connecting to raw.githubusercontent.com (raw.githubusercontent.com)|151.101.0.133|:443... connected.\n",
            "HTTP request sent, awaiting response... 200 OK\n",
            "Length: 34641921 (33M) [text/plain]\n",
            "Saving to: ‘movie_lines.txt’\n",
            "\n",
            "movie_lines.txt     100%[===================>]  33.04M  49.0MB/s    in 0.7s    \n",
            "\n",
            "2020-06-21 10:24:02 (49.0 MB/s) - ‘movie_lines.txt’ saved [34641921/34641921]\n",
            "\n",
            "<_io.TextIOWrapper name='movie_lines.txt' mode='r' encoding='UTF-8'>\n",
            "304713\n"
          ],
          "name": "stdout"
        }
      ]
    },
    {
      "cell_type": "code",
      "metadata": {
        "id": "CWbYZKqToG6e",
        "colab_type": "code",
        "colab": {
          "base_uri": "https://localhost:8080/",
          "height": 221
        },
        "outputId": "4ddacce3-0d81-48d5-c8c1-97820fa9531d"
      },
      "source": [
        "sample_size = 20000\n",
        "cleanlines = []\n",
        "for i, line in enumerate(lines[:sample_size]):\n",
        "  at.progress_bar(\"Cleaning the lines\", i, len(lines[:sample_size]))\n",
        "  speaker, line = line.split('+++$+++ ')[-2:]\n",
        "  cleanlines.append([speaker.split(\" \")[0], line.split('\\n')[0]])\n",
        "\n",
        "cleanlines.reverse()\n",
        "cleanlines = np.array(cleanlines)\n",
        "for line in cleanlines[:10]:\n",
        "  print(line[0],\":\",line[1])\n",
        "\n",
        "\n",
        "# Forming the dataset \n",
        "response_data = []\n",
        "l = len(cleanlines)-1\n",
        "for i, line in enumerate(cleanlines[:-1]):\n",
        "  at.progress_bar(\"Generating Stimulus-Response Pairs\", i, l)\n",
        "  speaker, utterance = line\n",
        "  next_speaker, next_utterance = cleanlines[i+1]\n",
        "  if speaker is not next_speaker:\n",
        "    response_data.append(np.array([\"<start> \"+clean_str(utterance)+\" <end>\", \"<start> \"+clean_str(next_utterance)+\" <end>\"]))\n",
        "  \n",
        "response_data = np.array(response_data)\n",
        "print(response_data.shape)\n",
        "print(response_data[-10:])"
      ],
      "execution_count": null,
      "outputs": [
        {
          "output_type": "stream",
          "text": [
            "Cleaning the lines:[==============================](100.00%)  \n",
            "PRINCESS : Sir, I... come to beg you to confess all, and swear allegiance to the king, that he might show you mercy.\n",
            "WALLACE : Will he show mercy to my country? Will he take back his soldiers, and let us rule ourselves?\n",
            "PRINCESS : Mercy... is to die quickly. Perhaps even live in the Tower. In time, who knows what can happen, if you can only live.\n",
            "WALLACE : If I swear to him, then everything I am is dead already.\n",
            "PRINCESS : You will die! It will be awful!\n",
            "WALLACE : Every man dies. Not every man really lives.\n",
            "PRINCESS : Drink this! It will dull your pain.\n",
            "WALLACE : It will numb my wits, and I must have them all. If I'm senseless, or if I wail, then Longshanks will have broken me.\n",
            "PRINCESS : I can't bear the thought of your torture. Take it!\n",
            "NICOLETTE : When the king returns he will bury them in those new clothes. Scotland is in chaos. Your husband is secretly sending an army north.\n",
            "Generating Stimulus-Response Pairs:[==============================](98.41%)  "
          ],
          "name": "stdout"
        }
      ]
    },
    {
      "cell_type": "code",
      "metadata": {
        "id": "HZzsXP40I3hy",
        "colab_type": "code",
        "colab": {}
      },
      "source": [
        "# import pandas as pd\n",
        "# a = pd.DataFrame({'Context': response_data[:, 0], 'Responses': response_data[:, 1]})\n",
        "# a.to_csv(\"Dat.csv\")"
      ],
      "execution_count": null,
      "outputs": []
    },
    {
      "cell_type": "code",
      "metadata": {
        "id": "akxSWd_XybuY",
        "colab_type": "code",
        "colab": {
          "base_uri": "https://localhost:8080/",
          "height": 319
        },
        "outputId": "d59853c7-a70d-420b-aa9a-fc940de77533"
      },
      "source": [
        "import matplotlib.pyplot as plt \n",
        "%matplotlib inline\n",
        "a = [len(s) for s in response_data[:,0]]\n",
        "# a_ = [s for s in response_data[:,0] if len(s)>2000]\n",
        "plt.plot(a)\n",
        "plt.show()\n",
        "print(np.mean(np.array(a)))\n",
        "print(\"Longest utterance : \", response_data[np.argmax(a), 0])"
      ],
      "execution_count": 4,
      "outputs": [
        {
          "output_type": "display_data",
          "data": {
            "image/png": "[encoded data removed]",
            "text/plain": [
              "<Figure size 432x288 with 1 Axes>"
            ]
          },
          "metadata": {
            "tags": [],
            "needs_background": "light"
          }
        },
        {
          "output_type": "stream",
          "text": [
            "64.51767588379418\n",
            "Longest utterance :  <start> you've got penthouse playboy hustler etc nobody even considers them pornography anymore then there's mainstream hardcore triple x the difference is penetration that's hardcore that whole industry's up in the valley writers directors porn stars they're celebrities or they think they are they pump out 150 videos a week a week they've even got a porno academy awards america loves pornography anybody tells you they never use pornography they're lying somebody's buying those videos somebody's out there spending 900 million dollars a year on phone sex know what else it's only gonna get worse more and more you'll see perverse hardcore coming into the mainstream because that's evolution desensitization oh my god elvis presley's wiggling his hips how offensive nowadays mtv's showing girls dancing around in thong bikinis with their asses hanging out know what i mean for the porn addict big tits aren't big enough after a while they have to be the biggest tits ever some porn chicks are putting in breast implants bigger than your head literally soon playboy is gonna be penthouse penthouse'll be hustler hustler'll be hardcore and hardcore films'll be medical films people'll be jerking off to women laying around with open wounds there's nowhere else for it to go <end>\n"
          ],
          "name": "stdout"
        }
      ]
    },
    {
      "cell_type": "code",
      "metadata": {
        "id": "374Iz8aIWnKr",
        "colab_type": "code",
        "colab": {}
      },
      "source": [
        "# Preprocessing the Data\n",
        "from tensorflow.keras.preprocessing.text import Tokenizer \n",
        "from tensorflow.keras.preprocessing.sequence import pad_sequences\n",
        "\n",
        "oov_token = \"<OOV>\"\n",
        "max_length = 25\n",
        "stimuli = response_data[:, 0]\n",
        "responses = response_data[:, 1]\n",
        "\n",
        "tokenizer = Tokenizer(oov_token=oov_token)\n",
        "tokenizer.fit_on_texts(stimuli)\n",
        "\n",
        "word_index = tokenizer.word_index\n",
        "word_index['<start>'] = 0\n",
        "word_index['<end>'] = len(word_index)+1\n",
        "index_word = {word_index[word]:word for word in word_index}\n",
        "vocab_size = len(word_index)\n",
        "stimulus_sequences = tokenizer.texts_to_sequences(stimuli)\n",
        "response_sequences = tokenizer.texts_to_sequences(responses)\n",
        "\n",
        "padded_stimulus_sequences = pad_sequences(stimulus_sequences, maxlen = max_length ,padding = 'post', truncating = 'post')\n",
        "padded_response_sequences = pad_sequences(response_sequences, maxlen = max_length, padding = 'post', truncating = 'post')\n"
      ],
      "execution_count": 5,
      "outputs": []
    },
    {
      "cell_type": "code",
      "metadata": {
        "id": "FYlQ5qIt3del",
        "colab_type": "code",
        "colab": {
          "base_uri": "https://localhost:8080/",
          "height": 34
        },
        "outputId": "9c679cff-1324-46f8-c4e7-408fd139543e"
      },
      "source": [
        "index_word[1829]"
      ],
      "execution_count": 6,
      "outputs": [
        {
          "output_type": "execute_result",
          "data": {
            "text/plain": [
              "'confess'"
            ]
          },
          "metadata": {
            "tags": []
          },
          "execution_count": 6
        }
      ]
    },
    {
      "cell_type": "code",
      "metadata": {
        "id": "WQG3-6YfwYv9",
        "colab_type": "code",
        "colab": {
          "base_uri": "https://localhost:8080/",
          "height": 204
        },
        "outputId": "71ddf435-bb9f-48a6-ccbf-14adfe10d1ab"
      },
      "source": [
        "# Getting the embedding weights from pre-trained glove vectors\n",
        "embedding_dim = 100\n",
        "\n",
        "!wget --no-check-certificate \\\n",
        "    https://storage.googleapis.com/laurencemoroney-blog.appspot.com/glove.6B.100d.txt \\\n",
        "    -O /tmp/glove.6B.100d.txt\n",
        "embeddings_index = {};\n",
        "with open('/tmp/glove.6B.100d.txt') as f:\n",
        "    for line in f:\n",
        "        values = line.split();\n",
        "        word = values[0];\n",
        "        coefs = np.asarray(values[1:], dtype='float32');\n",
        "        embeddings_index[word] = coefs;\n",
        "\n",
        "embeddings_matrix = np.zeros((vocab_size+1, embedding_dim));\n",
        "for word, i in word_index.items():\n",
        "    embedding_vector = embeddings_index.get(word);\n",
        "    if embedding_vector is not None:\n",
        "        embeddings_matrix[i] = embedding_vector;"
      ],
      "execution_count": 7,
      "outputs": [
        {
          "output_type": "stream",
          "text": [
            "--2020-06-21 10:25:14--  https://storage.googleapis.com/laurencemoroney-blog.appspot.com/glove.6B.100d.txt\n",
            "Resolving storage.googleapis.com (storage.googleapis.com)... 74.125.203.128, 2404:6800:4008:c05::80\n",
            "Connecting to storage.googleapis.com (storage.googleapis.com)|74.125.203.128|:443... connected.\n",
            "HTTP request sent, awaiting response... 200 OK\n",
            "Length: 347116733 (331M) [text/plain]\n",
            "Saving to: ‘/tmp/glove.6B.100d.txt’\n",
            "\n",
            "/tmp/glove.6B.100d. 100%[===================>] 331.04M  66.5MB/s    in 5.4s    \n",
            "\n",
            "2020-06-21 10:25:19 (61.4 MB/s) - ‘/tmp/glove.6B.100d.txt’ saved [347116733/347116733]\n",
            "\n"
          ],
          "name": "stdout"
        }
      ]
    },
    {
      "cell_type": "markdown",
      "metadata": {
        "id": "e_suV3kj_grY",
        "colab_type": "text"
      },
      "source": [
        "# Encoder-Decoder with Attention\n"
      ]
    },
    {
      "cell_type": "code",
      "metadata": {
        "id": "XzH3Ym73U3oG",
        "colab_type": "code",
        "colab": {
          "base_uri": "https://localhost:8080/",
          "height": 34
        },
        "outputId": "024d8f6b-f9cd-4071-cb22-661dd96b46d6"
      },
      "source": [
        "import numpy as np \n",
        "import matplotlib.pyplot as plt\n",
        "import tensorflow as tf \n",
        "from tensorflow.keras.models import Sequential, Model\n",
        "from tensorflow.keras.layers import Dense, Bidirectional, Embedding, LSTM, RepeatVector, Concatenate, Dot, Activation, Input\n",
        "from tensorflow.keras import backend as K\n",
        "import tensorflow_addons as tfa\n",
        "print(tf.__version__)\n",
        "%matplotlib inline"
      ],
      "execution_count": 8,
      "outputs": [
        {
          "output_type": "stream",
          "text": [
            "2.2.0\n"
          ],
          "name": "stdout"
        }
      ]
    },
    {
      "cell_type": "code",
      "metadata": {
        "id": "lm-JgxBABu2w",
        "colab_type": "code",
        "colab": {}
      },
      "source": [
        "BATCH_SIZE = 500\n",
        "BUFFER_SIZE = len(padded_response_sequences)\n",
        "num_dat_sets = 1\n",
        "steps_per_epoch = BUFFER_SIZE//(BATCH_SIZE*num_dat_sets)\n",
        "embedding_dims = 256\n",
        "rnn_units = 1024\n",
        "dense_units = 1024\n",
        "Dtype = tf.float32   #used to initialize DecoderCell Zero state\n",
        "Tx = max_length\n",
        "Ty = max_length"
      ],
      "execution_count": 9,
      "outputs": []
    },
    {
      "cell_type": "code",
      "metadata": {
        "id": "5G74NjgwrPr6",
        "colab_type": "code",
        "colab": {
          "base_uri": "https://localhost:8080/",
          "height": 34
        },
        "outputId": "c36290ca-f166-49bc-be5d-26212e3bd547"
      },
      "source": [
        "BUFFER_SIZE"
      ],
      "execution_count": 10,
      "outputs": [
        {
          "output_type": "execute_result",
          "data": {
            "text/plain": [
              "19999"
            ]
          },
          "metadata": {
            "tags": []
          },
          "execution_count": 10
        }
      ]
    },
    {
      "cell_type": "code",
      "metadata": {
        "id": "boctA40PJomZ",
        "colab_type": "code",
        "colab": {
          "base_uri": "https://localhost:8080/",
          "height": 51
        },
        "outputId": "1e517cc7-e6d9-4dce-da05-78e13cf6261d"
      },
      "source": [
        "# Initialising the dataset\n",
        "num_dats = BUFFER_SIZE // num_dat_sets\n",
        "datasets = [tf.data.Dataset.from_tensor_slices((padded_stimulus_sequences[i*num_dats:(i+1)*num_dats], padded_response_sequences[i*num_dats:(i+1)*num_dats])).shuffle(num_dats).batch(BATCH_SIZE, drop_remainder=True) for i in range(num_dat_sets) ]\n",
        "example_X, example_Y = next(iter(datasets[0]))\n",
        "print(example_X.shape) \n",
        "print(example_Y.shape)"
      ],
      "execution_count": 11,
      "outputs": [
        {
          "output_type": "stream",
          "text": [
            "(500, 25)\n",
            "(500, 25)\n"
          ],
          "name": "stdout"
        }
      ]
    },
    {
      "cell_type": "code",
      "metadata": {
        "id": "UfvCq9Ii_lZB",
        "colab_type": "code",
        "colab": {}
      },
      "source": [
        "class EncoderNet(tf.keras.Model):\n",
        "  def __init__(self, vocab_size, embedding_dim, rnn_units, embeddings_matrix):\n",
        "    super(EncoderNet, self).__init__()\n",
        "    self.encoder_embedding = tf.keras.layers.Embedding(input_dim = vocab_size+1,\n",
        "                                                       output_dim = embedding_dim,\n",
        "                                                       weights = [embeddings_matrix], trainable = False)\n",
        "    self.encoder_rnnlayer = tf.keras.layers.LSTM(rnn_units,return_sequences = True, return_state = True)\n",
        "  \n",
        "# Decoder\n",
        "class DecoderNet(tf.keras.Model):\n",
        "  def __init__(self, vocab_size, embedding_dim, rnn_units, embeddings_matrix):\n",
        "    super(DecoderNet, self).__init__()\n",
        "    self.decoder_embedding = tf.keras.layers.Embedding(input_dim = vocab_size+1,\n",
        "                                                       output_dim = embedding_dim, weights = [embeddings_matrix], trainable= False)\n",
        "    self.dense_layer = Dense(vocab_size)\n",
        "    self.decoder_rnncell = tf.keras.layers.LSTMCell(rnn_units)\n",
        "    #Sampler\n",
        "    self.sampler = tfa.seq2seq.sampler.TrainingSampler()\n",
        "\n",
        "    self.attention_mechanism = self.build_attention_mechanism(dense_units, None, BATCH_SIZE*[Tx])\n",
        "    self.rnn_cell = self.build_rnn_cell(BATCH_SIZE)\n",
        "    self.decoder  = tfa.seq2seq.BasicDecoder(self.rnn_cell, sampler = self.sampler, output_layer = self.dense_layer)\n",
        "  \n",
        "  def build_attention_mechanism(self, units, memory, memory_sequence_length):\n",
        "    return tfa.seq2seq.LuongAttention(units, memory= memory, memory_sequence_length=memory_sequence_length)\n",
        "  \n",
        "  def build_rnn_cell(self, batch_size):\n",
        "    rnn_cell = tfa.seq2seq.AttentionWrapper(self.decoder_rnncell, self.attention_mechanism, attention_layer_size = dense_units)\n",
        "    return rnn_cell\n",
        "  \n",
        "  def build_decoder_initial_state(self, batch_size, encoder_state, Dtype):\n",
        "    decoder_initial_state = self.rnn_cell.get_initial_state(batch_size = batch_size, dtype = Dtype)\n",
        "    decoder_initial_state = decoder_initial_state.clone(cell_state =encoder_state)\n",
        "    return decoder_initial_state \n",
        "  \n"
      ],
      "execution_count": 12,
      "outputs": []
    },
    {
      "cell_type": "code",
      "metadata": {
        "id": "-8sja6vcFDPg",
        "colab_type": "code",
        "colab": {}
      },
      "source": [
        "encoderNet = EncoderNet(vocab_size, embedding_dim, rnn_units, embeddings_matrix)\n",
        "decoderNet = DecoderNet(vocab_size, embedding_dim, rnn_units, embeddings_matrix)\n"
      ],
      "execution_count": 13,
      "outputs": []
    },
    {
      "cell_type": "code",
      "metadata": {
        "id": "iavjoquAFYkp",
        "colab_type": "code",
        "colab": {}
      },
      "source": [
        "optimizer = tf.keras.optimizers.Adam()"
      ],
      "execution_count": 14,
      "outputs": []
    },
    {
      "cell_type": "code",
      "metadata": {
        "id": "jDW3OWXkGsc_",
        "colab_type": "code",
        "colab": {}
      },
      "source": [
        "def loss_function(y_pred, y):\n",
        "  #shape of y [batch_size, ty]\n",
        "  #shape of y_pred [batch_size, Ty, output_vocab_size] \n",
        "  sparsecategoricalcrossentropy = tf.keras.losses.SparseCategoricalCrossentropy(from_logits=True,\n",
        "                                                                                reduction='none')\n",
        "  loss = sparsecategoricalcrossentropy(y_true=y, y_pred=y_pred)\n",
        "  #skip loss calculation for padding sequences i.e. y = 0 \n",
        "  \n",
        "  # mask the loss when padding sequence appears in the output sequence\n",
        "  mask = tf.logical_not(tf.math.equal(y,0))   #output 0 for y=0 else output 1\n",
        "  mask = tf.cast(mask, dtype=loss.dtype)\n",
        "  loss = mask* loss\n",
        "  loss = tf.reduce_mean(loss)\n",
        "  return loss"
      ],
      "execution_count": 15,
      "outputs": []
    },
    {
      "cell_type": "code",
      "metadata": {
        "id": "Ml6cE53VHubp",
        "colab_type": "code",
        "colab": {
          "base_uri": "https://localhost:8080/",
          "height": 34
        },
        "outputId": "8fc05681-d1b7-4d84-d003-196077961f66"
      },
      "source": [
        "decoderNet.attention_mechanism.memory_initialized"
      ],
      "execution_count": 16,
      "outputs": [
        {
          "output_type": "execute_result",
          "data": {
            "text/plain": [
              "False"
            ]
          },
          "metadata": {
            "tags": []
          },
          "execution_count": 16
        }
      ]
    },
    {
      "cell_type": "code",
      "metadata": {
        "id": "ySrcrQkKHw-6",
        "colab_type": "code",
        "colab": {}
      },
      "source": [
        "def train_step(input_batch, output_batch, encoder_initial_cell_state):\n",
        "  loss = 0\n",
        "  with tf.GradientTape() as tape:\n",
        "      encoder_emb_inp = encoderNet.encoder_embedding(input_batch)\n",
        "      a, a_tx, c_tx = encoderNet.encoder_rnnlayer(encoder_emb_inp, \n",
        "                                                      initial_state =encoder_initial_cell_state)\n",
        "\n",
        "      #[last step activations,last memory_state] of encoder passed as input to decoder Network\n",
        "      \n",
        "        \n",
        "      # Prepare correct Decoder input & output sequence data\n",
        "      decoder_input = output_batch[:,:-1] # ignore <end>\n",
        "      #compare logits with timestepped +1 version of decoder_input\n",
        "      decoder_output = output_batch[:,1:] #ignore <start>\n",
        "\n",
        "\n",
        "      # Decoder Embeddings\n",
        "      decoder_emb_inp = decoderNet.decoder_embedding(decoder_input)\n",
        "\n",
        "      #Setting up decoder memory from encoder output and Zero State for AttentionWrapperState\n",
        "      decoderNet.attention_mechanism.setup_memory(a)\n",
        "      decoder_initial_state = decoderNet.build_decoder_initial_state(BATCH_SIZE,\n",
        "                                                                          encoder_state=[a_tx, c_tx],\n",
        "                                                                          Dtype=tf.float32)\n",
        "      \n",
        "      #BasicDecoderOutput        \n",
        "      outputs, _, _ = decoderNet.decoder(decoder_emb_inp,initial_state=decoder_initial_state,\n",
        "                                              sequence_length=BATCH_SIZE*[Ty-1])\n",
        "\n",
        "      logits = outputs.rnn_output\n",
        "      #Calculate loss\n",
        "\n",
        "      loss = loss_function(logits, decoder_output)\n",
        "\n",
        "  #Returns the list of all layer variables / weights.\n",
        "  variables = encoderNet.trainable_variables + decoderNet.trainable_variables  \n",
        "  # differentiate loss wrt variables\n",
        "  gradients = tape.gradient(loss, variables)\n",
        "\n",
        "  #grads_and_vars – List of(gradient, variable) pairs.\n",
        "  grads_and_vars = zip(gradients,variables)\n",
        "  optimizer.apply_gradients(grads_and_vars)\n",
        "  return loss"
      ],
      "execution_count": 17,
      "outputs": []
    },
    {
      "cell_type": "code",
      "metadata": {
        "id": "V4xnqX8fIdUL",
        "colab_type": "code",
        "colab": {}
      },
      "source": [
        "# from google.colab import drive\n",
        "# drive.mount('/content/drive', force_remount=True )"
      ],
      "execution_count": 18,
      "outputs": []
    },
    {
      "cell_type": "code",
      "metadata": {
        "id": "dap58QdPInDk",
        "colab_type": "code",
        "colab": {}
      },
      "source": [
        "# Training\n",
        "checkpoint_path = \"ResponseModel/cp.ckpt\"\n",
        "checkpoint_dir = os.path.dirname(checkpoint_path)\n",
        "check_prefix = os.path.join(checkpoint_dir, \"checkpt\")\n",
        "\n",
        "checkpoint = tf.train.Checkpoint(optimizer = optimizer, encoderNet = encoderNet, decoderNet = decoderNet)\n"
      ],
      "execution_count": 19,
      "outputs": []
    },
    {
      "cell_type": "code",
      "metadata": {
        "id": "ofLupLB7I2bU",
        "colab_type": "code",
        "colab": {}
      },
      "source": [
        "def initialize_initial_state():\n",
        "        return [tf.zeros((BATCH_SIZE, rnn_units)), tf.zeros((BATCH_SIZE, rnn_units))]"
      ],
      "execution_count": 20,
      "outputs": []
    },
    {
      "cell_type": "code",
      "metadata": {
        "id": "PTM4bUrmzfHr",
        "colab_type": "code",
        "colab": {
          "base_uri": "https://localhost:8080/",
          "height": 34
        },
        "outputId": "90206557-4212-4cbd-d028-03c715228bea"
      },
      "source": [
        "vocab_size"
      ],
      "execution_count": 21,
      "outputs": [
        {
          "output_type": "execute_result",
          "data": {
            "text/plain": [
              "12954"
            ]
          },
          "metadata": {
            "tags": []
          },
          "execution_count": 21
        }
      ]
    },
    {
      "cell_type": "code",
      "metadata": {
        "id": "oRkCAtTDI50H",
        "colab_type": "code",
        "colab": {}
      },
      "source": [
        "def fit_mod(dataset, epochs, history, verbose = True, save_check = False):\n",
        "  print(\"Training :\")\n",
        "  for i in range(1, epochs+1):\n",
        "    encoder_initial_cell_state = initialize_initial_state()\n",
        "    total_loss = 0.0\n",
        "    disp_loss = 0.0\n",
        "    for ( batch , (input_batch, output_batch)) in enumerate(dataset.take(steps_per_epoch)):\n",
        "      if verbose : at.progress_bar(f\"Epoch {i}/{epochs}\", batch, steps_per_epoch, output_vals = {'Loss' : disp_loss})\n",
        "      batch_loss = train_step(input_batch, output_batch, encoder_initial_cell_state)\n",
        "      total_loss += batch_loss\n",
        "      disp_loss = total_loss/(max(batch, 1))\n",
        "    # Save checkpoint:\n",
        "    if save_check:\n",
        "      print(f\"Saving checkpoint at {checkpoint_path}\")\n",
        "      checkpoint.save(file_prefix=check_prefix)\n",
        "    history.append(disp_loss)"
      ],
      "execution_count": 22,
      "outputs": []
    },
    {
      "cell_type": "code",
      "metadata": {
        "id": "u4CjHe8CLVpZ",
        "colab_type": "code",
        "colab": {}
      },
      "source": [
        "# loss_history = []"
      ],
      "execution_count": 23,
      "outputs": []
    },
    {
      "cell_type": "code",
      "metadata": {
        "id": "dhkQ9gRYHRKY",
        "colab_type": "code",
        "colab": {
          "base_uri": "https://localhost:8080/",
          "height": 85
        },
        "outputId": "bdef1973-66c0-4716-c6b5-ef5366f2f464"
      },
      "source": [
        "fit_mod(datasets[0], 20, loss_history)\n",
        "plt.plot(loss_history)"
      ],
      "execution_count": null,
      "outputs": [
        {
          "output_type": "stream",
          "text": [
            "Training :\n",
            "Epoch 1/20:[==============================](100.00%)  Loss : 1.47 \n",
            "Epoch 2/20:[==============================](100.00%)  Loss : 1.41 \n",
            "Epoch 3/20:[=============================~](96.55%)  Loss : 1.34 "
          ],
          "name": "stdout"
        }
      ]
    },
    {
      "cell_type": "markdown",
      "metadata": {
        "id": "4XS9KVmUsbva",
        "colab_type": "text"
      },
      "source": [
        "# Beam Search"
      ]
    },
    {
      "cell_type": "code",
      "metadata": {
        "id": "mVkx97hYPfK1",
        "colab_type": "code",
        "colab": {
          "base_uri": "https://localhost:8080/",
          "height": 34
        },
        "outputId": "04baba70-2149-48a9-e5d0-c280d7d4e7b0"
      },
      "source": [
        "# checkpoint.save(file_prefix = check_prefix)"
      ],
      "execution_count": 25,
      "outputs": [
        {
          "output_type": "execute_result",
          "data": {
            "text/plain": [
              "'ResponseModel/checkpt-1'"
            ]
          },
          "metadata": {
            "tags": []
          },
          "execution_count": 25
        }
      ]
    },
    {
      "cell_type": "code",
      "metadata": {
        "id": "6wNKN_WJWuY8",
        "colab_type": "code",
        "colab": {
          "base_uri": "https://localhost:8080/",
          "height": 102
        },
        "outputId": "91aca8e7-6929-4ac5-c48d-e32fd14691e7"
      },
      "source": [
        "# !zip -r  ResponseModel_s2s.zip ResponseModel"
      ],
      "execution_count": 26,
      "outputs": [
        {
          "output_type": "stream",
          "text": [
            "  adding: ResponseModel/ (stored 0%)\n",
            "  adding: ResponseModel/checkpt-1.data-00001-of-00002 (deflated 7%)\n",
            "  adding: ResponseModel/checkpt-1.data-00000-of-00002 (deflated 20%)\n",
            "  adding: ResponseModel/checkpoint (deflated 43%)\n",
            "  adding: ResponseModel/checkpt-1.index (deflated 67%)\n"
          ],
          "name": "stdout"
        }
      ]
    },
    {
      "cell_type": "code",
      "metadata": {
        "id": "T3cNwFGFYLms",
        "colab_type": "code",
        "colab": {
          "base_uri": "https://localhost:8080/",
          "height": 1000
        },
        "outputId": "0087c13b-2bdb-47d2-f5b7-2cae1c526eb3"
      },
      "source": [
        "import re\n",
        "[print(var) for var in tf.train.list_variables(\n",
        "    checkpoint_dir)]"
      ],
      "execution_count": 27,
      "outputs": [
        {
          "output_type": "stream",
          "text": [
            "('_CHECKPOINTABLE_OBJECT_GRAPH', [])\n",
            "('decoderNet/attention_mechanism/memory_layer/kernel/.ATTRIBUTES/VARIABLE_VALUE', [1024, 1024])\n",
            "('decoderNet/attention_mechanism/memory_layer/kernel/.OPTIMIZER_SLOT/optimizer/m/.ATTRIBUTES/VARIABLE_VALUE', [1024, 1024])\n",
            "('decoderNet/attention_mechanism/memory_layer/kernel/.OPTIMIZER_SLOT/optimizer/v/.ATTRIBUTES/VARIABLE_VALUE', [1024, 1024])\n",
            "('decoderNet/decoder_embedding/embeddings/.ATTRIBUTES/VARIABLE_VALUE', [12955, 100])\n",
            "('decoderNet/decoder_rnncell/bias/.ATTRIBUTES/VARIABLE_VALUE', [4096])\n",
            "('decoderNet/decoder_rnncell/bias/.OPTIMIZER_SLOT/optimizer/m/.ATTRIBUTES/VARIABLE_VALUE', [4096])\n",
            "('decoderNet/decoder_rnncell/bias/.OPTIMIZER_SLOT/optimizer/v/.ATTRIBUTES/VARIABLE_VALUE', [4096])\n",
            "('decoderNet/decoder_rnncell/kernel/.ATTRIBUTES/VARIABLE_VALUE', [1124, 4096])\n",
            "('decoderNet/decoder_rnncell/kernel/.OPTIMIZER_SLOT/optimizer/m/.ATTRIBUTES/VARIABLE_VALUE', [1124, 4096])\n",
            "('decoderNet/decoder_rnncell/kernel/.OPTIMIZER_SLOT/optimizer/v/.ATTRIBUTES/VARIABLE_VALUE', [1124, 4096])\n",
            "('decoderNet/decoder_rnncell/recurrent_kernel/.ATTRIBUTES/VARIABLE_VALUE', [1024, 4096])\n",
            "('decoderNet/decoder_rnncell/recurrent_kernel/.OPTIMIZER_SLOT/optimizer/m/.ATTRIBUTES/VARIABLE_VALUE', [1024, 4096])\n",
            "('decoderNet/decoder_rnncell/recurrent_kernel/.OPTIMIZER_SLOT/optimizer/v/.ATTRIBUTES/VARIABLE_VALUE', [1024, 4096])\n",
            "('decoderNet/dense_layer/bias/.ATTRIBUTES/VARIABLE_VALUE', [12954])\n",
            "('decoderNet/dense_layer/bias/.OPTIMIZER_SLOT/optimizer/m/.ATTRIBUTES/VARIABLE_VALUE', [12954])\n",
            "('decoderNet/dense_layer/bias/.OPTIMIZER_SLOT/optimizer/v/.ATTRIBUTES/VARIABLE_VALUE', [12954])\n",
            "('decoderNet/dense_layer/kernel/.ATTRIBUTES/VARIABLE_VALUE', [1024, 12954])\n",
            "('decoderNet/dense_layer/kernel/.OPTIMIZER_SLOT/optimizer/m/.ATTRIBUTES/VARIABLE_VALUE', [1024, 12954])\n",
            "('decoderNet/dense_layer/kernel/.OPTIMIZER_SLOT/optimizer/v/.ATTRIBUTES/VARIABLE_VALUE', [1024, 12954])\n",
            "('decoderNet/rnn_cell/_attention_layers/0/kernel/.ATTRIBUTES/VARIABLE_VALUE', [2048, 1024])\n",
            "('decoderNet/rnn_cell/_attention_layers/0/kernel/.OPTIMIZER_SLOT/optimizer/m/.ATTRIBUTES/VARIABLE_VALUE', [2048, 1024])\n",
            "('decoderNet/rnn_cell/_attention_layers/0/kernel/.OPTIMIZER_SLOT/optimizer/v/.ATTRIBUTES/VARIABLE_VALUE', [2048, 1024])\n",
            "('encoderNet/encoder_embedding/embeddings/.ATTRIBUTES/VARIABLE_VALUE', [12955, 100])\n",
            "('encoderNet/encoder_rnnlayer/cell/bias/.ATTRIBUTES/VARIABLE_VALUE', [4096])\n",
            "('encoderNet/encoder_rnnlayer/cell/bias/.OPTIMIZER_SLOT/optimizer/m/.ATTRIBUTES/VARIABLE_VALUE', [4096])\n",
            "('encoderNet/encoder_rnnlayer/cell/bias/.OPTIMIZER_SLOT/optimizer/v/.ATTRIBUTES/VARIABLE_VALUE', [4096])\n",
            "('encoderNet/encoder_rnnlayer/cell/kernel/.ATTRIBUTES/VARIABLE_VALUE', [100, 4096])\n",
            "('encoderNet/encoder_rnnlayer/cell/kernel/.OPTIMIZER_SLOT/optimizer/m/.ATTRIBUTES/VARIABLE_VALUE', [100, 4096])\n",
            "('encoderNet/encoder_rnnlayer/cell/kernel/.OPTIMIZER_SLOT/optimizer/v/.ATTRIBUTES/VARIABLE_VALUE', [100, 4096])\n",
            "('encoderNet/encoder_rnnlayer/cell/recurrent_kernel/.ATTRIBUTES/VARIABLE_VALUE', [1024, 4096])\n",
            "('encoderNet/encoder_rnnlayer/cell/recurrent_kernel/.OPTIMIZER_SLOT/optimizer/m/.ATTRIBUTES/VARIABLE_VALUE', [1024, 4096])\n",
            "('encoderNet/encoder_rnnlayer/cell/recurrent_kernel/.OPTIMIZER_SLOT/optimizer/v/.ATTRIBUTES/VARIABLE_VALUE', [1024, 4096])\n",
            "('optimizer/beta_1/.ATTRIBUTES/VARIABLE_VALUE', [])\n",
            "('optimizer/beta_2/.ATTRIBUTES/VARIABLE_VALUE', [])\n",
            "('optimizer/decay/.ATTRIBUTES/VARIABLE_VALUE', [])\n",
            "('optimizer/iter/.ATTRIBUTES/VARIABLE_VALUE', [])\n",
            "('optimizer/learning_rate/.ATTRIBUTES/VARIABLE_VALUE', [])\n",
            "('save_counter/.ATTRIBUTES/VARIABLE_VALUE', [])\n"
          ],
          "name": "stdout"
        },
        {
          "output_type": "execute_result",
          "data": {
            "text/plain": [
              "[None,\n",
              " None,\n",
              " None,\n",
              " None,\n",
              " None,\n",
              " None,\n",
              " None,\n",
              " None,\n",
              " None,\n",
              " None,\n",
              " None,\n",
              " None,\n",
              " None,\n",
              " None,\n",
              " None,\n",
              " None,\n",
              " None,\n",
              " None,\n",
              " None,\n",
              " None,\n",
              " None,\n",
              " None,\n",
              " None,\n",
              " None,\n",
              " None,\n",
              " None,\n",
              " None,\n",
              " None,\n",
              " None,\n",
              " None,\n",
              " None,\n",
              " None,\n",
              " None,\n",
              " None,\n",
              " None,\n",
              " None,\n",
              " None,\n",
              " None,\n",
              " None]"
            ]
          },
          "metadata": {
            "tags": []
          },
          "execution_count": 27
        }
      ]
    },
    {
      "cell_type": "code",
      "metadata": {
        "id": "6pB7M02IYGy0",
        "colab_type": "code",
        "colab": {
          "base_uri": "https://localhost:8080/",
          "height": 34
        },
        "outputId": "909c4036-b463-46db-e039-49bb333e7e0c"
      },
      "source": [
        "decoder_embedding_matrix = tf.train.load_variable(\n",
        "    checkpoint_dir, 'decoderNet/decoder_embedding/embeddings/.ATTRIBUTES/VARIABLE_VALUE')\n",
        "print(decoder_embedding_matrix.shape)"
      ],
      "execution_count": 33,
      "outputs": [
        {
          "output_type": "stream",
          "text": [
            "(12955, 100)\n"
          ],
          "name": "stdout"
        }
      ]
    },
    {
      "cell_type": "code",
      "metadata": {
        "id": "G16aFSzexDuF",
        "colab_type": "code",
        "colab": {
          "base_uri": "https://localhost:8080/",
          "height": 102
        },
        "outputId": "9b1b317a-2647-4541-9dbc-cc35f89ec18e"
      },
      "source": [
        "beam_width = 3\n",
        "\n",
        "sample_lines = [\"Hello\",\"Have you trained the Model?\", \"who are you\"]\n",
        "sample_lines = [clean_str(line) for line in sample_lines]\n",
        "\n",
        "sample_sequences  = tokenizer.texts_to_sequences(sample_lines)\n",
        "padded_sample_sequences = pad_sequences(sample_sequences, max_length, padding = \"post\", truncating = 'post')\n",
        "\n",
        "inp = tf.convert_to_tensor(padded_sample_sequences, dtype = Dtype)\n",
        "inference_batch_size = len(sample_lines)\n",
        "\n",
        "encoder_initial_cell_state = [tf.zeros((inference_batch_size, rnn_units)),\n",
        "                              tf.zeros((inference_batch_size, rnn_units))]\n",
        "encoder_emb_inp = encoderNet.encoder_embedding(inp)\n",
        "a, a_tx, c_tx = encoderNet.encoder_rnnlayer(encoder_emb_inp,\n",
        "                                                initial_state =encoder_initial_cell_state)\n",
        "\n",
        "start_tokens = tf.fill([inference_batch_size],word_index['<start>'])\n",
        "#print(start_tokens)\n",
        "end_token = word_index['<end>']\n",
        "\n",
        "\n",
        "\n",
        "decoder_input = tf.expand_dims([word_index['<start>']]* inference_batch_size,1)\n",
        "decoder_emb_inp = decoderNet.decoder_embedding(decoder_input)\n",
        "\n",
        "\n",
        "#From official documentation\n",
        "#NOTE If you are using the BeamSearchDecoder with a cell wrapped in AttentionWrapper, then you must ensure that:\n",
        "\n",
        "#The encoder output has been tiled to beam_width via tfa.seq2seq.tile_batch (NOT tf.tile).\n",
        "#The batch_size argument passed to the get_initial_state method of this wrapper is equal to true_batch_size * beam_width.\n",
        "#The initial state created with get_initial_state above contains a cell_state value containing properly tiled final state from the encoder.\n",
        "encoder_memory = tfa.seq2seq.tile_batch(a, beam_width)\n",
        "decoderNet.attention_mechanism.setup_memory(encoder_memory)\n",
        "print(\"beam_with * [batch_size, Tx, rnn_units] :  3 * [2, Tx, rnn_units]] :\", encoder_memory.shape)\n",
        "#set decoder_inital_state which is an AttentionWrapperState considering beam_width\n",
        "decoder_initial_state = decoderNet.rnn_cell.get_initial_state(batch_size = inference_batch_size* beam_width,dtype = Dtype)\n",
        "encoder_state = tfa.seq2seq.tile_batch([a_tx, c_tx], multiplier=beam_width)\n",
        "decoder_initial_state = decoder_initial_state.clone(cell_state=encoder_state) \n",
        "\n",
        "decoder_instance = tfa.seq2seq.BeamSearchDecoder(decoderNet.rnn_cell,beam_width=beam_width,\n",
        "                                                 output_layer=decoderNet.dense_layer)\n",
        "\n",
        "\n",
        "# Since we do not know the target sequence lengths in advance, we use maximum_iterations to limit the translation lengths.\n",
        "# One heuristic is to decode up to two times the source sentence lengths.\n",
        "maximum_iterations = tf.round(tf.reduce_max(Tx) * 2)\n",
        "\n",
        "#initialize inference decoder\n",
        "\n",
        "(first_finished, first_inputs,first_state) = decoder_instance.initialize(decoder_embedding_matrix,\n",
        "                             start_tokens = start_tokens,\n",
        "                             end_token=end_token,\n",
        "                             initial_state = decoder_initial_state)\n",
        "#print( first_finished.shape)\n",
        "print(\"\\nfirst_inputs returns the same decoder_input i.e. embedding of  <start> :\",first_inputs.shape)\n",
        "\n",
        "inputs = first_inputs\n",
        "state = first_state  \n",
        "predictions = np.empty((inference_batch_size, beam_width,0), dtype = np.int32)\n",
        "beam_scores =  np.empty((inference_batch_size, beam_width,0), dtype = np.float32)                                                                            \n",
        "for j in range(maximum_iterations):\n",
        "    beam_search_outputs, next_state, next_inputs, finished = decoder_instance.step(j,inputs,state)\n",
        "    inputs = next_inputs\n",
        "    state = next_state\n",
        "    outputs = np.expand_dims(beam_search_outputs.predicted_ids,axis = -1)\n",
        "    scores = np.expand_dims(beam_search_outputs.scores,axis = -1)\n",
        "    predictions = np.append(predictions, outputs, axis = -1)\n",
        "    beam_scores = np.append(beam_scores, scores, axis = -1)\n",
        "print(predictions.shape) \n",
        "print(beam_scores.shape)"
      ],
      "execution_count": 39,
      "outputs": [
        {
          "output_type": "stream",
          "text": [
            "beam_with * [batch_size, Tx, rnn_units] :  3 * [2, Tx, rnn_units]] : (9, 25, 1024)\n",
            "\n",
            "first_inputs returns the same decoder_input i.e. embedding of  <start> : (3, 3, 100)\n",
            "(3, 3, 50)\n",
            "(3, 3, 50)\n"
          ],
          "name": "stdout"
        }
      ]
    },
    {
      "cell_type": "code",
      "metadata": {
        "id": "ZD-mRHiTyeOU",
        "colab_type": "code",
        "colab": {
          "base_uri": "https://localhost:8080/",
          "height": 326
        },
        "outputId": "67e20b8d-5cfb-4942-a2ad-c734a46d49de"
      },
      "source": [
        "import itertools\n",
        "print(\"Stimuli:\")\n",
        "for line in sample_lines :\n",
        "  print(line)\n",
        "print(\"Responses\")\n",
        "for i in range(len(predictions)):\n",
        "  output_beams_per_sample = predictions[i,:,:]\n",
        "  score_beams_per_sample = beam_scores[i,:,:]\n",
        "  for beam, score in zip(output_beams_per_sample,score_beams_per_sample) :\n",
        "    seq = list(itertools.takewhile( lambda index: index !=2, beam))\n",
        "    score_indexes = np.arange(len(seq))\n",
        "    beam_score = score[score_indexes].sum()/len(seq)\n",
        "    print(\" \".join( [index_word[w] for w in seq]), \" beam score: \", beam_score)\n",
        "  print()"
      ],
      "execution_count": 40,
      "outputs": [
        {
          "output_type": "stream",
          "text": [
            "Stimuli:\n",
            "hello\n",
            "have you trained the model\n",
            "who are you\n",
            "Responses\n",
            "you end end the end end end end end end end end end end end end end end end end end end end end end end end end end end end end end end end end end end end end end end end end end end end end end end  beam score:  -33.40548095703125\n",
            "i know what end north toward is the the the now the the the the the the the the the the the the the the the the the the the the the the the the the the the the the the the the the the the the the the the  beam score:  -34.5466455078125\n",
            "yes didn't i i first is the and and and the now snow snow snow snow snow snow snow snow snow snow snow snow snow snow snow snow snow snow snow snow snow snow snow snow snow snow snow snow snow snow snow snow snow snow snow snow snow snow  beam score:  -34.98837158203125\n",
            "\n",
            "i end end end end end end end end end end end end end end end end end end end end end end end end end end end end end end end end end end end end end end end end end end end end end end end end end  beam score:  -35.684638671875\n",
            "yes know i i i end end end the know end the the the the the the the the the the the the the the the the the the the the the the the the the the the the the the the the the the the the the the the  beam score:  -37.17215087890625\n",
            "you i the the point i i i i north the end then then then then on the on on on on on on on on on on on on on on on on and and and and and and and and and and and and and and and and  beam score:  -37.55284912109375\n",
            "\n",
            "i end end end the end end end end end end end end end end end end end end end end end end end end end end end end end end end end end end end end end end end end end end end end end end end end end  beam score:  -32.16031982421875\n",
            "you know i i end afternoon i i the corner end end end the the the the the the the the the and the and the and the the the the the the the the the the the the the the the the the the the the the the the  beam score:  -33.7143115234375\n",
            "yes know what the i i end on i i i the the the bridge end end end the and and and the and the and the and and and and and and and and and and and and and and and and and and and and and and and  beam score:  -33.9460400390625\n",
            "\n"
          ],
          "name": "stdout"
        }
      ]
    },
    {
      "cell_type": "code",
      "metadata": {
        "id": "Hp75mjyk2CzH",
        "colab_type": "code",
        "colab": {}
      },
      "source": [
        ""
      ],
      "execution_count": 30,
      "outputs": []
    }
  ]
}