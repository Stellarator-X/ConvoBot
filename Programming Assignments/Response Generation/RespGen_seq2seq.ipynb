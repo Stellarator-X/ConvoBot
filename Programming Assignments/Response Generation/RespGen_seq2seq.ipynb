{
  "nbformat": 4,
  "nbformat_minor": 0,
  "metadata": {
    "colab": {
      "name": "RespGen",
      "provenance": [],
      "collapsed_sections": [
        "Ws1Spfzewx6X",
        "7lkmLE5ju7ZD",
        "d5AJUVbmvBr8"
      ]
    },
    "kernelspec": {
      "name": "python3",
      "display_name": "Python 3"
    },
    "accelerator": "GPU"
  },
  "cells": [
    {
      "cell_type": "markdown",
      "metadata": {
        "id": "Ikyk5tcEvFZg",
        "colab_type": "text"
      },
      "source": [
        "# Data Loading and Generation"
      ]
    },
    {
      "cell_type": "code",
      "metadata": {
        "id": "E-WKEkwBTft4",
        "colab_type": "code",
        "colab": {
          "base_uri": "https://localhost:8080/",
          "height": 51
        },
        "outputId": "ad64af27-5f4a-4ff2-acc6-32bc5dab50e1"
      },
      "source": [
        "import os\n",
        "if \"aesthetix.py\" not in os.popen(\"ls\").read():\n",
        "  !wget https://raw.githubusercontent.com/Stellarator-X/ConvoBot/servus/Programming%20Assignments/Speech%20Recognition/ds_utils/aesthetix.py\n",
        "import numpy as np \n",
        "from sklearn.model_selection import train_test_split\n",
        "import aesthetix as at\n",
        "\n",
        "# Downloading movie_lines\n",
        "if \"movie_lines.txt\" not in os.popen(\"ls\").read():\n",
        "  !wget https://raw.githubusercontent.com/Stellarator-X/ConvoBot/servus/Programming%20Assignments/Response%20Generation/movie_lines.txt\n",
        "\n",
        "movielines = open(\"movie_lines.txt\", mode='r')\n",
        "print(movielines)\n",
        "lines = movielines.readlines()\n",
        "print(len(lines))\n",
        "\n",
        "def clean_str(_str):\n",
        "  _str = _str.strip()\n",
        "  _str = _str.lower()\n",
        "  _str = _str.replace(\".\", \"\")\n",
        "  _str = _str.replace(\",\", \"\")\n",
        "  _str = _str.replace(\"?\", \"\")\n",
        "  _str = _str.replace(\"!\", \"\")\n",
        "  _str = _str.replace(\":\", \"\")\n",
        "  _str = _str.replace(\"-\", \" \")\n",
        "  _str = _str.replace(\"_\", \" \")\n",
        "  _str = _str.replace(\"\\\\\", \"\")\n",
        "  _str = _str.replace(\"  \", \" \")\n",
        "  return _str\n",
        "\n"
      ],
      "execution_count": null,
      "outputs": [
        {
          "output_type": "stream",
          "text": [
            "<_io.TextIOWrapper name='movie_lines.txt' mode='r' encoding='UTF-8'>\n",
            "304713\n"
          ],
          "name": "stdout"
        }
      ]
    },
    {
      "cell_type": "code",
      "metadata": {
        "id": "CWbYZKqToG6e",
        "colab_type": "code",
        "colab": {
          "base_uri": "https://localhost:8080/",
          "height": 493
        },
        "outputId": "9a5aa169-984a-4c10-88a5-f10d4de0c763"
      },
      "source": [
        "sample_size = 20000\n",
        "cleanlines = []\n",
        "for i, line in enumerate(lines[:sample_size]):\n",
        "  at.progress_bar(\"Cleaning the lines\", i, len(lines[:sample_size]))\n",
        "  speaker, line = line.split('+++$+++ ')[-2:]\n",
        "  cleanlines.append([speaker.split(\" \")[0], line.split('\\n')[0]])\n",
        "\n",
        "cleanlines.reverse()\n",
        "cleanlines = np.array(cleanlines)\n",
        "for line in cleanlines[:10]:\n",
        "  print(line[0],\":\",line[1])\n",
        "\n",
        "\n",
        "# Forming the dataset \n",
        "response_data = []\n",
        "l = len(cleanlines)-1\n",
        "for i, line in enumerate(cleanlines[:-1]):\n",
        "  at.progress_bar(\"Generating Stimulus-Response Pairs\", i, l)\n",
        "  speaker, utterance = line\n",
        "  next_speaker, next_utterance = cleanlines[i+1]\n",
        "  if speaker is not next_speaker:\n",
        "    response_data.append(np.array([\"<start> \"+clean_str(utterance)+\" <end>\", \"<start> \"+clean_str(next_utterance)+\" <end>\"]))\n",
        "  \n",
        "response_data = np.array(response_data)\n",
        "print(response_data.shape)\n",
        "print(response_data[-10:])"
      ],
      "execution_count": null,
      "outputs": [
        {
          "output_type": "stream",
          "text": [
            "Cleaning the lines:[==============================](100.00%)  \n",
            "PRINCESS : Sir, I... come to beg you to confess all, and swear allegiance to the king, that he might show you mercy.\n",
            "WALLACE : Will he show mercy to my country? Will he take back his soldiers, and let us rule ourselves?\n",
            "PRINCESS : Mercy... is to die quickly. Perhaps even live in the Tower. In time, who knows what can happen, if you can only live.\n",
            "WALLACE : If I swear to him, then everything I am is dead already.\n",
            "PRINCESS : You will die! It will be awful!\n",
            "WALLACE : Every man dies. Not every man really lives.\n",
            "PRINCESS : Drink this! It will dull your pain.\n",
            "WALLACE : It will numb my wits, and I must have them all. If I'm senseless, or if I wail, then Longshanks will have broken me.\n",
            "PRINCESS : I can't bear the thought of your torture. Take it!\n",
            "NICOLETTE : When the king returns he will bury them in those new clothes. Scotland is in chaos. Your husband is secretly sending an army north.\n",
            "Generating Stimulus-Response Pairs:[==============================](100.00%)  \n",
            "(19999, 2)\n",
            "[['<start> the \"real you\" <end>'\n",
            "  '<start> like my fear of wearing pastels <end>']\n",
            " ['<start> like my fear of wearing pastels <end>'\n",
            "  '<start> i\\'m kidding you know how sometimes you just become this \"persona\" and you don\\'t know how to quit <end>']\n",
            " ['<start> i\\'m kidding you know how sometimes you just become this \"persona\" and you don\\'t know how to quit <end>'\n",
            "  '<start> no <end>']\n",
            " ['<start> no <end>'\n",
            "  \"<start> okay  you're gonna need to learn how to lie <end>\"]\n",
            " [\"<start> okay  you're gonna need to learn how to lie <end>\"\n",
            "  '<start> wow <end>']\n",
            " ['<start> wow <end>' \"<start> let's go <end>\"]\n",
            " [\"<start> let's go <end>\" '<start> she okay <end>']\n",
            " ['<start> she okay <end>' '<start> i hope so <end>']\n",
            " ['<start> i hope so <end>' '<start> they do to <end>']\n",
            " ['<start> they do to <end>' '<start> they do not <end>']]\n"
          ],
          "name": "stdout"
        }
      ]
    },
    {
      "cell_type": "code",
      "metadata": {
        "id": "HZzsXP40I3hy",
        "colab_type": "code",
        "colab": {}
      },
      "source": [
        "# import pandas as pd\n",
        "# a = pd.DataFrame({'Context': response_data[:, 0], 'Responses': response_data[:, 1]})\n",
        "# a.to_csv(\"Dat.csv\")"
      ],
      "execution_count": null,
      "outputs": []
    },
    {
      "cell_type": "code",
      "metadata": {
        "id": "akxSWd_XybuY",
        "colab_type": "code",
        "colab": {
          "base_uri": "https://localhost:8080/",
          "height": 319
        },
        "outputId": "04c2cd93-cd6e-4196-82b4-83061242ced2"
      },
      "source": [
        "import matplotlib.pyplot as plt \n",
        "%matplotlib inline\n",
        "a = [len(s) for s in response_data[:,0]]\n",
        "# a_ = [s for s in response_data[:,0] if len(s)>2000]\n",
        "plt.plot(a)\n",
        "plt.show()\n",
        "print(np.mean(np.array(a)))\n",
        "print(\"Longest utterance : \", response_data[np.argmax(a), 0])"
      ],
      "execution_count": null,
      "outputs": [
        {
          "output_type": "display_data",
          "data": {
            "image/png": "[encoded data removed]",
            "text/plain": [
              "<Figure size 432x288 with 1 Axes>"
            ]
          },
          "metadata": {
            "tags": [],
            "needs_background": "light"
          }
        },
        {
          "output_type": "stream",
          "text": [
            "64.51767588379418\n",
            "Longest utterance :  <start> you've got penthouse playboy hustler etc nobody even considers them pornography anymore then there's mainstream hardcore triple x the difference is penetration that's hardcore that whole industry's up in the valley writers directors porn stars they're celebrities or they think they are they pump out 150 videos a week a week they've even got a porno academy awards america loves pornography anybody tells you they never use pornography they're lying somebody's buying those videos somebody's out there spending 900 million dollars a year on phone sex know what else it's only gonna get worse more and more you'll see perverse hardcore coming into the mainstream because that's evolution desensitization oh my god elvis presley's wiggling his hips how offensive nowadays mtv's showing girls dancing around in thong bikinis with their asses hanging out know what i mean for the porn addict big tits aren't big enough after a while they have to be the biggest tits ever some porn chicks are putting in breast implants bigger than your head literally soon playboy is gonna be penthouse penthouse'll be hustler hustler'll be hardcore and hardcore films'll be medical films people'll be jerking off to women laying around with open wounds there's nowhere else for it to go <end>\n"
          ],
          "name": "stdout"
        }
      ]
    },
    {
      "cell_type": "code",
      "metadata": {
        "id": "374Iz8aIWnKr",
        "colab_type": "code",
        "colab": {}
      },
      "source": [
        "# Preprocessing the Data\n",
        "from tensorflow.keras.preprocessing.text import Tokenizer \n",
        "from tensorflow.keras.preprocessing.sequence import pad_sequences\n",
        "\n",
        "oov_token = \"<OOV>\"\n",
        "max_length = 25\n",
        "stimuli = response_data[:, 0]\n",
        "responses = response_data[:, 1]\n",
        "\n",
        "tokenizer = Tokenizer(oov_token=oov_token)\n",
        "tokenizer.fit_on_texts(stimuli)\n",
        "\n",
        "word_index = tokenizer.word_index\n",
        "word_index['<start>'] = 0\n",
        "word_index['<end>'] = len(word_index)+1\n",
        "index_word = {word_index[word]:word for word in word_index}\n",
        "vocab_size = len(word_index)\n",
        "stimulus_sequences = tokenizer.texts_to_sequences(stimuli)\n",
        "response_sequences = tokenizer.texts_to_sequences(responses)\n",
        "\n",
        "padded_stimulus_sequences = pad_sequences(stimulus_sequences, maxlen = max_length ,padding = 'post', truncating = 'post')\n",
        "padded_response_sequences = pad_sequences(response_sequences, maxlen = max_length, padding = 'post', truncating = 'post')\n"
      ],
      "execution_count": null,
      "outputs": []
    },
    {
      "cell_type": "code",
      "metadata": {
        "id": "FYlQ5qIt3del",
        "colab_type": "code",
        "colab": {
          "base_uri": "https://localhost:8080/",
          "height": 34
        },
        "outputId": "61bce529-668f-4b08-d7a4-fdb7bdf2d718"
      },
      "source": [
        "index_word[1829]"
      ],
      "execution_count": null,
      "outputs": [
        {
          "output_type": "execute_result",
          "data": {
            "text/plain": [
              "'confess'"
            ]
          },
          "metadata": {
            "tags": []
          },
          "execution_count": 139
        }
      ]
    },
    {
      "cell_type": "code",
      "metadata": {
        "id": "WQG3-6YfwYv9",
        "colab_type": "code",
        "colab": {
          "base_uri": "https://localhost:8080/",
          "height": 204
        },
        "outputId": "919cfcf9-65a9-495e-d833-67afa5f9d5db"
      },
      "source": [
        "# Getting the embedding weights from pre-trained glove vectors\n",
        "embedding_dim = 100\n",
        "\n",
        "!wget --no-check-certificate \\\n",
        "    https://storage.googleapis.com/laurencemoroney-blog.appspot.com/glove.6B.100d.txt \\\n",
        "    -O /tmp/glove.6B.100d.txt\n",
        "embeddings_index = {};\n",
        "with open('/tmp/glove.6B.100d.txt') as f:\n",
        "    for line in f:\n",
        "        values = line.split();\n",
        "        word = values[0];\n",
        "        coefs = np.asarray(values[1:], dtype='float32');\n",
        "        embeddings_index[word] = coefs;\n",
        "\n",
        "embeddings_matrix = np.zeros((vocab_size+1, embedding_dim));\n",
        "for word, i in word_index.items():\n",
        "    embedding_vector = embeddings_index.get(word);\n",
        "    if embedding_vector is not None:\n",
        "        embeddings_matrix[i] = embedding_vector;"
      ],
      "execution_count": null,
      "outputs": [
        {
          "output_type": "stream",
          "text": [
            "--2020-06-21 11:38:09--  https://storage.googleapis.com/laurencemoroney-blog.appspot.com/glove.6B.100d.txt\n",
            "Resolving storage.googleapis.com (storage.googleapis.com)... 74.125.143.128, 2a00:1450:4013:c01::80\n",
            "Connecting to storage.googleapis.com (storage.googleapis.com)|74.125.143.128|:443... connected.\n",
            "HTTP request sent, awaiting response... 200 OK\n",
            "Length: 347116733 (331M) [text/plain]\n",
            "Saving to: ‘/tmp/glove.6B.100d.txt’\n",
            "\n",
            "\r/tmp/glove.6B.100d.   0%[                    ]       0  --.-KB/s               \r/tmp/glove.6B.100d.   1%[                    ]   4.01M  11.4MB/s               \r/tmp/glove.6B.100d.  11%[=>                  ]  36.95M  67.0MB/s               \r/tmp/glove.6B.100d.  18%[==>                 ]  61.13M  81.3MB/s               \r/tmp/glove.6B.100d.  24%[===>                ]  80.01M  82.0MB/s               \r/tmp/glove.6B.100d.  33%[=====>              ] 112.01M  84.6MB/s               \r/tmp/glove.6B.100d.  43%[=======>            ] 144.44M  94.6MB/s               \r/tmp/glove.6B.100d.  50%[=========>          ] 168.01M  93.9MB/s               \r/tmp/glove.6B.100d.  58%[==========>         ] 195.26M  98.1MB/s               \r/tmp/glove.6B.100d.  65%[============>       ] 216.01M  95.6MB/s               \r/tmp/glove.6B.100d.  72%[=============>      ] 240.01M  97.1MB/s               \r/tmp/glove.6B.100d.  77%[==============>     ] 257.66M  96.5MB/s               \r/tmp/glove.6B.100d.  81%[===============>    ] 269.57M  93.9MB/s               \r/tmp/glove.6B.100d.  87%[================>   ] 291.12M  94.7MB/s    eta 0s     \r/tmp/glove.6B.100d.  92%[=================>  ] 304.98M  93.2MB/s    eta 0s     \r/tmp/glove.6B.100d. 100%[===================>] 331.04M  97.4MB/s    in 3.4s    \n",
            "\n",
            "2020-06-21 11:38:13 (97.4 MB/s) - ‘/tmp/glove.6B.100d.txt’ saved [347116733/347116733]\n",
            "\n"
          ],
          "name": "stdout"
        }
      ]
    },
    {
      "cell_type": "markdown",
      "metadata": {
        "id": "e_suV3kj_grY",
        "colab_type": "text"
      },
      "source": [
        "# Encoder-Decoder with Attention\n"
      ]
    },
    {
      "cell_type": "code",
      "metadata": {
        "id": "XzH3Ym73U3oG",
        "colab_type": "code",
        "colab": {
          "base_uri": "https://localhost:8080/",
          "height": 34
        },
        "outputId": "42c53212-41db-4387-eaea-5003fd0936d2"
      },
      "source": [
        "import numpy as np \n",
        "import matplotlib.pyplot as plt\n",
        "import tensorflow as tf \n",
        "from tensorflow.keras.models import Sequential, Model\n",
        "from tensorflow.keras.layers import Dense, Bidirectional, Embedding, LSTM, RepeatVector, Concatenate, Dot, Activation, Input\n",
        "from tensorflow.keras import backend as K\n",
        "import tensorflow_addons as tfa\n",
        "print(tf.__version__)\n",
        "%matplotlib inline"
      ],
      "execution_count": null,
      "outputs": [
        {
          "output_type": "stream",
          "text": [
            "2.2.0\n"
          ],
          "name": "stdout"
        }
      ]
    },
    {
      "cell_type": "code",
      "metadata": {
        "id": "lm-JgxBABu2w",
        "colab_type": "code",
        "colab": {}
      },
      "source": [
        "BATCH_SIZE = 500\n",
        "BUFFER_SIZE = len(padded_response_sequences)\n",
        "num_dat_sets = 1\n",
        "steps_per_epoch = BUFFER_SIZE//(BATCH_SIZE*num_dat_sets)\n",
        "embedding_dims = 256\n",
        "rnn_units = 1024\n",
        "dense_units = 1024\n",
        "Dtype = tf.float32   #used to initialize DecoderCell Zero state\n",
        "Tx = max_length\n",
        "Ty = max_length"
      ],
      "execution_count": null,
      "outputs": []
    },
    {
      "cell_type": "code",
      "metadata": {
        "id": "5G74NjgwrPr6",
        "colab_type": "code",
        "colab": {
          "base_uri": "https://localhost:8080/",
          "height": 34
        },
        "outputId": "21234589-9cbf-485c-f397-89ce96f349c2"
      },
      "source": [
        "BUFFER_SIZE"
      ],
      "execution_count": null,
      "outputs": [
        {
          "output_type": "execute_result",
          "data": {
            "text/plain": [
              "19999"
            ]
          },
          "metadata": {
            "tags": []
          },
          "execution_count": 143
        }
      ]
    },
    {
      "cell_type": "code",
      "metadata": {
        "id": "boctA40PJomZ",
        "colab_type": "code",
        "colab": {
          "base_uri": "https://localhost:8080/",
          "height": 51
        },
        "outputId": "476e2eef-bbfc-4ae1-8034-b48ec5e37413"
      },
      "source": [
        "# Initialising the dataset\n",
        "num_dats = BUFFER_SIZE // num_dat_sets\n",
        "datasets = [tf.data.Dataset.from_tensor_slices((padded_stimulus_sequences[i*num_dats:(i+1)*num_dats], padded_response_sequences[i*num_dats:(i+1)*num_dats])).shuffle(num_dats).batch(BATCH_SIZE, drop_remainder=True) for i in range(num_dat_sets) ]\n",
        "example_X, example_Y = next(iter(datasets[0]))\n",
        "print(example_X.shape) \n",
        "print(example_Y.shape)"
      ],
      "execution_count": null,
      "outputs": [
        {
          "output_type": "stream",
          "text": [
            "(500, 25)\n",
            "(500, 25)\n"
          ],
          "name": "stdout"
        }
      ]
    },
    {
      "cell_type": "code",
      "metadata": {
        "id": "UfvCq9Ii_lZB",
        "colab_type": "code",
        "colab": {}
      },
      "source": [
        "class EncoderNet(tf.keras.Model):\n",
        "  def __init__(self, vocab_size, embedding_dim, rnn_units, embeddings_matrix):\n",
        "    super(EncoderNet, self).__init__()\n",
        "    self.encoder_embedding = tf.keras.layers.Embedding(input_dim = vocab_size+1,\n",
        "                                                       output_dim = embedding_dim,\n",
        "                                                       weights = [embeddings_matrix], trainable = False)\n",
        "    self.encoder_rnnlayer = tf.keras.layers.LSTM(rnn_units,return_sequences = True, return_state = True)\n",
        "  \n",
        "# Decoder\n",
        "class DecoderNet(tf.keras.Model):\n",
        "  def __init__(self, vocab_size, embedding_dim, rnn_units, embeddings_matrix):\n",
        "    super(DecoderNet, self).__init__()\n",
        "    self.decoder_embedding = tf.keras.layers.Embedding(input_dim = vocab_size+1,\n",
        "                                                       output_dim = embedding_dim, weights = [embeddings_matrix], trainable= False)\n",
        "    self.dense_layer = Dense(vocab_size)\n",
        "    self.decoder_rnncell = tf.keras.layers.LSTMCell(rnn_units)\n",
        "    #Sampler\n",
        "    self.sampler = tfa.seq2seq.sampler.TrainingSampler()\n",
        "\n",
        "    self.attention_mechanism = self.build_attention_mechanism(dense_units, None, BATCH_SIZE*[Tx])\n",
        "    self.rnn_cell = self.build_rnn_cell(BATCH_SIZE)\n",
        "    self.decoder  = tfa.seq2seq.BasicDecoder(self.rnn_cell, sampler = self.sampler, output_layer = self.dense_layer)\n",
        "  \n",
        "  def build_attention_mechanism(self, units, memory, memory_sequence_length):\n",
        "    return tfa.seq2seq.LuongAttention(units, memory= memory, memory_sequence_length=memory_sequence_length)\n",
        "  \n",
        "  def build_rnn_cell(self, batch_size):\n",
        "    rnn_cell = tfa.seq2seq.AttentionWrapper(self.decoder_rnncell, self.attention_mechanism, attention_layer_size = dense_units)\n",
        "    return rnn_cell\n",
        "  \n",
        "  def build_decoder_initial_state(self, batch_size, encoder_state, Dtype):\n",
        "    decoder_initial_state = self.rnn_cell.get_initial_state(batch_size = batch_size, dtype = Dtype)\n",
        "    decoder_initial_state = decoder_initial_state.clone(cell_state =encoder_state)\n",
        "    return decoder_initial_state \n",
        "  \n"
      ],
      "execution_count": null,
      "outputs": []
    },
    {
      "cell_type": "code",
      "metadata": {
        "id": "-8sja6vcFDPg",
        "colab_type": "code",
        "colab": {}
      },
      "source": [
        "encoderNet = EncoderNet(vocab_size, embedding_dim, rnn_units, embeddings_matrix)\n",
        "decoderNet = DecoderNet(vocab_size, embedding_dim, rnn_units, embeddings_matrix)\n"
      ],
      "execution_count": null,
      "outputs": []
    },
    {
      "cell_type": "code",
      "metadata": {
        "id": "iavjoquAFYkp",
        "colab_type": "code",
        "colab": {}
      },
      "source": [
        "optimizer = tf.keras.optimizers.Adam()"
      ],
      "execution_count": null,
      "outputs": []
    },
    {
      "cell_type": "code",
      "metadata": {
        "id": "jDW3OWXkGsc_",
        "colab_type": "code",
        "colab": {}
      },
      "source": [
        "def loss_function(y_pred, y):\n",
        "  #shape of y [batch_size, ty]\n",
        "  #shape of y_pred [batch_size, Ty, output_vocab_size] \n",
        "  sparsecategoricalcrossentropy = tf.keras.losses.SparseCategoricalCrossentropy(from_logits=True,\n",
        "                                                                                reduction='none')\n",
        "  loss = sparsecategoricalcrossentropy(y_true=y, y_pred=y_pred)\n",
        "  #skip loss calculation for padding sequences i.e. y = 0 \n",
        "  \n",
        "  # mask the loss when padding sequence appears in the output sequence\n",
        "  mask = tf.logical_not(tf.math.equal(y,0))   #output 0 for y=0 else output 1\n",
        "  mask = tf.cast(mask, dtype=loss.dtype)\n",
        "  loss = mask* loss\n",
        "  loss = tf.reduce_mean(loss)\n",
        "  return loss"
      ],
      "execution_count": null,
      "outputs": []
    },
    {
      "cell_type": "code",
      "metadata": {
        "id": "Ml6cE53VHubp",
        "colab_type": "code",
        "colab": {
          "base_uri": "https://localhost:8080/",
          "height": 34
        },
        "outputId": "26c413ca-d544-45e9-f807-1a6c5ceb4767"
      },
      "source": [
        "decoderNet.attention_mechanism.memory_initialized"
      ],
      "execution_count": null,
      "outputs": [
        {
          "output_type": "execute_result",
          "data": {
            "text/plain": [
              "False"
            ]
          },
          "metadata": {
            "tags": []
          },
          "execution_count": 149
        }
      ]
    },
    {
      "cell_type": "code",
      "metadata": {
        "id": "ySrcrQkKHw-6",
        "colab_type": "code",
        "colab": {}
      },
      "source": [
        "def train_step(input_batch, output_batch, encoder_initial_cell_state):\n",
        "  loss = 0\n",
        "  with tf.GradientTape() as tape:\n",
        "      encoder_emb_inp = encoderNet.encoder_embedding(input_batch)\n",
        "      a, a_tx, c_tx = encoderNet.encoder_rnnlayer(encoder_emb_inp, \n",
        "                                                      initial_state =encoder_initial_cell_state)\n",
        "\n",
        "      #[last step activations,last memory_state] of encoder passed as input to decoder Network\n",
        "      \n",
        "        \n",
        "      # Prepare correct Decoder input & output sequence data\n",
        "      decoder_input = output_batch[:,:-1] # ignore <end>\n",
        "      #compare logits with timestepped +1 version of decoder_input\n",
        "      decoder_output = output_batch[:,1:] #ignore <start>\n",
        "\n",
        "\n",
        "      # Decoder Embeddings\n",
        "      decoder_emb_inp = decoderNet.decoder_embedding(decoder_input)\n",
        "\n",
        "      #Setting up decoder memory from encoder output and Zero State for AttentionWrapperState\n",
        "      decoderNet.attention_mechanism.setup_memory(a)\n",
        "      decoder_initial_state = decoderNet.build_decoder_initial_state(BATCH_SIZE,\n",
        "                                                                          encoder_state=[a_tx, c_tx],\n",
        "                                                                          Dtype=tf.float32)\n",
        "      \n",
        "      #BasicDecoderOutput        \n",
        "      outputs, _, _ = decoderNet.decoder(decoder_emb_inp,initial_state=decoder_initial_state,\n",
        "                                              sequence_length=BATCH_SIZE*[Ty-1])\n",
        "\n",
        "      logits = outputs.rnn_output\n",
        "      #Calculate loss\n",
        "\n",
        "      loss = loss_function(logits, decoder_output)\n",
        "\n",
        "  #Returns the list of all layer variables / weights.\n",
        "  variables = encoderNet.trainable_variables + decoderNet.trainable_variables  \n",
        "  # differentiate loss wrt variables\n",
        "  gradients = tape.gradient(loss, variables)\n",
        "\n",
        "  #grads_and_vars – List of(gradient, variable) pairs.\n",
        "  grads_and_vars = zip(gradients,variables)\n",
        "  optimizer.apply_gradients(grads_and_vars)\n",
        "  return loss"
      ],
      "execution_count": null,
      "outputs": []
    },
    {
      "cell_type": "code",
      "metadata": {
        "id": "V4xnqX8fIdUL",
        "colab_type": "code",
        "colab": {}
      },
      "source": [
        "# from google.colab import drive\n",
        "# drive.mount('/content/drive', force_remount=True )"
      ],
      "execution_count": null,
      "outputs": []
    },
    {
      "cell_type": "code",
      "metadata": {
        "id": "dap58QdPInDk",
        "colab_type": "code",
        "colab": {}
      },
      "source": [
        "# Training\n",
        "checkpoint_path = \"ResponseModel/cp.ckpt\"\n",
        "checkpoint_dir = os.path.dirname(checkpoint_path)\n",
        "check_prefix = os.path.join(checkpoint_dir, \"checkpt\")\n",
        "\n",
        "checkpoint = tf.train.Checkpoint(optimizer = optimizer, encoderNet = encoderNet, decoderNet = decoderNet)\n"
      ],
      "execution_count": null,
      "outputs": []
    },
    {
      "cell_type": "code",
      "metadata": {
        "id": "ofLupLB7I2bU",
        "colab_type": "code",
        "colab": {}
      },
      "source": [
        "def initialize_initial_state():\n",
        "        return [tf.zeros((BATCH_SIZE, rnn_units)), tf.zeros((BATCH_SIZE, rnn_units))]"
      ],
      "execution_count": null,
      "outputs": []
    },
    {
      "cell_type": "code",
      "metadata": {
        "id": "PTM4bUrmzfHr",
        "colab_type": "code",
        "colab": {
          "base_uri": "https://localhost:8080/",
          "height": 34
        },
        "outputId": "f9533b6b-2b4c-4f3d-cc01-edcec0e245cc"
      },
      "source": [
        "vocab_size"
      ],
      "execution_count": null,
      "outputs": [
        {
          "output_type": "execute_result",
          "data": {
            "text/plain": [
              "12954"
            ]
          },
          "metadata": {
            "tags": []
          },
          "execution_count": 154
        }
      ]
    },
    {
      "cell_type": "code",
      "metadata": {
        "id": "oRkCAtTDI50H",
        "colab_type": "code",
        "colab": {}
      },
      "source": [
        "def fit_mod(dataset, epochs, history, verbose = True, save_check = False):\n",
        "  print(\"Training :\")\n",
        "  for i in range(1, epochs+1):\n",
        "    encoder_initial_cell_state = initialize_initial_state()\n",
        "    total_loss = 0.0\n",
        "    disp_loss = 0.0\n",
        "    for ( batch , (input_batch, output_batch)) in enumerate(dataset.take(steps_per_epoch)):\n",
        "      if verbose : at.progress_bar(f\"Epoch {i}/{epochs}\", batch, steps_per_epoch, output_vals = {'Loss' : disp_loss})\n",
        "      batch_loss = train_step(input_batch, output_batch, encoder_initial_cell_state)\n",
        "      total_loss += batch_loss\n",
        "      disp_loss = total_loss/(max(batch, 1))\n",
        "    # Save checkpoint:\n",
        "    if save_check:\n",
        "      print(f\"Saving checkpoint at {checkpoint_path}\")\n",
        "      checkpoint.save(file_prefix=check_prefix)\n",
        "    history.append(disp_loss)"
      ],
      "execution_count": null,
      "outputs": []
    },
    {
      "cell_type": "code",
      "metadata": {
        "id": "u4CjHe8CLVpZ",
        "colab_type": "code",
        "colab": {}
      },
      "source": [
        "loss_history = []"
      ],
      "execution_count": null,
      "outputs": []
    },
    {
      "cell_type": "code",
      "metadata": {
        "id": "dhkQ9gRYHRKY",
        "colab_type": "code",
        "colab": {
          "base_uri": "https://localhost:8080/",
          "height": 809
        },
        "outputId": "2ebd3042-b317-4091-9dc1-c7dc783c75af"
      },
      "source": [
        "fit_mod(datasets[0], 30, loss_history)\n",
        "plt.plot(loss_history)"
      ],
      "execution_count": null,
      "outputs": [
        {
          "output_type": "stream",
          "text": [
            "Training :\n",
            "Epoch 1/30:[==============================](100.00%)  Loss : 2.84 \n",
            "Epoch 2/30:[==============================](100.00%)  Loss : 2.60 \n",
            "Epoch 3/30:[==============================](100.00%)  Loss : 2.54 \n",
            "Epoch 4/30:[==============================](100.00%)  Loss : 2.47 \n",
            "Epoch 5/30:[==============================](100.00%)  Loss : 2.40 \n",
            "Epoch 6/30:[==============================](100.00%)  Loss : 2.34 \n",
            "Epoch 7/30:[==============================](100.00%)  Loss : 2.29 \n",
            "Epoch 8/30:[==============================](100.00%)  Loss : 2.23 \n",
            "Epoch 9/30:[==============================](100.00%)  Loss : 2.19 \n",
            "Epoch 10/30:[==============================](100.00%)  Loss : 2.14 \n",
            "Epoch 11/30:[==============================](100.00%)  Loss : 2.09 \n",
            "Epoch 12/30:[==============================](100.00%)  Loss : 2.03 \n",
            "Epoch 13/30:[==============================](100.00%)  Loss : 1.98 \n",
            "Epoch 14/30:[==============================](100.00%)  Loss : 1.92 \n",
            "Epoch 15/30:[==============================](100.00%)  Loss : 1.86 \n",
            "Epoch 16/30:[==============================](100.00%)  Loss : 1.81 \n",
            "Epoch 17/30:[==============================](100.00%)  Loss : 1.75 \n",
            "Epoch 18/30:[==============================](100.00%)  Loss : 1.69 \n",
            "Epoch 19/30:[==============================](100.00%)  Loss : 1.63 \n",
            "Epoch 20/30:[==============================](100.00%)  Loss : 1.58 \n",
            "Epoch 21/30:[==============================](100.00%)  Loss : 1.52 \n",
            "Epoch 22/30:[==============================](100.00%)  Loss : 1.46 \n",
            "Epoch 23/30:[==============================](100.00%)  Loss : 1.43 \n",
            "Epoch 24/30:[==============================](100.00%)  Loss : 1.36 \n",
            "Epoch 25/30:[==============================](100.00%)  Loss : 1.30 \n",
            "Epoch 26/30:[==============================](100.00%)  Loss : 1.24 \n",
            "Epoch 27/30:[==============================](100.00%)  Loss : 1.20 \n",
            "Epoch 28/30:[==============================](100.00%)  Loss : 1.15 \n",
            "Epoch 29/30:[==============================](100.00%)  Loss : 1.13 \n",
            "Epoch 30/30:[==============================](100.00%)  Loss : 1.10 \n"
          ],
          "name": "stdout"
        },
        {
          "output_type": "execute_result",
          "data": {
            "text/plain": [
              "[<matplotlib.lines.Line2D at 0x7f9580482080>]"
            ]
          },
          "metadata": {
            "tags": []
          },
          "execution_count": 157
        },
        {
          "output_type": "display_data",
          "data": {
            "image/png": "[encoded data removed]",
            "text/plain": [
              "<Figure size 432x288 with 1 Axes>"
            ]
          },
          "metadata": {
            "tags": [],
            "needs_background": "light"
          }
        }
      ]
    },
    {
      "cell_type": "markdown",
      "metadata": {
        "id": "4XS9KVmUsbva",
        "colab_type": "text"
      },
      "source": [
        "# Beam Search"
      ]
    },
    {
      "cell_type": "code",
      "metadata": {
        "id": "mVkx97hYPfK1",
        "colab_type": "code",
        "colab": {}
      },
      "source": [
        "checkpoint.save(file_prefix = check_prefix)"
      ],
      "execution_count": null,
      "outputs": []
    },
    {
      "cell_type": "code",
      "metadata": {
        "id": "6wNKN_WJWuY8",
        "colab_type": "code",
        "colab": {}
      },
      "source": [
        "# !zip -r  ResponseModel_s2s.zip ResponseModel"
      ],
      "execution_count": null,
      "outputs": []
    },
    {
      "cell_type": "code",
      "metadata": {
        "id": "T3cNwFGFYLms",
        "colab_type": "code",
        "colab": {}
      },
      "source": [
        "# import re\n",
        "# [print(var) for var in tf.train.list_variables(\n",
        "#     checkpoint_dir)]"
      ],
      "execution_count": null,
      "outputs": []
    },
    {
      "cell_type": "code",
      "metadata": {
        "id": "6pB7M02IYGy0",
        "colab_type": "code",
        "colab": {}
      },
      "source": [
        "decoder_embedding_matrix = tf.train.load_variable(\n",
        "    checkpoint_dir, 'decoderNetwork/decoder_embedding/embeddings/.ATTRIBUTES/VARIABLE_VALUE')\n",
        "print(decoder_embedding_matrix.shape)"
      ],
      "execution_count": null,
      "outputs": []
    },
    {
      "cell_type": "code",
      "metadata": {
        "id": "G16aFSzexDuF",
        "colab_type": "code",
        "colab": {
          "base_uri": "https://localhost:8080/",
          "height": 102
        },
        "outputId": "cefe6170-c909-4616-88d1-48b42681ce96"
      },
      "source": [
        "beam_width = 3\n",
        "\n",
        "sample_lines = [\"Hello\",\"Have you trained the Model?\", \"who are you\", \"I got \"]\n",
        "sample_lines = [clean_str(line) for line in sample_lines]\n",
        "\n",
        "sample_sequences  = tokenizer.texts_to_sequences(sample_lines)\n",
        "padded_sample_sequences = pad_sequences(sample_sequences, max_length, padding = \"post\", truncating = 'post')\n",
        "\n",
        "inp = tf.convert_to_tensor(padded_sample_sequences, dtype = Dtype)\n",
        "inference_batch_size = len(sample_lines)\n",
        "\n",
        "encoder_initial_cell_state = [tf.zeros((inference_batch_size, rnn_units)),\n",
        "                              tf.zeros((inference_batch_size, rnn_units))]\n",
        "encoder_emb_inp = encoderNet.encoder_embedding(inp)\n",
        "a, a_tx, c_tx = encoderNet.encoder_rnnlayer(encoder_emb_inp,\n",
        "                                                initial_state =encoder_initial_cell_state)\n",
        "\n",
        "start_tokens = tf.fill([inference_batch_size],word_index['<start>'])\n",
        "#print(start_tokens)\n",
        "end_token = word_index['<end>']\n",
        "\n",
        "\n",
        "\n",
        "decoder_input = tf.expand_dims([word_index['<start>']]* inference_batch_size,1)\n",
        "decoder_emb_inp = decoderNet.decoder_embedding(decoder_input)\n",
        "\n",
        "\n",
        "#From official documentation\n",
        "#NOTE If you are using the BeamSearchDecoder with a cell wrapped in AttentionWrapper, then you must ensure that:\n",
        "\n",
        "#The encoder output has been tiled to beam_width via tfa.seq2seq.tile_batch (NOT tf.tile).\n",
        "#The batch_size argument passed to the get_initial_state method of this wrapper is equal to true_batch_size * beam_width.\n",
        "#The initial state created with get_initial_state above contains a cell_state value containing properly tiled final state from the encoder.\n",
        "encoder_memory = tfa.seq2seq.tile_batch(a, beam_width)\n",
        "decoderNet.attention_mechanism.setup_memory(encoder_memory)\n",
        "print(\"beam_with * [batch_size, Tx, rnn_units] :  3 * [2, Tx, rnn_units]] :\", encoder_memory.shape)\n",
        "#set decoder_inital_state which is an AttentionWrapperState considering beam_width\n",
        "decoder_initial_state = decoderNet.rnn_cell.get_initial_state(batch_size = inference_batch_size* beam_width,dtype = Dtype)\n",
        "encoder_state = tfa.seq2seq.tile_batch([a_tx, c_tx], multiplier=beam_width)\n",
        "decoder_initial_state = decoder_initial_state.clone(cell_state=encoder_state) \n",
        "\n",
        "decoder_instance = tfa.seq2seq.BeamSearchDecoder(decoderNet.rnn_cell,beam_width=beam_width,\n",
        "                                                 output_layer=decoderNet.dense_layer)\n",
        "\n",
        "\n",
        "# Since we do not know the target sequence lengths in advance, we use maximum_iterations to limit the translation lengths.\n",
        "# One heuristic is to decode up to two times the source sentence lengths.\n",
        "maximum_iterations = tf.round(tf.reduce_max(Tx) * 2)\n",
        "\n",
        "#initialize inference decoder\n",
        "\n",
        "(first_finished, first_inputs,first_state) = decoder_instance.initialize(decoder_embedding_matrix,\n",
        "                             start_tokens = start_tokens,\n",
        "                             end_token=end_token,\n",
        "                             initial_state = decoder_initial_state)\n",
        "#print( first_finished.shape)\n",
        "print(\"\\nfirst_inputs returns the same decoder_input i.e. embedding of  <start> :\",first_inputs.shape)\n",
        "\n",
        "inputs = first_inputs\n",
        "state = first_state  \n",
        "predictions = np.empty((inference_batch_size, beam_width,0), dtype = np.int32)\n",
        "beam_scores =  np.empty((inference_batch_size, beam_width,0), dtype = np.float32)                                                                            \n",
        "for j in range(maximum_iterations):\n",
        "    beam_search_outputs, next_state, next_inputs, finished = decoder_instance.step(j,inputs,state)\n",
        "    inputs = next_inputs\n",
        "    state = next_state\n",
        "    outputs = np.expand_dims(beam_search_outputs.predicted_ids,axis = -1)\n",
        "    scores = np.expand_dims(beam_search_outputs.scores,axis = -1)\n",
        "    predictions = np.append(predictions, outputs, axis = -1)\n",
        "    beam_scores = np.append(beam_scores, scores, axis = -1)\n",
        "print(predictions.shape) \n",
        "print(beam_scores.shape)"
      ],
      "execution_count": null,
      "outputs": [
        {
          "output_type": "stream",
          "text": [
            "beam_with * [batch_size, Tx, rnn_units] :  3 * [2, Tx, rnn_units]] : (9, 25, 1024)\n",
            "\n",
            "first_inputs returns the same decoder_input i.e. embedding of  <start> : (3, 3, 100)\n",
            "(3, 3, 50)\n",
            "(3, 3, 50)\n"
          ],
          "name": "stdout"
        }
      ]
    },
    {
      "cell_type": "code",
      "metadata": {
        "id": "ZD-mRHiTyeOU",
        "colab_type": "code",
        "colab": {
          "base_uri": "https://localhost:8080/",
          "height": 306
        },
        "outputId": "cb8dfec3-e156-44d5-c8e6-2b3e789016c1"
      },
      "source": [
        "import itertools\n",
        "print(\"Stimuli:\")\n",
        "for line in sample_lines :\n",
        "  print(line)\n",
        "print(\"Responses\")\n",
        "for i in range(len(predictions)):\n",
        "  output_beams_per_sample = predictions[i,:,:]\n",
        "  score_beams_per_sample = beam_scores[i,:,:]\n",
        "  for beam, score in zip(output_beams_per_sample,score_beams_per_sample) :\n",
        "    seq = list(itertools.takewhile( lambda index: index !=3, beam))\n",
        "    score_indexes = np.arange(len(seq))\n",
        "    beam_score = score[score_indexes].sum()/len(seq)\n",
        "    print(\" \".join( [index_word[w] for w in seq]), \" beam score: \", beam_score)\n",
        "  print()"
      ],
      "execution_count": null,
      "outputs": [
        {
          "output_type": "stream",
          "text": [
            "Stimuli:\n",
            "hello\n",
            "have you trained the model\n",
            "who are you\n",
            "Responses\n",
            "yes  beam score:  -1.7373862266540527\n",
            "oh  beam score:  -2.6385703086853027\n",
            "i come on i'm is of  beam score:  -6.087005615234375\n",
            "\n",
            "yes  beam score:  -1.6268314123153687\n",
            "i was a now  beam score:  -3.6284029483795166\n",
            "it's sir the favor the now town now now  beam score:  -6.82769054836697\n",
            "\n",
            "i was  beam score:  -1.7875832319259644\n",
            "i'm  beam score:  -2.573168992996216\n",
            "and wasn't thinking i know you hoping is her  beam score:  -6.750890943739149\n",
            "\n"
          ],
          "name": "stdout"
        }
      ]
    },
    {
      "cell_type": "code",
      "metadata": {
        "id": "Hp75mjyk2CzH",
        "colab_type": "code",
        "colab": {}
      },
      "source": [
        ""
      ],
      "execution_count": null,
      "outputs": []
    }
  ]
}