{
  "nbformat": 4,
  "nbformat_minor": 0,
  "metadata": {
    "colab": {
      "name": "ResponseGeneration",
      "provenance": [],
      "collapsed_sections": [],
      "authorship_tag": "ABX9TyMdC2J6P5rkJzU+WgZbeW8U"
    },
    "kernelspec": {
      "name": "python3",
      "display_name": "Python 3"
    },
    "accelerator": "GPU"
  },
  "cells": [
    {
      "cell_type": "markdown",
      "metadata": {
        "id": "BctoPGKXmjfx",
        "colab_type": "text"
      },
      "source": [
        "# Data Preparation"
      ]
    },
    {
      "cell_type": "code",
      "metadata": {
        "id": "rirUTulY3wQq",
        "colab_type": "code",
        "colab": {
          "base_uri": "https://localhost:8080/",
          "height": 204
        },
        "outputId": "bde3161a-f1c7-4173-dcb3-510bdeb68dd8"
      },
      "source": [
        "!wget https://raw.githubusercontent.com/Stellarator-X/ConvoBot/servus/Programming%20Assignments/Speech%20Recognition/ds_utils/aesthetix.py"
      ],
      "execution_count": 1,
      "outputs": [
        {
          "output_type": "stream",
          "text": [
            "--2020-06-17 21:09:34--  https://raw.githubusercontent.com/Stellarator-X/ConvoBot/servus/Programming%20Assignments/Speech%20Recognition/ds_utils/aesthetix.py\n",
            "Resolving raw.githubusercontent.com (raw.githubusercontent.com)... 151.101.0.133, 151.101.64.133, 151.101.128.133, ...\n",
            "Connecting to raw.githubusercontent.com (raw.githubusercontent.com)|151.101.0.133|:443... connected.\n",
            "HTTP request sent, awaiting response... 200 OK\n",
            "Length: 1212 (1.2K) [text/plain]\n",
            "Saving to: ‘aesthetix.py.5’\n",
            "\n",
            "\raesthetix.py.5        0%[                    ]       0  --.-KB/s               \raesthetix.py.5      100%[===================>]   1.18K  --.-KB/s    in 0s      \n",
            "\n",
            "2020-06-17 21:09:34 (65.6 MB/s) - ‘aesthetix.py.5’ saved [1212/1212]\n",
            "\n"
          ],
          "name": "stdout"
        }
      ]
    },
    {
      "cell_type": "code",
      "metadata": {
        "id": "pM1_bpbpZA8O",
        "colab_type": "code",
        "colab": {}
      },
      "source": [
        "import numpy as np \n",
        "from sklearn.model_selection import train_test_split\n",
        "import aesthetix as at"
      ],
      "execution_count": 2,
      "outputs": []
    },
    {
      "cell_type": "code",
      "metadata": {
        "id": "8rrPXDRVdYPA",
        "colab_type": "code",
        "colab": {
          "base_uri": "https://localhost:8080/",
          "height": 204
        },
        "outputId": "d4cb7a74-9c81-4522-f1bd-9fe33dd91a05"
      },
      "source": [
        "# Downloading movie_lines\n",
        "!wget https://raw.githubusercontent.com/Stellarator-X/ConvoBot/servus/Programming%20Assignments/Response%20Generation/movie_lines.txt"
      ],
      "execution_count": 3,
      "outputs": [
        {
          "output_type": "stream",
          "text": [
            "--2020-06-17 21:09:38--  https://raw.githubusercontent.com/Stellarator-X/ConvoBot/servus/Programming%20Assignments/Response%20Generation/movie_lines.txt\n",
            "Resolving raw.githubusercontent.com (raw.githubusercontent.com)... 151.101.0.133, 151.101.64.133, 151.101.128.133, ...\n",
            "Connecting to raw.githubusercontent.com (raw.githubusercontent.com)|151.101.0.133|:443... connected.\n",
            "HTTP request sent, awaiting response... 200 OK\n",
            "Length: 34641921 (33M) [text/plain]\n",
            "Saving to: ‘movie_lines.txt.5’\n",
            "\n",
            "movie_lines.txt.5   100%[===================>]  33.04M   133MB/s    in 0.2s    \n",
            "\n",
            "2020-06-17 21:09:39 (133 MB/s) - ‘movie_lines.txt.5’ saved [34641921/34641921]\n",
            "\n"
          ],
          "name": "stdout"
        }
      ]
    },
    {
      "cell_type": "code",
      "metadata": {
        "id": "CmPWdro0wiiP",
        "colab_type": "code",
        "colab": {
          "base_uri": "https://localhost:8080/",
          "height": 51
        },
        "outputId": "637e766f-9a5d-4ebd-985d-47d0ee120213"
      },
      "source": [
        "movielines = open(\"movie_lines.txt\", mode='r')\n",
        "print(movielines)\n",
        "lines = movielines.readlines()\n",
        "print(len(lines))"
      ],
      "execution_count": 4,
      "outputs": [
        {
          "output_type": "stream",
          "text": [
            "<_io.TextIOWrapper name='movie_lines.txt' mode='r' encoding='UTF-8'>\n",
            "304713\n"
          ],
          "name": "stdout"
        }
      ]
    },
    {
      "cell_type": "code",
      "metadata": {
        "id": "AKm3kb-A1xyh",
        "colab_type": "code",
        "colab": {
          "base_uri": "https://localhost:8080/",
          "height": 377
        },
        "outputId": "932efeb4-72cc-4870-f7e4-8891ba0b2763"
      },
      "source": [
        "for line in lines[-10:]:\n",
        "  print(line)"
      ],
      "execution_count": 5,
      "outputs": [
        {
          "output_type": "stream",
          "text": [
            "L666262 +++$+++ u9031 +++$+++ m616 +++$+++ MELVILL +++$+++ Lighting COGHILL' 5 cigar: Our good Colonel Dumford scored quite a coup with the Sikali Horse.\n",
            "\n",
            "L666522 +++$+++ u9034 +++$+++ m616 +++$+++ VEREKER +++$+++ So far only their scouts. But we have had reports of a small Impi farther north, over there. \n",
            "\n",
            "L666521 +++$+++ u9030 +++$+++ m616 +++$+++ DURNFORD +++$+++ And I assure you, you do not In fact I'd be obliged for your best advice. What have your scouts seen?\n",
            "\n",
            "L666520 +++$+++ u9034 +++$+++ m616 +++$+++ VEREKER +++$+++ Well I assure you, Sir, I have no desire to create difficulties. 45\n",
            "\n",
            "L666372 +++$+++ u9034 +++$+++ m616 +++$+++ VEREKER +++$+++ I think Chelmsford wants a good man on the border Why he fears a flanking attack and requires a steady Commander in reserve.\n",
            "\n",
            "L666371 +++$+++ u9030 +++$+++ m616 +++$+++ DURNFORD +++$+++ Lord Chelmsford seems to want me to stay back with my Basutos.\n",
            "\n",
            "L666370 +++$+++ u9034 +++$+++ m616 +++$+++ VEREKER +++$+++ I'm to take the Sikali with the main column to the river\n",
            "\n",
            "L666369 +++$+++ u9030 +++$+++ m616 +++$+++ DURNFORD +++$+++ Your orders, Mr Vereker?\n",
            "\n",
            "L666257 +++$+++ u9030 +++$+++ m616 +++$+++ DURNFORD +++$+++ Good ones, yes, Mr Vereker. Gentlemen who can ride and shoot\n",
            "\n",
            "L666256 +++$+++ u9034 +++$+++ m616 +++$+++ VEREKER +++$+++ Colonel Durnford... William Vereker. I hear you 've been seeking Officers?\n",
            "\n"
          ],
          "name": "stdout"
        }
      ]
    },
    {
      "cell_type": "code",
      "metadata": {
        "id": "CWbYZKqToG6e",
        "colab_type": "code",
        "colab": {
          "base_uri": "https://localhost:8080/",
          "height": 204
        },
        "outputId": "79d31ee5-5b6a-4b1f-95a8-e364e19511dc"
      },
      "source": [
        "sample_size = 30000\n",
        "cleanlines = []\n",
        "for i, line in enumerate(lines[:sample_size]):\n",
        "  at.progress_bar(\"Cleaning the lines\", i, len(lines[:sample_size]))\n",
        "  speaker, line = line.split('+++$+++ ')[-2:]\n",
        "  cleanlines.append([speaker.split(\" \")[0], line.split('\\n')[0]])\n",
        "\n",
        "cleanlines.reverse()\n",
        "cleanlines = np.array(cleanlines)\n",
        "for line in cleanlines[:10]:\n",
        "  print(line[0],\":\",line[1])"
      ],
      "execution_count": 6,
      "outputs": [
        {
          "output_type": "stream",
          "text": [
            "Cleaning the lines:[==============================](100.00%)  \n",
            "BOZO : Yeah, maybe.\n",
            "HEROINE : Get something on that.\n",
            "BOZO : Where the hell are we going to go then, Billy Jack!?\n",
            "HEROINE : There's a bomb shelter over in Durant, by the IGA, on First. You all know where that is?\n",
            "BOZO : Welcome back.\n",
            "ROADIE : F-f-fuck you.\n",
            "ROADIE : They were all over the place.\n",
            "BOZO : You smell like ass!\n",
            "ROADIE : Look, the armed surround the unarmed in a circle and we move as a tight group. Those that can shoot, protect the rest to his ride.\n",
            "BOZO : Hey, when this plan completely goes to shit, what are ya gonna do?\n"
          ],
          "name": "stdout"
        }
      ]
    },
    {
      "cell_type": "code",
      "metadata": {
        "id": "Ydf-f2aklFG1",
        "colab_type": "code",
        "colab": {}
      },
      "source": [
        "def clean_str(_str):\n",
        "        _str = _str.strip()\n",
        "        _str = _str.lower()\n",
        "        _str = _str.replace(\".\", \"\")\n",
        "        _str = _str.replace(\",\", \"\")\n",
        "        _str = _str.replace(\"?\", \"\")\n",
        "        _str = _str.replace(\"!\", \"\")\n",
        "        _str = _str.replace(\":\", \"\")\n",
        "        _str = _str.replace(\"-\", \" \")\n",
        "        _str = _str.replace(\"_\", \" \")\n",
        "        _str = _str.replace(\"\\\\\", \"\")\n",
        "        _str = _str.replace(\"  \", \" \")\n",
        "        return _str"
      ],
      "execution_count": 7,
      "outputs": []
    },
    {
      "cell_type": "code",
      "metadata": {
        "id": "mRKx3cY0U1w1",
        "colab_type": "code",
        "colab": {
          "base_uri": "https://localhost:8080/",
          "height": 238
        },
        "outputId": "38e6044b-dd84-4f02-f9a4-43486d159b57"
      },
      "source": [
        "# Forming the dataset \n",
        "response_data = []\n",
        "l = len(cleanlines)-1\n",
        "for i, line in enumerate(cleanlines[:-1]):\n",
        "  at.progress_bar(\"Generating Stimulus-Response Pairs\", i, l)\n",
        "  speaker, utterance = line\n",
        "  next_speaker, next_utterance = cleanlines[i+1]\n",
        "  if speaker is not next_speaker:\n",
        "    response_data.append(np.array([clean_str(utterance.lower()), clean_str(next_utterance.lower())]))\n",
        "  \n",
        "response_data = np.array(response_data)\n",
        "print(response_data.shape)\n",
        "print(response_data[-10:])"
      ],
      "execution_count": 8,
      "outputs": [
        {
          "output_type": "stream",
          "text": [
            "Generating Stimulus-Response Pairs:[==============================](98.86%)  (29999, 2)\n",
            "[['the \"real you\"' 'like my fear of wearing pastels']\n",
            " ['like my fear of wearing pastels'\n",
            "  'i\\'m kidding you know how sometimes you just become this \"persona\" and you don\\'t know how to quit']\n",
            " ['i\\'m kidding you know how sometimes you just become this \"persona\" and you don\\'t know how to quit'\n",
            "  'no']\n",
            " ['no' \"okay  you're gonna need to learn how to lie\"]\n",
            " [\"okay  you're gonna need to learn how to lie\" 'wow']\n",
            " ['wow' \"let's go\"]\n",
            " [\"let's go\" 'she okay']\n",
            " ['she okay' 'i hope so']\n",
            " ['i hope so' 'they do to']\n",
            " ['they do to' 'they do not']]\n"
          ],
          "name": "stdout"
        }
      ]
    },
    {
      "cell_type": "code",
      "metadata": {
        "id": "akxSWd_XybuY",
        "colab_type": "code",
        "colab": {
          "base_uri": "https://localhost:8080/",
          "height": 319
        },
        "outputId": "6a7115c0-99fc-4ab8-fd6f-740cfc3b3c8d"
      },
      "source": [
        "import matplotlib.pyplot as plt \n",
        "%matplotlib inline\n",
        "a = [len(s) for s in response_data[:,0]]\n",
        "a_ = [s for s in response_data[:,0] if len(s)>2000]\n",
        "plt.plot(a)\n",
        "plt.show()\n",
        "print(np.mean(np.array(a)))\n",
        "print(\"Longest utterance : \", a_)"
      ],
      "execution_count": 9,
      "outputs": [
        {
          "output_type": "display_data",
          "data": {
            "image/png": "[encoded data removed]",
            "text/plain": [
              "<Figure size 432x288 with 1 Axes>"
            ]
          },
          "metadata": {
            "tags": [],
            "needs_background": "light"
          }
        },
        {
          "output_type": "stream",
          "text": [
            "51.615920530684356\n",
            "Longest utterance :  [\"shit o dear that's enough to make me asthmatic the nerve of those twits what do they know about female odor don't interrupt here's my concept my ranch out west it's a beauty ranch oh it's got a few head of cattle for atmosphere and tax purposes but it's a beauty ranch a place where unhappy women  divorcees and widows mainly  can go to lose weight remove wrinkles change their hair styles and pretty themselves up for the next disappointment my ranch is named the rubber rose after the rubber rose douche bag my own invention and bless its little red bladder the most popular douche bag in the world so get this it's on the migratory flight path of the whooping cranes the last flock of wild whooping cranes left in existence well these cranes stop off at my little pond  siwash lake it's called  twice a year autumn and spring and spend a few days each time resting up eating doing whatever whooping cranes do i've never seen them understand but i hear they're magnificent very big specimens  i mean huge mothers  and white as snow to coin a phrase except for black tips on their wings and tail feathers and bright red heads now whooping cranes in case you didn't know it are noted for their mating dance it's just the wildest show in nature it's probably the reason why birdwatching used to be so popular with old maids and deacons picture these rare beautiful gigantic birds in full dance  leaping six feet off the mud arching their backs flapping their wings strutting low to the ground dears it's overwhelming and picture the birds doing their sex dance on tv right there on the home screen creation's most elaborate sex ritual  yet clean and pure enough to suit the pope with lovely sissy hankshaw in the foreground in a white gown red hood attached and big feathery sleeves trimmed in black in a very subdued imitation of the female whooping crane she dance/walks over to a large nest in which there sits a can of yoni yum and a can of dew off camera a string quartet is playing debussy a sensuous voice is reading a few poetic lines about courtship and love are you starting to get it doesn't it make the hair on your neck stand up and applaud my very goodness gracious grandiose lyrical erotic and girl scout oriented; you can't top it i've hired a crew of experts from walt disney studios the best wildlife cinematographers around you're my eternal favorite princess grace herself couldn't be better not even if she had your personality which she doesn't; anyway dear i'm out of photography now and into water colors ah how circuitous conversation is we're back at the beginning the exact man i've wanted you to meet is my artist the watercolorist\"]\n"
          ],
          "name": "stdout"
        }
      ]
    },
    {
      "cell_type": "code",
      "metadata": {
        "id": "374Iz8aIWnKr",
        "colab_type": "code",
        "colab": {}
      },
      "source": [
        "# Preprocessing the Data\n",
        "from tensorflow.keras.preprocessing.text import Tokenizer \n",
        "from tensorflow.keras.preprocessing.sequence import pad_sequences\n",
        "\n",
        "oov_token = \"<OOV>\"\n",
        "max_length = 300\n",
        "\n",
        "stimuli = response_data[:, 0]\n",
        "responses = response_data[:, 1]\n",
        "\n",
        "tokenizer = Tokenizer(oov_token=oov_token)\n",
        "tokenizer.fit_on_texts(stimuli)\n",
        "\n",
        "word_index = tokenizer.word_index\n",
        "vocab_size=len(word_index)\n",
        "\n",
        "stimulus_sequences = tokenizer.texts_to_sequences(stimuli)\n",
        "response_sequences = tokenizer.texts_to_sequences(responses)\n",
        "\n",
        "padded_stimulus_sequences = pad_sequences(stimulus_sequences, maxlen = max_length ,padding = 'post', truncating = 'post')\n",
        "padded_response_sequences = pad_sequences(response_sequences, maxlen = max_length, padding = 'post', truncating = 'post')"
      ],
      "execution_count": 10,
      "outputs": []
    },
    {
      "cell_type": "markdown",
      "metadata": {
        "id": "6nniAEr6mrxb",
        "colab_type": "text"
      },
      "source": [
        "# Seq2Seq Attention Model"
      ]
    },
    {
      "cell_type": "code",
      "metadata": {
        "id": "HlajpokaVmzt",
        "colab_type": "code",
        "colab": {
          "base_uri": "https://localhost:8080/",
          "height": 34
        },
        "outputId": "ae7d4634-edce-423b-fbc9-650f5e2ac6d6"
      },
      "source": [
        "from keras.layers import Dense, GRU, Bidirectional, Concatenate, Permute, Dot \n",
        "from keras.layers import RepeatVector, Activation, Lambda, Input, Multiply, Embedding\n",
        "from keras.optimizers import Adam \n",
        "from keras.utils import to_categorical\n",
        "from keras.models import load_model, Model\n",
        "import keras.backend as K"
      ],
      "execution_count": 11,
      "outputs": [
        {
          "output_type": "stream",
          "text": [
            "Using TensorFlow backend.\n"
          ],
          "name": "stderr"
        }
      ]
    },
    {
      "cell_type": "code",
      "metadata": {
        "id": "7pKIwu2ywWZY",
        "colab_type": "code",
        "colab": {
          "base_uri": "https://localhost:8080/",
          "height": 204
        },
        "outputId": "ea986743-101a-46f9-e30b-f90bc87ea55c"
      },
      "source": [
        "# Getting the embeddings matrix from trained Glove Embeddings\n",
        "embedding_dim = 100\n",
        "\n",
        "!wget --no-check-certificate \\\n",
        "    https://storage.googleapis.com/laurencemoroney-blog.appspot.com/glove.6B.100d.txt \\\n",
        "    -O /tmp/glove.6B.100d.txt\n",
        "embeddings_index = {};\n",
        "with open('/tmp/glove.6B.100d.txt') as f:\n",
        "    for line in f:\n",
        "        values = line.split();\n",
        "        word = values[0];\n",
        "        coefs = np.asarray(values[1:], dtype='float32');\n",
        "        embeddings_index[word] = coefs;\n",
        "\n",
        "embeddings_matrix = np.zeros((vocab_size+1, embedding_dim));\n",
        "for word, i in word_index.items():\n",
        "    embedding_vector = embeddings_index.get(word);\n",
        "    if embedding_vector is not None:\n",
        "        embeddings_matrix[i] = embedding_vector;"
      ],
      "execution_count": 12,
      "outputs": [
        {
          "output_type": "stream",
          "text": [
            "--2020-06-17 21:11:26--  https://storage.googleapis.com/laurencemoroney-blog.appspot.com/glove.6B.100d.txt\n",
            "Resolving storage.googleapis.com (storage.googleapis.com)... 74.125.206.128, 2a00:1450:400c:c09::80\n",
            "Connecting to storage.googleapis.com (storage.googleapis.com)|74.125.206.128|:443... connected.\n",
            "HTTP request sent, awaiting response... 200 OK\n",
            "Length: 347116733 (331M) [text/plain]\n",
            "Saving to: ‘/tmp/glove.6B.100d.txt’\n",
            "\n",
            "\r/tmp/glove.6B.100d.   0%[                    ]       0  --.-KB/s               \r/tmp/glove.6B.100d.   1%[                    ]   4.01M  16.6MB/s               \r/tmp/glove.6B.100d.   2%[                    ]   8.01M  14.5MB/s               \r/tmp/glove.6B.100d.   8%[>                   ]  26.54M  35.2MB/s               \r/tmp/glove.6B.100d.  15%[==>                 ]  52.55M  55.1MB/s               \r/tmp/glove.6B.100d.  24%[===>                ]  79.90M  69.3MB/s               \r/tmp/glove.6B.100d.  29%[====>               ]  96.01M  57.1MB/s               \r/tmp/glove.6B.100d.  37%[======>             ] 125.34M  66.6MB/s               \r/tmp/glove.6B.100d.  47%[========>           ] 158.17M  76.0MB/s               \r/tmp/glove.6B.100d.  52%[=========>          ] 175.14M  76.8MB/s               \r/tmp/glove.6B.100d.  59%[==========>         ] 197.49M  79.6MB/s               \r/tmp/glove.6B.100d.  67%[============>       ] 222.02M  82.8MB/s               \r/tmp/glove.6B.100d.  74%[=============>      ] 246.82M  85.7MB/s               \r/tmp/glove.6B.100d.  74%[=============>      ] 248.01M  74.5MB/s    eta 1s     \r/tmp/glove.6B.100d.  79%[==============>     ] 264.16M  74.8MB/s    eta 1s     \r/tmp/glove.6B.100d.  86%[================>   ] 286.56M  76.8MB/s    eta 1s     \r/tmp/glove.6B.100d.  91%[=================>  ] 304.01M  74.1MB/s    eta 1s     \r/tmp/glove.6B.100d.  97%[==================> ] 323.45M  78.5MB/s    eta 1s     \r/tmp/glove.6B.100d. 100%[===================>] 331.04M  78.9MB/s    in 4.4s    \n",
            "\n",
            "2020-06-17 21:11:31 (75.5 MB/s) - ‘/tmp/glove.6B.100d.txt’ saved [347116733/347116733]\n",
            "\n"
          ],
          "name": "stdout"
        }
      ]
    },
    {
      "cell_type": "code",
      "metadata": {
        "id": "g32tQ-ujWhPY",
        "colab_type": "code",
        "colab": {}
      },
      "source": [
        "# Shared Layers\n",
        "Repeator = RepeatVector(300)\n",
        "Concatenator = Concatenate()\n",
        "Dense1 = Dense(10, activation = 'tanh')\n",
        "Dense2 = Dense(1, activation = 'relu')\n",
        "Activator = Activation(lambda x:K.softmax(x, axis = 1), name = 'Attention_params')\n",
        "DotLayer = Dot(axes=1)"
      ],
      "execution_count": 13,
      "outputs": []
    },
    {
      "cell_type": "code",
      "metadata": {
        "id": "hurJFNjJVrdn",
        "colab_type": "code",
        "colab": {}
      },
      "source": [
        "def AttentionLayer(a, s_prev):\n",
        "  s_prev = Repeator(s_prev)\n",
        "  concat = Concatenator([a, s_prev])\n",
        "  e = Dense1(concat)\n",
        "  e = Dense2(e)\n",
        "  alphas = Activator(e)\n",
        "  context = DotLayer([alphas, a])\n",
        "  return context"
      ],
      "execution_count": 14,
      "outputs": []
    },
    {
      "cell_type": "code",
      "metadata": {
        "id": "Gm0Vc6RqYR5b",
        "colab_type": "code",
        "colab": {}
      },
      "source": [
        "pre_attention_units = 200\n",
        "post_attention_units = 400\n",
        "outLength = 500\n",
        "\n",
        "PostAttentionGru = GRU(post_attention_units, return_state=True)\n",
        "OutputLayer = Dense(outLength, activation = 'softmax')"
      ],
      "execution_count": 15,
      "outputs": []
    },
    {
      "cell_type": "code",
      "metadata": {
        "id": "FamKGNfDZSQJ",
        "colab_type": "code",
        "colab": {}
      },
      "source": [
        "def ResponseModel(maxlen, pre_attention_units, post_attention_units, vocab_size):\n",
        "  \"\"\"\n",
        "    Parameters:\n",
        "      maxlen : maxlen\n",
        "      pre_attention_units : hidden state size of the BiGRU\n",
        "      post_attention_units : hidden state size of the post-attention GRU\n",
        "      vocab_size -- size of the python dictionary \"human_vocab\"\n",
        "    Returns:\n",
        "      ResponseModel instance  \n",
        "  \"\"\"\n",
        "  X = Input(shape=(maxlen,))\n",
        "  s0 = Input(shape = (post_attention_units,), name = 's0')\n",
        "  c0 = Input(shape = (post_attention_units,), name = 'c0')\n",
        "  s=s0\n",
        "  c=c0\n",
        "\n",
        "  outputs = []\n",
        "\n",
        "  X_emb = Embedding(vocab_size+1, embedding_dim, weights = [embeddings_matrix], trainable = False, input_length=maxlen)(X)\n",
        "  a = Bidirectional(GRU(units = pre_attention_units, return_sequences=True))(X_emb)\n",
        "\n",
        "  for t in range(maxlen):\n",
        "    context = AttentionLayer(a, s)\n",
        "    s, _ ,c = PostAttentionGru(context, initial_state=[s, c])\n",
        "    out = OutputLayer(s)\n",
        "    outputs.append(out)\n",
        "  \n",
        "  model = Model(inputs = [X, s0, c0], outputs = outputs)\n",
        "\n",
        "  return model"
      ],
      "execution_count": 16,
      "outputs": []
    },
    {
      "cell_type": "code",
      "metadata": {
        "id": "mMsGFhxLbymF",
        "colab_type": "code",
        "colab": {
          "base_uri": "https://localhost:8080/",
          "height": 343
        },
        "outputId": "7bd0c73d-d97d-40a0-8ed5-23125cc89b8b"
      },
      "source": [
        "randommod = ResponseModel(max_length, 200, 400, vocab_size)\n",
        "randommod.summary()"
      ],
      "execution_count": 17,
      "outputs": [
        {
          "output_type": "error",
          "ename": "ValueError",
          "evalue": "ignored",
          "traceback": [
            "\u001b[0;31m---------------------------------------------------------------------------\u001b[0m",
            "\u001b[0;31mValueError\u001b[0m                                Traceback (most recent call last)",
            "\u001b[0;32m<ipython-input-17-1c31d621e936>\u001b[0m in \u001b[0;36m<module>\u001b[0;34m()\u001b[0m\n\u001b[0;32m----> 1\u001b[0;31m \u001b[0mrandommod\u001b[0m \u001b[0;34m=\u001b[0m \u001b[0mResponseModel\u001b[0m\u001b[0;34m(\u001b[0m\u001b[0mmax_length\u001b[0m\u001b[0;34m,\u001b[0m \u001b[0;36m200\u001b[0m\u001b[0;34m,\u001b[0m \u001b[0;36m400\u001b[0m\u001b[0;34m,\u001b[0m \u001b[0mvocab_size\u001b[0m\u001b[0;34m)\u001b[0m\u001b[0;34m\u001b[0m\u001b[0;34m\u001b[0m\u001b[0m\n\u001b[0m\u001b[1;32m      2\u001b[0m \u001b[0mrandommod\u001b[0m\u001b[0;34m.\u001b[0m\u001b[0msummary\u001b[0m\u001b[0;34m(\u001b[0m\u001b[0;34m)\u001b[0m\u001b[0;34m\u001b[0m\u001b[0;34m\u001b[0m\u001b[0m\n",
            "\u001b[0;32m<ipython-input-16-4b3cad6f6580>\u001b[0m in \u001b[0;36mResponseModel\u001b[0;34m(maxlen, pre_attention_units, post_attention_units, vocab_size)\u001b[0m\n\u001b[1;32m     22\u001b[0m   \u001b[0;32mfor\u001b[0m \u001b[0mt\u001b[0m \u001b[0;32min\u001b[0m \u001b[0mrange\u001b[0m\u001b[0;34m(\u001b[0m\u001b[0mmaxlen\u001b[0m\u001b[0;34m)\u001b[0m\u001b[0;34m:\u001b[0m\u001b[0;34m\u001b[0m\u001b[0;34m\u001b[0m\u001b[0m\n\u001b[1;32m     23\u001b[0m     \u001b[0mcontext\u001b[0m \u001b[0;34m=\u001b[0m \u001b[0mAttentionLayer\u001b[0m\u001b[0;34m(\u001b[0m\u001b[0ma\u001b[0m\u001b[0;34m,\u001b[0m \u001b[0ms\u001b[0m\u001b[0;34m)\u001b[0m\u001b[0;34m\u001b[0m\u001b[0;34m\u001b[0m\u001b[0m\n\u001b[0;32m---> 24\u001b[0;31m     \u001b[0ms\u001b[0m\u001b[0;34m,\u001b[0m \u001b[0m_\u001b[0m \u001b[0;34m,\u001b[0m\u001b[0mc\u001b[0m \u001b[0;34m=\u001b[0m \u001b[0mPostAttentionGru\u001b[0m\u001b[0;34m(\u001b[0m\u001b[0mcontext\u001b[0m\u001b[0;34m,\u001b[0m \u001b[0minitial_state\u001b[0m\u001b[0;34m=\u001b[0m\u001b[0;34m[\u001b[0m\u001b[0ms\u001b[0m\u001b[0;34m,\u001b[0m \u001b[0mc\u001b[0m\u001b[0;34m]\u001b[0m\u001b[0;34m)\u001b[0m\u001b[0;34m\u001b[0m\u001b[0;34m\u001b[0m\u001b[0m\n\u001b[0m\u001b[1;32m     25\u001b[0m     \u001b[0mout\u001b[0m \u001b[0;34m=\u001b[0m \u001b[0mOutputLayer\u001b[0m\u001b[0;34m(\u001b[0m\u001b[0ms\u001b[0m\u001b[0;34m)\u001b[0m\u001b[0;34m\u001b[0m\u001b[0;34m\u001b[0m\u001b[0m\n\u001b[1;32m     26\u001b[0m     \u001b[0moutputs\u001b[0m\u001b[0;34m.\u001b[0m\u001b[0mappend\u001b[0m\u001b[0;34m(\u001b[0m\u001b[0mout\u001b[0m\u001b[0;34m)\u001b[0m\u001b[0;34m\u001b[0m\u001b[0;34m\u001b[0m\u001b[0m\n",
            "\u001b[0;32m/usr/local/lib/python3.6/dist-packages/keras/layers/recurrent.py\u001b[0m in \u001b[0;36m__call__\u001b[0;34m(self, inputs, initial_state, constants, **kwargs)\u001b[0m\n\u001b[1;32m    582\u001b[0m             \u001b[0;32mif\u001b[0m \u001b[0;34m'constants'\u001b[0m \u001b[0;32min\u001b[0m \u001b[0mkwargs\u001b[0m\u001b[0;34m:\u001b[0m\u001b[0;34m\u001b[0m\u001b[0;34m\u001b[0m\u001b[0m\n\u001b[1;32m    583\u001b[0m                 \u001b[0mkwargs\u001b[0m\u001b[0;34m.\u001b[0m\u001b[0mpop\u001b[0m\u001b[0;34m(\u001b[0m\u001b[0;34m'constants'\u001b[0m\u001b[0;34m)\u001b[0m\u001b[0;34m\u001b[0m\u001b[0;34m\u001b[0m\u001b[0m\n\u001b[0;32m--> 584\u001b[0;31m             \u001b[0moutput\u001b[0m \u001b[0;34m=\u001b[0m \u001b[0msuper\u001b[0m\u001b[0;34m(\u001b[0m\u001b[0mRNN\u001b[0m\u001b[0;34m,\u001b[0m \u001b[0mself\u001b[0m\u001b[0;34m)\u001b[0m\u001b[0;34m.\u001b[0m\u001b[0m__call__\u001b[0m\u001b[0;34m(\u001b[0m\u001b[0mfull_input\u001b[0m\u001b[0;34m,\u001b[0m \u001b[0;34m**\u001b[0m\u001b[0mkwargs\u001b[0m\u001b[0;34m)\u001b[0m\u001b[0;34m\u001b[0m\u001b[0;34m\u001b[0m\u001b[0m\n\u001b[0m\u001b[1;32m    585\u001b[0m             \u001b[0mself\u001b[0m\u001b[0;34m.\u001b[0m\u001b[0minput_spec\u001b[0m \u001b[0;34m=\u001b[0m \u001b[0moriginal_input_spec\u001b[0m\u001b[0;34m\u001b[0m\u001b[0;34m\u001b[0m\u001b[0m\n\u001b[1;32m    586\u001b[0m             \u001b[0;32mreturn\u001b[0m \u001b[0moutput\u001b[0m\u001b[0;34m\u001b[0m\u001b[0;34m\u001b[0m\u001b[0m\n",
            "\u001b[0;32m/usr/local/lib/python3.6/dist-packages/keras/backend/tensorflow_backend.py\u001b[0m in \u001b[0;36msymbolic_fn_wrapper\u001b[0;34m(*args, **kwargs)\u001b[0m\n\u001b[1;32m     73\u001b[0m         \u001b[0;32mif\u001b[0m \u001b[0m_SYMBOLIC_SCOPE\u001b[0m\u001b[0;34m.\u001b[0m\u001b[0mvalue\u001b[0m\u001b[0;34m:\u001b[0m\u001b[0;34m\u001b[0m\u001b[0;34m\u001b[0m\u001b[0m\n\u001b[1;32m     74\u001b[0m             \u001b[0;32mwith\u001b[0m \u001b[0mget_graph\u001b[0m\u001b[0;34m(\u001b[0m\u001b[0;34m)\u001b[0m\u001b[0;34m.\u001b[0m\u001b[0mas_default\u001b[0m\u001b[0;34m(\u001b[0m\u001b[0;34m)\u001b[0m\u001b[0;34m:\u001b[0m\u001b[0;34m\u001b[0m\u001b[0;34m\u001b[0m\u001b[0m\n\u001b[0;32m---> 75\u001b[0;31m                 \u001b[0;32mreturn\u001b[0m \u001b[0mfunc\u001b[0m\u001b[0;34m(\u001b[0m\u001b[0;34m*\u001b[0m\u001b[0margs\u001b[0m\u001b[0;34m,\u001b[0m \u001b[0;34m**\u001b[0m\u001b[0mkwargs\u001b[0m\u001b[0;34m)\u001b[0m\u001b[0;34m\u001b[0m\u001b[0;34m\u001b[0m\u001b[0m\n\u001b[0m\u001b[1;32m     76\u001b[0m         \u001b[0;32melse\u001b[0m\u001b[0;34m:\u001b[0m\u001b[0;34m\u001b[0m\u001b[0;34m\u001b[0m\u001b[0m\n\u001b[1;32m     77\u001b[0m             \u001b[0;32mreturn\u001b[0m \u001b[0mfunc\u001b[0m\u001b[0;34m(\u001b[0m\u001b[0;34m*\u001b[0m\u001b[0margs\u001b[0m\u001b[0;34m,\u001b[0m \u001b[0;34m**\u001b[0m\u001b[0mkwargs\u001b[0m\u001b[0;34m)\u001b[0m\u001b[0;34m\u001b[0m\u001b[0;34m\u001b[0m\u001b[0m\n",
            "\u001b[0;32m/usr/local/lib/python3.6/dist-packages/keras/engine/base_layer.py\u001b[0m in \u001b[0;36m__call__\u001b[0;34m(self, inputs, **kwargs)\u001b[0m\n\u001b[1;32m    461\u001b[0m                                          \u001b[0;34m'You can build it manually via: '\u001b[0m\u001b[0;34m\u001b[0m\u001b[0;34m\u001b[0m\u001b[0m\n\u001b[1;32m    462\u001b[0m                                          '`layer.build(batch_input_shape)`')\n\u001b[0;32m--> 463\u001b[0;31m                 \u001b[0mself\u001b[0m\u001b[0;34m.\u001b[0m\u001b[0mbuild\u001b[0m\u001b[0;34m(\u001b[0m\u001b[0munpack_singleton\u001b[0m\u001b[0;34m(\u001b[0m\u001b[0minput_shapes\u001b[0m\u001b[0;34m)\u001b[0m\u001b[0;34m)\u001b[0m\u001b[0;34m\u001b[0m\u001b[0;34m\u001b[0m\u001b[0m\n\u001b[0m\u001b[1;32m    464\u001b[0m                 \u001b[0mself\u001b[0m\u001b[0;34m.\u001b[0m\u001b[0mbuilt\u001b[0m \u001b[0;34m=\u001b[0m \u001b[0;32mTrue\u001b[0m\u001b[0;34m\u001b[0m\u001b[0;34m\u001b[0m\u001b[0m\n\u001b[1;32m    465\u001b[0m \u001b[0;34m\u001b[0m\u001b[0m\n",
            "\u001b[0;32m/usr/local/lib/python3.6/dist-packages/keras/layers/recurrent.py\u001b[0m in \u001b[0;36mbuild\u001b[0;34m(self, input_shape)\u001b[0m\n\u001b[1;32m    515\u001b[0m                     \u001b[0;34m'`cell.state_size`. Received `state_spec`={}; '\u001b[0m\u001b[0;34m\u001b[0m\u001b[0;34m\u001b[0m\u001b[0m\n\u001b[1;32m    516\u001b[0m                     \u001b[0;34m'however `cell.state_size` is '\u001b[0m\u001b[0;34m\u001b[0m\u001b[0;34m\u001b[0m\u001b[0m\n\u001b[0;32m--> 517\u001b[0;31m                     '{}'.format(self.state_spec, self.cell.state_size))\n\u001b[0m\u001b[1;32m    518\u001b[0m         \u001b[0;32melse\u001b[0m\u001b[0;34m:\u001b[0m\u001b[0;34m\u001b[0m\u001b[0;34m\u001b[0m\u001b[0m\n\u001b[1;32m    519\u001b[0m             self.state_spec = [InputSpec(shape=(None, dim))\n",
            "\u001b[0;31mValueError\u001b[0m: An `initial_state` was passed that is not compatible with `cell.state_size`. Received `state_spec`=[InputSpec(shape=(None, 400), ndim=2), InputSpec(shape=(None, 400), ndim=2)]; however `cell.state_size` is 400"
          ]
        }
      ]
    }
  ]
}