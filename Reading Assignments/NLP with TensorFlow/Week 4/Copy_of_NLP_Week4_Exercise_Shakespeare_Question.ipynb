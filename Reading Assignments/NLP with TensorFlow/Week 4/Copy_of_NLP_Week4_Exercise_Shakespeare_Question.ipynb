{
  "nbformat": 4,
  "nbformat_minor": 0,
  "metadata": {
    "accelerator": "GPU",
    "colab": {
      "name": "Copy of NLP_Week4_Exercise_Shakespeare_Question.ipynb",
      "provenance": []
    },
    "kernelspec": {
      "display_name": "Python 3",
      "name": "python3"
    }
  },
  "cells": [
    {
      "cell_type": "code",
      "metadata": {
        "id": "zX4Kg8DUTKWO",
        "colab_type": "code",
        "colab": {}
      },
      "source": [
        "#@title Licensed under the Apache License, Version 2.0 (the \"License\");\n",
        "# you may not use this file except in compliance with the License.\n",
        "# You may obtain a copy of the License at\n",
        "#\n",
        "# https://www.apache.org/licenses/LICENSE-2.0\n",
        "#\n",
        "# Unless required by applicable law or agreed to in writing, software\n",
        "# distributed under the License is distributed on an \"AS IS\" BASIS,\n",
        "# WITHOUT WARRANTIES OR CONDITIONS OF ANY KIND, either express or implied.\n",
        "# See the License for the specific language governing permissions and\n",
        "# limitations under the License."
      ],
      "execution_count": 0,
      "outputs": []
    },
    {
      "cell_type": "code",
      "metadata": {
        "colab_type": "code",
        "id": "BOwsuGQQY9OL",
        "colab": {}
      },
      "source": [
        "from tensorflow.keras.preprocessing.sequence import pad_sequences\n",
        "from tensorflow.keras.layers import Embedding, LSTM, Dense, Dropout, Bidirectional\n",
        "from tensorflow.keras.preprocessing.text import Tokenizer\n",
        "from tensorflow.keras.models import Sequential\n",
        "from tensorflow.keras.optimizers import Adam\n",
        "\n",
        "### YOUR CODE HERE\n",
        "# Figure out how to import regularizers\n",
        "from tensorflow.keras import regularizers \n",
        "\n",
        "###\n",
        "import tensorflow.keras.utils as ku \n",
        "import numpy as np "
      ],
      "execution_count": 0,
      "outputs": []
    },
    {
      "cell_type": "code",
      "metadata": {
        "colab_type": "code",
        "id": "PRnDnCW-Z7qv",
        "colab": {
          "base_uri": "https://localhost:8080/",
          "height": 221
        },
        "outputId": "39608f2f-8137-48bb-f258-a6a0b9d3de99"
      },
      "source": [
        "tokenizer = Tokenizer()\n",
        "!wget --no-check-certificate \\\n",
        "    https://storage.googleapis.com/laurencemoroney-blog.appspot.com/sonnets.txt \\\n",
        "    -O /tmp/sonnets.txt\n",
        "data = open('/tmp/sonnets.txt').read()\n",
        "\n",
        "corpus = data.lower().split(\"\\n\")\n",
        "\n",
        "\n",
        "tokenizer.fit_on_texts(corpus)\n",
        "total_words = len(tokenizer.word_index) + 1\n",
        "\n",
        "# create input sequences using list of tokens\n",
        "input_sequences = []\n",
        "for line in corpus:\n",
        "\ttoken_list = tokenizer.texts_to_sequences([line])[0]\n",
        "\tfor i in range(1, len(token_list)):\n",
        "\t\tn_gram_sequence = token_list[:i+1]\n",
        "\t\tinput_sequences.append(n_gram_sequence)\n",
        "\n",
        "\n",
        "# pad sequences \n",
        "max_sequence_len = max([len(x) for x in input_sequences])\n",
        "input_sequences = np.array(pad_sequences(input_sequences, maxlen=max_sequence_len, padding='pre'))\n",
        "\n",
        "# create predictors and label\n",
        "predictors, label = input_sequences[:,:-1],input_sequences[:,-1]\n",
        "\n",
        "label = ku.to_categorical(label, num_classes=total_words)\n",
        "\n",
        "print(label.shape)"
      ],
      "execution_count": 21,
      "outputs": [
        {
          "output_type": "stream",
          "text": [
            "--2020-05-13 03:08:03--  https://storage.googleapis.com/laurencemoroney-blog.appspot.com/sonnets.txt\n",
            "Resolving storage.googleapis.com (storage.googleapis.com)... 172.217.194.128, 2404:6800:4003:c04::80\n",
            "Connecting to storage.googleapis.com (storage.googleapis.com)|172.217.194.128|:443... connected.\n",
            "HTTP request sent, awaiting response... 200 OK\n",
            "Length: 93578 (91K) [text/plain]\n",
            "Saving to: ‘/tmp/sonnets.txt’\n",
            "\n",
            "\r/tmp/sonnets.txt      0%[                    ]       0  --.-KB/s               \r/tmp/sonnets.txt    100%[===================>]  91.38K  --.-KB/s    in 0.001s  \n",
            "\n",
            "2020-05-13 03:08:03 (136 MB/s) - ‘/tmp/sonnets.txt’ saved [93578/93578]\n",
            "\n",
            "(15462, 3211)\n"
          ],
          "name": "stdout"
        }
      ]
    },
    {
      "cell_type": "code",
      "metadata": {
        "colab_type": "code",
        "id": "w9vH8Y59ajYL",
        "colab": {
          "base_uri": "https://localhost:8080/",
          "height": 374
        },
        "outputId": "8b9c87f5-7ca2-4139-92b7-7c72570d7a61"
      },
      "source": [
        "model = Sequential()\n",
        "model.add(Embedding(input_dim=total_words, output_dim =300, input_length=max_sequence_len))\n",
        "model.add(Bidirectional(LSTM(128, return_sequences = True)))\n",
        "model.add(Dropout(0.3))\n",
        "model.add(Bidirectional(LSTM(64)))\n",
        "model.add(Dense(64, activation = 'relu',kernel_regularizer=regularizers.l1_l2(l1=1e-5, l2=1e-4),\n",
        "    bias_regularizer=regularizers.l2(1e-4),\n",
        "    activity_regularizer=regularizers.l2(1e-5)))\n",
        "model.add(Dense(total_words, activation = 'softmax'))\n",
        "# Pick an optimizer\n",
        "model.compile(optimizer = 'adam', metrics = ['accuracy'], loss = 'categorical_crossentropy')\n",
        "print(model.summary())\n"
      ],
      "execution_count": 29,
      "outputs": [
        {
          "output_type": "stream",
          "text": [
            "Model: \"sequential_14\"\n",
            "_________________________________________________________________\n",
            "Layer (type)                 Output Shape              Param #   \n",
            "=================================================================\n",
            "embedding_14 (Embedding)     (None, 11, 300)           963300    \n",
            "_________________________________________________________________\n",
            "bidirectional_15 (Bidirectio (None, 11, 256)           439296    \n",
            "_________________________________________________________________\n",
            "dropout_14 (Dropout)         (None, 11, 256)           0         \n",
            "_________________________________________________________________\n",
            "bidirectional_16 (Bidirectio (None, 128)               164352    \n",
            "_________________________________________________________________\n",
            "dense_26 (Dense)             (None, 64)                8256      \n",
            "_________________________________________________________________\n",
            "dense_27 (Dense)             (None, 3211)              208715    \n",
            "=================================================================\n",
            "Total params: 1,783,919\n",
            "Trainable params: 1,783,919\n",
            "Non-trainable params: 0\n",
            "_________________________________________________________________\n",
            "None\n"
          ],
          "name": "stdout"
        }
      ]
    },
    {
      "cell_type": "code",
      "metadata": {
        "colab_type": "code",
        "id": "AIg2f1HBxqof",
        "colab": {
          "base_uri": "https://localhost:8080/",
          "height": 1000
        },
        "outputId": "06fe4fba-1e5d-45d4-a817-9a97ce55c0c7"
      },
      "source": [
        " print(predictors.shape)\n",
        " history = model.fit(np.array(predictors), np.array(label), epochs=100, verbose=1)"
      ],
      "execution_count": 30,
      "outputs": [
        {
          "output_type": "stream",
          "text": [
            "(15462, 10)\n",
            "Epoch 1/100\n",
            "WARNING:tensorflow:Model was constructed with shape (None, 11) for input Tensor(\"embedding_14_input:0\", shape=(None, 11), dtype=float32), but it was called on an input with incompatible shape (None, 10).\n",
            "WARNING:tensorflow:Model was constructed with shape (None, 11) for input Tensor(\"embedding_14_input:0\", shape=(None, 11), dtype=float32), but it was called on an input with incompatible shape (None, 10).\n",
            "484/484 [==============================] - 8s 17ms/step - loss: 6.8400 - accuracy: 0.0239\n",
            "Epoch 2/100\n",
            "484/484 [==============================] - 8s 17ms/step - loss: 6.4711 - accuracy: 0.0250\n",
            "Epoch 3/100\n",
            "484/484 [==============================] - 8s 17ms/step - loss: 6.3274 - accuracy: 0.0329\n",
            "Epoch 4/100\n",
            "484/484 [==============================] - 9s 18ms/step - loss: 6.1990 - accuracy: 0.0382\n",
            "Epoch 5/100\n",
            "484/484 [==============================] - 9s 19ms/step - loss: 6.0758 - accuracy: 0.0399\n",
            "Epoch 6/100\n",
            "484/484 [==============================] - 8s 17ms/step - loss: 5.9399 - accuracy: 0.0444\n",
            "Epoch 7/100\n",
            "484/484 [==============================] - 8s 17ms/step - loss: 5.8114 - accuracy: 0.0469\n",
            "Epoch 8/100\n",
            "484/484 [==============================] - 9s 18ms/step - loss: 5.6826 - accuracy: 0.0525\n",
            "Epoch 9/100\n",
            "484/484 [==============================] - 8s 17ms/step - loss: 5.5661 - accuracy: 0.0581\n",
            "Epoch 10/100\n",
            "484/484 [==============================] - 8s 17ms/step - loss: 5.4469 - accuracy: 0.0629\n",
            "Epoch 11/100\n",
            "484/484 [==============================] - 9s 18ms/step - loss: 5.3308 - accuracy: 0.0684\n",
            "Epoch 12/100\n",
            "484/484 [==============================] - 9s 18ms/step - loss: 5.2204 - accuracy: 0.0729\n",
            "Epoch 13/100\n",
            "484/484 [==============================] - 9s 18ms/step - loss: 5.1052 - accuracy: 0.0812\n",
            "Epoch 14/100\n",
            "484/484 [==============================] - 9s 18ms/step - loss: 4.9950 - accuracy: 0.0889\n",
            "Epoch 15/100\n",
            "484/484 [==============================] - 9s 19ms/step - loss: 4.8799 - accuracy: 0.0966\n",
            "Epoch 16/100\n",
            "484/484 [==============================] - 9s 18ms/step - loss: 4.7729 - accuracy: 0.1034\n",
            "Epoch 17/100\n",
            "484/484 [==============================] - 9s 18ms/step - loss: 4.6597 - accuracy: 0.1102\n",
            "Epoch 18/100\n",
            "484/484 [==============================] - 9s 19ms/step - loss: 4.5472 - accuracy: 0.1200\n",
            "Epoch 19/100\n",
            "484/484 [==============================] - 9s 18ms/step - loss: 4.4438 - accuracy: 0.1282\n",
            "Epoch 20/100\n",
            "484/484 [==============================] - 9s 18ms/step - loss: 4.3312 - accuracy: 0.1393\n",
            "Epoch 21/100\n",
            "484/484 [==============================] - 9s 18ms/step - loss: 4.2316 - accuracy: 0.1484\n",
            "Epoch 22/100\n",
            "484/484 [==============================] - 9s 18ms/step - loss: 4.1155 - accuracy: 0.1603\n",
            "Epoch 23/100\n",
            "484/484 [==============================] - 9s 18ms/step - loss: 4.0239 - accuracy: 0.1709\n",
            "Epoch 24/100\n",
            "484/484 [==============================] - 9s 18ms/step - loss: 3.9321 - accuracy: 0.1824\n",
            "Epoch 25/100\n",
            "484/484 [==============================] - 9s 19ms/step - loss: 3.8351 - accuracy: 0.1977\n",
            "Epoch 26/100\n",
            "484/484 [==============================] - 9s 19ms/step - loss: 3.7327 - accuracy: 0.2122\n",
            "Epoch 27/100\n",
            "484/484 [==============================] - 9s 19ms/step - loss: 3.6471 - accuracy: 0.2246\n",
            "Epoch 28/100\n",
            "484/484 [==============================] - 9s 19ms/step - loss: 3.5534 - accuracy: 0.2370\n",
            "Epoch 29/100\n",
            "484/484 [==============================] - 9s 18ms/step - loss: 3.4691 - accuracy: 0.2554\n",
            "Epoch 30/100\n",
            "484/484 [==============================] - 9s 19ms/step - loss: 3.3968 - accuracy: 0.2663\n",
            "Epoch 31/100\n",
            "484/484 [==============================] - 9s 18ms/step - loss: 3.3259 - accuracy: 0.2782\n",
            "Epoch 32/100\n",
            "484/484 [==============================] - 9s 18ms/step - loss: 3.2349 - accuracy: 0.2955\n",
            "Epoch 33/100\n",
            "484/484 [==============================] - 9s 19ms/step - loss: 3.1674 - accuracy: 0.3057\n",
            "Epoch 34/100\n",
            "484/484 [==============================] - 9s 18ms/step - loss: 3.0897 - accuracy: 0.3212\n",
            "Epoch 35/100\n",
            "484/484 [==============================] - 9s 19ms/step - loss: 3.0291 - accuracy: 0.3346\n",
            "Epoch 36/100\n",
            "484/484 [==============================] - 9s 18ms/step - loss: 2.9798 - accuracy: 0.3434\n",
            "Epoch 37/100\n",
            "484/484 [==============================] - 9s 19ms/step - loss: 2.9008 - accuracy: 0.3599\n",
            "Epoch 38/100\n",
            "484/484 [==============================] - 9s 18ms/step - loss: 2.8418 - accuracy: 0.3653\n",
            "Epoch 39/100\n",
            "484/484 [==============================] - 9s 19ms/step - loss: 2.7854 - accuracy: 0.3796\n",
            "Epoch 40/100\n",
            "484/484 [==============================] - 10s 20ms/step - loss: 2.7262 - accuracy: 0.3952\n",
            "Epoch 41/100\n",
            "484/484 [==============================] - 9s 18ms/step - loss: 2.6663 - accuracy: 0.4001\n",
            "Epoch 42/100\n",
            "484/484 [==============================] - 9s 18ms/step - loss: 2.6156 - accuracy: 0.4149\n",
            "Epoch 43/100\n",
            "484/484 [==============================] - 9s 18ms/step - loss: 2.5646 - accuracy: 0.4217\n",
            "Epoch 44/100\n",
            "484/484 [==============================] - 9s 18ms/step - loss: 2.5179 - accuracy: 0.4344\n",
            "Epoch 45/100\n",
            "484/484 [==============================] - 9s 18ms/step - loss: 2.4743 - accuracy: 0.4432\n",
            "Epoch 46/100\n",
            "484/484 [==============================] - 9s 18ms/step - loss: 2.4219 - accuracy: 0.4542\n",
            "Epoch 47/100\n",
            "484/484 [==============================] - 9s 18ms/step - loss: 2.3918 - accuracy: 0.4631\n",
            "Epoch 48/100\n",
            "484/484 [==============================] - 9s 18ms/step - loss: 2.3455 - accuracy: 0.4759\n",
            "Epoch 49/100\n",
            "484/484 [==============================] - 9s 18ms/step - loss: 2.3023 - accuracy: 0.4790\n",
            "Epoch 50/100\n",
            "484/484 [==============================] - 9s 18ms/step - loss: 2.2599 - accuracy: 0.4882\n",
            "Epoch 51/100\n",
            "484/484 [==============================] - 9s 18ms/step - loss: 2.2075 - accuracy: 0.5021\n",
            "Epoch 52/100\n",
            "484/484 [==============================] - 9s 18ms/step - loss: 2.1887 - accuracy: 0.5038\n",
            "Epoch 53/100\n",
            "484/484 [==============================] - 9s 18ms/step - loss: 2.1464 - accuracy: 0.5171\n",
            "Epoch 54/100\n",
            "484/484 [==============================] - 9s 18ms/step - loss: 2.1026 - accuracy: 0.5275\n",
            "Epoch 55/100\n",
            "484/484 [==============================] - 9s 18ms/step - loss: 2.0703 - accuracy: 0.5307\n",
            "Epoch 56/100\n",
            "484/484 [==============================] - 9s 18ms/step - loss: 2.0492 - accuracy: 0.5331\n",
            "Epoch 57/100\n",
            "484/484 [==============================] - 9s 18ms/step - loss: 2.0136 - accuracy: 0.5438\n",
            "Epoch 58/100\n",
            "484/484 [==============================] - 9s 18ms/step - loss: 1.9918 - accuracy: 0.5492\n",
            "Epoch 59/100\n",
            "484/484 [==============================] - 9s 18ms/step - loss: 1.9535 - accuracy: 0.5557\n",
            "Epoch 60/100\n",
            "484/484 [==============================] - 9s 18ms/step - loss: 1.9197 - accuracy: 0.5633\n",
            "Epoch 61/100\n",
            "484/484 [==============================] - 9s 18ms/step - loss: 1.8972 - accuracy: 0.5686\n",
            "Epoch 62/100\n",
            "484/484 [==============================] - 9s 18ms/step - loss: 1.8601 - accuracy: 0.5786\n",
            "Epoch 63/100\n",
            "484/484 [==============================] - 9s 18ms/step - loss: 1.8436 - accuracy: 0.5814\n",
            "Epoch 64/100\n",
            "484/484 [==============================] - 9s 19ms/step - loss: 1.8148 - accuracy: 0.5858\n",
            "Epoch 65/100\n",
            "484/484 [==============================] - 9s 18ms/step - loss: 1.7943 - accuracy: 0.5916\n",
            "Epoch 66/100\n",
            "484/484 [==============================] - 9s 18ms/step - loss: 1.7638 - accuracy: 0.6011\n",
            "Epoch 67/100\n",
            "484/484 [==============================] - 9s 18ms/step - loss: 1.7381 - accuracy: 0.6035\n",
            "Epoch 68/100\n",
            "484/484 [==============================] - 9s 18ms/step - loss: 1.7135 - accuracy: 0.6098\n",
            "Epoch 69/100\n",
            "484/484 [==============================] - 9s 18ms/step - loss: 1.6915 - accuracy: 0.6159\n",
            "Epoch 70/100\n",
            "484/484 [==============================] - 9s 18ms/step - loss: 1.6814 - accuracy: 0.6125\n",
            "Epoch 71/100\n",
            "484/484 [==============================] - 9s 18ms/step - loss: 1.6501 - accuracy: 0.6304\n",
            "Epoch 72/100\n",
            "484/484 [==============================] - 9s 18ms/step - loss: 1.6456 - accuracy: 0.6244\n",
            "Epoch 73/100\n",
            "484/484 [==============================] - 9s 18ms/step - loss: 1.6013 - accuracy: 0.6365\n",
            "Epoch 74/100\n",
            "484/484 [==============================] - 9s 18ms/step - loss: 1.5923 - accuracy: 0.6386\n",
            "Epoch 75/100\n",
            "484/484 [==============================] - 9s 18ms/step - loss: 1.5713 - accuracy: 0.6470\n",
            "Epoch 76/100\n",
            "484/484 [==============================] - 9s 19ms/step - loss: 1.5573 - accuracy: 0.6449\n",
            "Epoch 77/100\n",
            "484/484 [==============================] - 9s 18ms/step - loss: 1.5360 - accuracy: 0.6557\n",
            "Epoch 78/100\n",
            "484/484 [==============================] - 9s 18ms/step - loss: 1.5202 - accuracy: 0.6568\n",
            "Epoch 79/100\n",
            "484/484 [==============================] - 9s 18ms/step - loss: 1.4947 - accuracy: 0.6621\n",
            "Epoch 80/100\n",
            "484/484 [==============================] - 9s 18ms/step - loss: 1.4825 - accuracy: 0.6643\n",
            "Epoch 81/100\n",
            "484/484 [==============================] - 9s 18ms/step - loss: 1.4798 - accuracy: 0.6645\n",
            "Epoch 82/100\n",
            "484/484 [==============================] - 9s 18ms/step - loss: 1.4560 - accuracy: 0.6696\n",
            "Epoch 83/100\n",
            "484/484 [==============================] - 9s 18ms/step - loss: 1.4343 - accuracy: 0.6751\n",
            "Epoch 84/100\n",
            "484/484 [==============================] - 8s 17ms/step - loss: 1.4107 - accuracy: 0.6790\n",
            "Epoch 85/100\n",
            "484/484 [==============================] - 8s 17ms/step - loss: 1.3957 - accuracy: 0.6878\n",
            "Epoch 86/100\n",
            "484/484 [==============================] - 9s 18ms/step - loss: 1.3895 - accuracy: 0.6880\n",
            "Epoch 87/100\n",
            "484/484 [==============================] - 8s 17ms/step - loss: 1.3734 - accuracy: 0.6906\n",
            "Epoch 88/100\n",
            "484/484 [==============================] - 8s 18ms/step - loss: 1.3759 - accuracy: 0.6885\n",
            "Epoch 89/100\n",
            "484/484 [==============================] - 8s 17ms/step - loss: 1.3485 - accuracy: 0.6940\n",
            "Epoch 90/100\n",
            "484/484 [==============================] - 9s 18ms/step - loss: 1.3481 - accuracy: 0.6976\n",
            "Epoch 91/100\n",
            "484/484 [==============================] - 9s 18ms/step - loss: 1.3310 - accuracy: 0.7026\n",
            "Epoch 92/100\n",
            "484/484 [==============================] - 9s 18ms/step - loss: 1.3045 - accuracy: 0.7083\n",
            "Epoch 93/100\n",
            "484/484 [==============================] - 9s 18ms/step - loss: 1.3054 - accuracy: 0.7057\n",
            "Epoch 94/100\n",
            "484/484 [==============================] - 9s 18ms/step - loss: 1.2871 - accuracy: 0.7099\n",
            "Epoch 95/100\n",
            "484/484 [==============================] - 9s 18ms/step - loss: 1.2898 - accuracy: 0.7097\n",
            "Epoch 96/100\n",
            "484/484 [==============================] - 8s 17ms/step - loss: 1.2637 - accuracy: 0.7147\n",
            "Epoch 97/100\n",
            "484/484 [==============================] - 9s 18ms/step - loss: 1.2456 - accuracy: 0.7250\n",
            "Epoch 98/100\n",
            "484/484 [==============================] - 9s 18ms/step - loss: 1.2444 - accuracy: 0.7233\n",
            "Epoch 99/100\n",
            "484/484 [==============================] - 9s 18ms/step - loss: 1.2456 - accuracy: 0.7175\n",
            "Epoch 100/100\n",
            "484/484 [==============================] - 9s 18ms/step - loss: 1.2209 - accuracy: 0.7268\n"
          ],
          "name": "stdout"
        }
      ]
    },
    {
      "cell_type": "code",
      "metadata": {
        "colab_type": "code",
        "id": "1fXTEO3GJ282",
        "colab": {
          "base_uri": "https://localhost:8080/",
          "height": 545
        },
        "outputId": "0cfb075e-65c7-4254-e2f8-e38810e3dfdb"
      },
      "source": [
        "import matplotlib.pyplot as plt\n",
        "acc = history.history['accuracy']\n",
        "loss = history.history['loss']\n",
        "\n",
        "epochs = range(len(acc))\n",
        "\n",
        "plt.plot(epochs, acc, 'b', label='Training accuracy')\n",
        "plt.title('Training accuracy')\n",
        "\n",
        "plt.figure()\n",
        "\n",
        "plt.plot(epochs, loss, 'b', label='Training Loss')\n",
        "plt.title('Training loss')\n",
        "plt.legend()\n",
        "\n",
        "plt.show()"
      ],
      "execution_count": 31,
      "outputs": [
        {
          "output_type": "display_data",
          "data": {
            "image/png": "[encoded data removed]",
            "text/plain": [
              "<Figure size 432x288 with 1 Axes>"
            ]
          },
          "metadata": {
            "tags": [],
            "needs_background": "light"
          }
        },
        {
          "output_type": "display_data",
          "data": {
            "image/png": "[encoded data removed]",
            "text/plain": [
              "<Figure size 432x288 with 1 Axes>"
            ]
          },
          "metadata": {
            "tags": [],
            "needs_background": "light"
          }
        }
      ]
    },
    {
      "cell_type": "code",
      "metadata": {
        "colab_type": "code",
        "id": "6Vc6PHgxa6Hm",
        "colab": {
          "base_uri": "https://localhost:8080/",
          "height": 122
        },
        "outputId": "f17cb594-e47c-412b-c881-f157ce58085a"
      },
      "source": [
        "seed_text = \"Help me Obi Wan Kenobi, you're my only hope\"\n",
        "next_words = 100\n",
        "  \n",
        "for _ in range(next_words):\n",
        "\ttoken_list = tokenizer.texts_to_sequences([seed_text])[0]\n",
        "\ttoken_list = pad_sequences([token_list], maxlen=max_sequence_len-1, padding='pre')\n",
        "\tpredicted = model.predict_classes(token_list, verbose=0)\n",
        "\toutput_word = \"\"\n",
        "\tfor word, index in tokenizer.word_index.items():\n",
        "\t\tif index == predicted:\n",
        "\t\t\toutput_word = word\n",
        "\t\t\tbreak\n",
        "\tseed_text += \" \" + output_word\n",
        "print(seed_text)"
      ],
      "execution_count": 32,
      "outputs": [
        {
          "output_type": "stream",
          "text": [
            "WARNING:tensorflow:From <ipython-input-32-622d307fa19a>:7: Sequential.predict_classes (from tensorflow.python.keras.engine.sequential) is deprecated and will be removed after 2021-01-01.\n",
            "Instructions for updating:\n",
            "Please use instead:* `np.argmax(model.predict(x), axis=-1)`,   if your model does multi-class classification   (e.g. if it uses a `softmax` last-layer activation).* `(model.predict(x) > 0.5).astype(\"int32\")`,   if your model does binary classification   (e.g. if it uses a `sigmoid` last-layer activation).\n",
            "WARNING:tensorflow:Model was constructed with shape (None, 11) for input Tensor(\"embedding_14_input:0\", shape=(None, 11), dtype=float32), but it was called on an input with incompatible shape (None, 10).\n",
            "Help me Obi Wan Kenobi, you're my only hope not be she care move erred decay will be forgot more red ' so strong fell tune delighted grave held taken untrue deeds of sun one store brought tell good bright light expire kind had stay afloat bad pace place not gives my sight doth cross one one days still may be hate more strong great verse more might torn seen hate live young days ' decrease light give bright light sit store hate told say good store i one bower rare express'd gone young days ' decrease brought her face will stay decay write to write not i not\n"
          ],
          "name": "stdout"
        }
      ]
    }
  ]
}