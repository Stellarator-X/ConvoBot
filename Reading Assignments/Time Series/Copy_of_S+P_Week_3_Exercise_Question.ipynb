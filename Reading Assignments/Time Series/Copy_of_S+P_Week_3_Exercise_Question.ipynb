{
  "nbformat": 4,
  "nbformat_minor": 0,
  "metadata": {
    "accelerator": "GPU",
    "colab": {
      "name": "Copy of S+P Week 3 Exercise Question.ipynb",
      "provenance": [],
      "collapsed_sections": []
    },
    "kernelspec": {
      "display_name": "Python 3",
      "name": "python3"
    }
  },
  "cells": [
    {
      "cell_type": "code",
      "metadata": {
        "id": "zX4Kg8DUTKWO",
        "colab_type": "code",
        "colab": {}
      },
      "source": [
        "#@title Licensed under the Apache License, Version 2.0 (the \"License\");\n",
        "# you may not use this file except in compliance with the License.\n",
        "# You may obtain a copy of the License at\n",
        "#\n",
        "# https://www.apache.org/licenses/LICENSE-2.0\n",
        "#\n",
        "# Unless required by applicable law or agreed to in writing, software\n",
        "# distributed under the License is distributed on an \"AS IS\" BASIS,\n",
        "# WITHOUT WARRANTIES OR CONDITIONS OF ANY KIND, either express or implied.\n",
        "# See the License for the specific language governing permissions and\n",
        "# limitations under the License."
      ],
      "execution_count": 0,
      "outputs": []
    },
    {
      "cell_type": "code",
      "metadata": {
        "colab_type": "code",
        "id": "D1J15Vh_1Jih",
        "colab": {
          "base_uri": "https://localhost:8080/",
          "height": 51
        },
        "outputId": "9cb08807-502c-49fc-c906-2ce247f3f9fc"
      },
      "source": [
        "!pip install tf-nightly-2.0-preview\n"
      ],
      "execution_count": 2,
      "outputs": [
        {
          "output_type": "stream",
          "text": [
            "\u001b[31mERROR: Could not find a version that satisfies the requirement tf-nightly-2.0-preview (from versions: none)\u001b[0m\n",
            "\u001b[31mERROR: No matching distribution found for tf-nightly-2.0-preview\u001b[0m\n"
          ],
          "name": "stdout"
        }
      ]
    },
    {
      "cell_type": "code",
      "metadata": {
        "colab_type": "code",
        "id": "BOjujz601HcS",
        "colab": {
          "base_uri": "https://localhost:8080/",
          "height": 34
        },
        "outputId": "ad48c5e4-b6df-42b7-ce84-b11cc730735a"
      },
      "source": [
        "import tensorflow as tf\n",
        "import numpy as np\n",
        "import matplotlib.pyplot as plt\n",
        "print(tf.__version__)"
      ],
      "execution_count": 3,
      "outputs": [
        {
          "output_type": "stream",
          "text": [
            "2.2.0\n"
          ],
          "name": "stdout"
        }
      ]
    },
    {
      "cell_type": "code",
      "metadata": {
        "colab_type": "code",
        "id": "Zswl7jRtGzkk",
        "colab": {
          "base_uri": "https://localhost:8080/",
          "height": 279
        },
        "outputId": "14b5d7ed-3c22-4c0f-bded-34a7c078e420"
      },
      "source": [
        "def plot_series(time, series, format=\"-\", start=0, end=None):\n",
        "    plt.plot(time[start:end], series[start:end], format)\n",
        "    plt.xlabel(\"Time\")\n",
        "    plt.ylabel(\"Value\")\n",
        "    plt.grid(False)\n",
        "\n",
        "def trend(time, slope=0):\n",
        "    return slope * time\n",
        "\n",
        "def seasonal_pattern(season_time):\n",
        "    \"\"\"Just an arbitrary pattern, you can change it if you wish\"\"\"\n",
        "    return np.where(season_time < 0.1,\n",
        "                    np.cos(season_time * 6 * np.pi),\n",
        "                    2 / np.exp(9 * season_time))\n",
        "\n",
        "def seasonality(time, period, amplitude=1, phase=0):\n",
        "    \"\"\"Repeats the same pattern at each period\"\"\"\n",
        "    season_time = ((time + phase) % period) / period\n",
        "    return amplitude * seasonal_pattern(season_time)\n",
        "\n",
        "def noise(time, noise_level=1, seed=None):\n",
        "    rnd = np.random.RandomState(seed)\n",
        "    return rnd.randn(len(time)) * noise_level\n",
        "\n",
        "time = np.arange(10 * 365 + 1, dtype=\"float32\")\n",
        "baseline = 10\n",
        "series = trend(time, 0.1)  \n",
        "baseline = 10\n",
        "amplitude = 40\n",
        "slope = 0.005\n",
        "noise_level = 3\n",
        "\n",
        "# Create the series\n",
        "series = baseline + trend(time, slope) + seasonality(time, period=365, amplitude=amplitude)\n",
        "# Update with noise\n",
        "series += noise(time, noise_level, seed=51)\n",
        "\n",
        "split_time = 3000\n",
        "time_train = time[:split_time]\n",
        "x_train = series[:split_time]\n",
        "time_valid = time[split_time:]\n",
        "x_valid = series[split_time:]\n",
        "\n",
        "window_size = 20\n",
        "batch_size = 32\n",
        "shuffle_buffer_size = 1000\n",
        "\n",
        "plot_series(time, series)"
      ],
      "execution_count": 4,
      "outputs": [
        {
          "output_type": "display_data",
          "data": {
            "image/png": "[encoded data removed]",
            "text/plain": [
              "<Figure size 432x288 with 1 Axes>"
            ]
          },
          "metadata": {
            "tags": [],
            "needs_background": "light"
          }
        }
      ]
    },
    {
      "cell_type": "code",
      "metadata": {
        "colab_type": "code",
        "id": "4sTTIOCbyShY",
        "colab": {}
      },
      "source": [
        "def windowed_dataset(series, window_size, batch_size, shuffle_buffer):\n",
        "  dataset = tf.data.Dataset.from_tensor_slices(series)\n",
        "  dataset = dataset.window(window_size + 1, shift=1, drop_remainder=True)\n",
        "  dataset = dataset.flat_map(lambda window: window.batch(window_size + 1))\n",
        "  dataset = dataset.shuffle(shuffle_buffer).map(lambda window: (window[:-1], window[-1]))\n",
        "  dataset = dataset.batch(batch_size).prefetch(1)\n",
        "  return dataset"
      ],
      "execution_count": 0,
      "outputs": []
    },
    {
      "cell_type": "code",
      "metadata": {
        "colab_type": "code",
        "id": "A1Hl39rklkLm",
        "colab": {
          "base_uri": "https://localhost:8080/",
          "height": 1000
        },
        "outputId": "81bbe69d-497d-4136-acd0-8ebdd81cc85e"
      },
      "source": [
        "tf.keras.backend.clear_session()\n",
        "tf.random.set_seed(51)\n",
        "np.random.seed(51)\n",
        "\n",
        "tf.keras.backend.clear_session()\n",
        "dataset = windowed_dataset(x_train, window_size, batch_size, shuffle_buffer_size)\n",
        "\n",
        "model = tf.keras.models.Sequential([\n",
        "  tf.keras.layers.Lambda(lambda x: tf.expand_dims(x, axis = -1), input_shape = [None]),\n",
        "  tf.keras.layers.Bidirectional(tf.keras.layers.LSTM(20, return_sequences=True)),\n",
        "  tf.keras.layers.Bidirectional(tf.keras.layers.LSTM(20)),\n",
        "  tf.keras.layers.BatchNormalization(),\n",
        "  tf.keras.layers.Dense(10, activation = 'relu'),\n",
        "  tf.keras.layers.BatchNormalization(),\n",
        "  tf.keras.layers.Dense(1, activation = 'relu'),\n",
        "  tf.keras.layers.Lambda(lambda x: x*100)\n",
        "])\n",
        "\n",
        "lr_schedule = tf.keras.callbacks.LearningRateScheduler(\n",
        "    lambda epoch: 1e-8 * 10**(epoch / 20))\n",
        "optimizer = tf.keras.optimizers.SGD(lr=1e-8, momentum=0.9)\n",
        "model.compile(loss=tf.keras.losses.Huber(),\n",
        "              optimizer=optimizer,\n",
        "              metrics=[\"mae\"])\n",
        "history = model.fit(dataset, epochs=100, callbacks=[lr_schedule])"
      ],
      "execution_count": 6,
      "outputs": [
        {
          "output_type": "stream",
          "text": [
            "Epoch 1/100\n",
            "94/94 [==============================] - 2s 22ms/step - loss: 81.7538 - mae: 82.2531 - lr: 1.0000e-08\n",
            "Epoch 2/100\n",
            "94/94 [==============================] - 2s 22ms/step - loss: 80.1741 - mae: 80.6734 - lr: 1.1220e-08\n",
            "Epoch 3/100\n",
            "94/94 [==============================] - 2s 22ms/step - loss: 76.5493 - mae: 77.0484 - lr: 1.2589e-08\n",
            "Epoch 4/100\n",
            "94/94 [==============================] - 2s 23ms/step - loss: 72.4873 - mae: 72.9858 - lr: 1.4125e-08\n",
            "Epoch 5/100\n",
            "94/94 [==============================] - 2s 22ms/step - loss: 67.5524 - mae: 68.0512 - lr: 1.5849e-08\n",
            "Epoch 6/100\n",
            "94/94 [==============================] - 2s 23ms/step - loss: 62.3223 - mae: 62.8211 - lr: 1.7783e-08\n",
            "Epoch 7/100\n",
            "94/94 [==============================] - 2s 22ms/step - loss: 59.6074 - mae: 60.1062 - lr: 1.9953e-08\n",
            "Epoch 8/100\n",
            "94/94 [==============================] - 2s 22ms/step - loss: 56.8055 - mae: 57.3047 - lr: 2.2387e-08\n",
            "Epoch 9/100\n",
            "94/94 [==============================] - 2s 22ms/step - loss: 52.8598 - mae: 53.3585 - lr: 2.5119e-08\n",
            "Epoch 10/100\n",
            "94/94 [==============================] - 2s 22ms/step - loss: 50.1004 - mae: 50.5993 - lr: 2.8184e-08\n",
            "Epoch 11/100\n",
            "94/94 [==============================] - 2s 22ms/step - loss: 45.6308 - mae: 46.1298 - lr: 3.1623e-08\n",
            "Epoch 12/100\n",
            "94/94 [==============================] - 2s 22ms/step - loss: 38.9864 - mae: 39.4850 - lr: 3.5481e-08\n",
            "Epoch 13/100\n",
            "94/94 [==============================] - 2s 22ms/step - loss: 32.8087 - mae: 33.3074 - lr: 3.9811e-08\n",
            "Epoch 14/100\n",
            "94/94 [==============================] - 2s 22ms/step - loss: 30.0389 - mae: 30.5364 - lr: 4.4668e-08\n",
            "Epoch 15/100\n",
            "94/94 [==============================] - 2s 22ms/step - loss: 28.3962 - mae: 28.8946 - lr: 5.0119e-08\n",
            "Epoch 16/100\n",
            "94/94 [==============================] - 2s 22ms/step - loss: 25.7690 - mae: 26.2664 - lr: 5.6234e-08\n",
            "Epoch 17/100\n",
            "94/94 [==============================] - 2s 22ms/step - loss: 24.1959 - mae: 24.6931 - lr: 6.3096e-08\n",
            "Epoch 18/100\n",
            "94/94 [==============================] - 2s 22ms/step - loss: 23.8179 - mae: 24.3149 - lr: 7.0795e-08\n",
            "Epoch 19/100\n",
            "94/94 [==============================] - 2s 24ms/step - loss: 22.3965 - mae: 22.8934 - lr: 7.9433e-08\n",
            "Epoch 20/100\n",
            "94/94 [==============================] - 2s 22ms/step - loss: 22.2343 - mae: 22.7305 - lr: 8.9125e-08\n",
            "Epoch 21/100\n",
            "94/94 [==============================] - 2s 23ms/step - loss: 22.2610 - mae: 22.7581 - lr: 1.0000e-07\n",
            "Epoch 22/100\n",
            "94/94 [==============================] - 2s 22ms/step - loss: 20.9036 - mae: 21.4011 - lr: 1.1220e-07\n",
            "Epoch 23/100\n",
            "94/94 [==============================] - 2s 22ms/step - loss: 20.9507 - mae: 21.4478 - lr: 1.2589e-07\n",
            "Epoch 24/100\n",
            "94/94 [==============================] - 2s 22ms/step - loss: 20.5729 - mae: 21.0688 - lr: 1.4125e-07\n",
            "Epoch 25/100\n",
            "94/94 [==============================] - 2s 22ms/step - loss: 20.1350 - mae: 20.6316 - lr: 1.5849e-07\n",
            "Epoch 26/100\n",
            "94/94 [==============================] - 2s 22ms/step - loss: 19.4826 - mae: 19.9794 - lr: 1.7783e-07\n",
            "Epoch 27/100\n",
            "94/94 [==============================] - 2s 22ms/step - loss: 20.6410 - mae: 21.1371 - lr: 1.9953e-07\n",
            "Epoch 28/100\n",
            "94/94 [==============================] - 2s 22ms/step - loss: 19.8591 - mae: 20.3552 - lr: 2.2387e-07\n",
            "Epoch 29/100\n",
            "94/94 [==============================] - 2s 22ms/step - loss: 18.8191 - mae: 19.3154 - lr: 2.5119e-07\n",
            "Epoch 30/100\n",
            "94/94 [==============================] - 2s 23ms/step - loss: 18.1552 - mae: 18.6513 - lr: 2.8184e-07\n",
            "Epoch 31/100\n",
            "94/94 [==============================] - 2s 22ms/step - loss: 18.4603 - mae: 18.9562 - lr: 3.1623e-07\n",
            "Epoch 32/100\n",
            "94/94 [==============================] - 2s 22ms/step - loss: 18.9314 - mae: 19.4282 - lr: 3.5481e-07\n",
            "Epoch 33/100\n",
            "94/94 [==============================] - 2s 22ms/step - loss: 18.0134 - mae: 18.5105 - lr: 3.9811e-07\n",
            "Epoch 34/100\n",
            "94/94 [==============================] - 2s 22ms/step - loss: 23.7591 - mae: 24.2552 - lr: 4.4668e-07\n",
            "Epoch 35/100\n",
            "94/94 [==============================] - 2s 22ms/step - loss: 23.8614 - mae: 24.3586 - lr: 5.0119e-07\n",
            "Epoch 36/100\n",
            "94/94 [==============================] - 2s 22ms/step - loss: 20.6309 - mae: 21.1277 - lr: 5.6234e-07\n",
            "Epoch 37/100\n",
            "94/94 [==============================] - 2s 22ms/step - loss: 19.6045 - mae: 20.1014 - lr: 6.3096e-07\n",
            "Epoch 38/100\n",
            "94/94 [==============================] - 2s 22ms/step - loss: 19.2190 - mae: 19.7151 - lr: 7.0795e-07\n",
            "Epoch 39/100\n",
            "94/94 [==============================] - 2s 22ms/step - loss: 18.1013 - mae: 18.5955 - lr: 7.9433e-07\n",
            "Epoch 40/100\n",
            "94/94 [==============================] - 2s 22ms/step - loss: 17.0719 - mae: 17.5673 - lr: 8.9125e-07\n",
            "Epoch 41/100\n",
            "94/94 [==============================] - 2s 22ms/step - loss: 16.2492 - mae: 16.7439 - lr: 1.0000e-06\n",
            "Epoch 42/100\n",
            "94/94 [==============================] - 2s 22ms/step - loss: 16.0301 - mae: 16.5245 - lr: 1.1220e-06\n",
            "Epoch 43/100\n",
            "94/94 [==============================] - 2s 22ms/step - loss: 15.2372 - mae: 15.7324 - lr: 1.2589e-06\n",
            "Epoch 44/100\n",
            "94/94 [==============================] - 2s 22ms/step - loss: 13.8552 - mae: 14.3489 - lr: 1.4125e-06\n",
            "Epoch 45/100\n",
            "94/94 [==============================] - 2s 22ms/step - loss: 13.8696 - mae: 14.3632 - lr: 1.5849e-06\n",
            "Epoch 46/100\n",
            "94/94 [==============================] - 2s 23ms/step - loss: 12.9304 - mae: 13.4254 - lr: 1.7783e-06\n",
            "Epoch 47/100\n",
            "94/94 [==============================] - 2s 22ms/step - loss: 12.4507 - mae: 12.9428 - lr: 1.9953e-06\n",
            "Epoch 48/100\n",
            "94/94 [==============================] - 2s 22ms/step - loss: 12.5344 - mae: 13.0253 - lr: 2.2387e-06\n",
            "Epoch 49/100\n",
            "94/94 [==============================] - 2s 22ms/step - loss: 11.8782 - mae: 12.3711 - lr: 2.5119e-06\n",
            "Epoch 50/100\n",
            "94/94 [==============================] - 2s 22ms/step - loss: 11.8574 - mae: 12.3484 - lr: 2.8184e-06\n",
            "Epoch 51/100\n",
            "94/94 [==============================] - 2s 22ms/step - loss: 10.9157 - mae: 11.4067 - lr: 3.1623e-06\n",
            "Epoch 52/100\n",
            "94/94 [==============================] - 2s 23ms/step - loss: 10.9634 - mae: 11.4554 - lr: 3.5481e-06\n",
            "Epoch 53/100\n",
            "94/94 [==============================] - 2s 22ms/step - loss: 10.5476 - mae: 11.0390 - lr: 3.9811e-06\n",
            "Epoch 54/100\n",
            "94/94 [==============================] - 2s 22ms/step - loss: 10.0225 - mae: 10.5145 - lr: 4.4668e-06\n",
            "Epoch 55/100\n",
            "94/94 [==============================] - 2s 22ms/step - loss: 9.5148 - mae: 10.0020 - lr: 5.0119e-06\n",
            "Epoch 56/100\n",
            "94/94 [==============================] - 2s 22ms/step - loss: 9.4730 - mae: 9.9631 - lr: 5.6234e-06\n",
            "Epoch 57/100\n",
            "94/94 [==============================] - 2s 22ms/step - loss: 8.9424 - mae: 9.4293 - lr: 6.3096e-06\n",
            "Epoch 58/100\n",
            "94/94 [==============================] - 2s 22ms/step - loss: 8.4971 - mae: 8.9861 - lr: 7.0795e-06\n",
            "Epoch 59/100\n",
            "94/94 [==============================] - 2s 22ms/step - loss: 7.8474 - mae: 8.3316 - lr: 7.9433e-06\n",
            "Epoch 60/100\n",
            "94/94 [==============================] - 2s 22ms/step - loss: 7.3435 - mae: 7.8290 - lr: 8.9125e-06\n",
            "Epoch 61/100\n",
            "94/94 [==============================] - 2s 22ms/step - loss: 7.6621 - mae: 8.1486 - lr: 1.0000e-05\n",
            "Epoch 62/100\n",
            "94/94 [==============================] - 2s 22ms/step - loss: 6.9985 - mae: 7.4830 - lr: 1.1220e-05\n",
            "Epoch 63/100\n",
            "94/94 [==============================] - 2s 22ms/step - loss: 6.1781 - mae: 6.6606 - lr: 1.2589e-05\n",
            "Epoch 64/100\n",
            "94/94 [==============================] - 2s 22ms/step - loss: 5.7579 - mae: 6.2378 - lr: 1.4125e-05\n",
            "Epoch 65/100\n",
            "94/94 [==============================] - 2s 22ms/step - loss: 7.8973 - mae: 8.3820 - lr: 1.5849e-05\n",
            "Epoch 66/100\n",
            "94/94 [==============================] - 2s 22ms/step - loss: 5.5647 - mae: 6.0464 - lr: 1.7783e-05\n",
            "Epoch 67/100\n",
            "94/94 [==============================] - 2s 22ms/step - loss: 4.2622 - mae: 4.7354 - lr: 1.9953e-05\n",
            "Epoch 68/100\n",
            "94/94 [==============================] - 2s 23ms/step - loss: 3.9076 - mae: 4.3802 - lr: 2.2387e-05\n",
            "Epoch 69/100\n",
            "94/94 [==============================] - 2s 23ms/step - loss: 4.2626 - mae: 4.7357 - lr: 2.5119e-05\n",
            "Epoch 70/100\n",
            "94/94 [==============================] - 2s 23ms/step - loss: 4.5990 - mae: 5.0728 - lr: 2.8184e-05\n",
            "Epoch 71/100\n",
            "94/94 [==============================] - 2s 23ms/step - loss: 3.8731 - mae: 4.3484 - lr: 3.1623e-05\n",
            "Epoch 72/100\n",
            "94/94 [==============================] - 2s 23ms/step - loss: 4.4721 - mae: 4.9474 - lr: 3.5481e-05\n",
            "Epoch 73/100\n",
            "94/94 [==============================] - 2s 22ms/step - loss: 4.1819 - mae: 4.6559 - lr: 3.9811e-05\n",
            "Epoch 74/100\n",
            "94/94 [==============================] - 2s 23ms/step - loss: 4.4017 - mae: 4.8773 - lr: 4.4668e-05\n",
            "Epoch 75/100\n",
            "94/94 [==============================] - 2s 22ms/step - loss: 4.2587 - mae: 4.7319 - lr: 5.0119e-05\n",
            "Epoch 76/100\n",
            "94/94 [==============================] - 2s 23ms/step - loss: 4.3274 - mae: 4.8039 - lr: 5.6234e-05\n",
            "Epoch 77/100\n",
            "94/94 [==============================] - 2s 23ms/step - loss: 4.3707 - mae: 4.8475 - lr: 6.3096e-05\n",
            "Epoch 78/100\n",
            "94/94 [==============================] - 2s 23ms/step - loss: 4.1313 - mae: 4.6066 - lr: 7.0795e-05\n",
            "Epoch 79/100\n",
            "94/94 [==============================] - 2s 23ms/step - loss: 4.3570 - mae: 4.8320 - lr: 7.9433e-05\n",
            "Epoch 80/100\n",
            "94/94 [==============================] - 2s 23ms/step - loss: 5.2838 - mae: 5.7608 - lr: 8.9125e-05\n",
            "Epoch 81/100\n",
            "94/94 [==============================] - 2s 22ms/step - loss: 5.3476 - mae: 5.8253 - lr: 1.0000e-04\n",
            "Epoch 82/100\n",
            "94/94 [==============================] - 2s 22ms/step - loss: 4.4292 - mae: 4.9068 - lr: 1.1220e-04\n",
            "Epoch 83/100\n",
            "94/94 [==============================] - 2s 22ms/step - loss: 4.9705 - mae: 5.4495 - lr: 1.2589e-04\n",
            "Epoch 84/100\n",
            "94/94 [==============================] - 2s 23ms/step - loss: 4.2721 - mae: 4.7454 - lr: 1.4125e-04\n",
            "Epoch 85/100\n",
            "94/94 [==============================] - 2s 23ms/step - loss: 4.5734 - mae: 5.0490 - lr: 1.5849e-04\n",
            "Epoch 86/100\n",
            "94/94 [==============================] - 2s 22ms/step - loss: 4.7681 - mae: 5.2460 - lr: 1.7783e-04\n",
            "Epoch 87/100\n",
            "94/94 [==============================] - 2s 22ms/step - loss: 5.5275 - mae: 6.0051 - lr: 1.9953e-04\n",
            "Epoch 88/100\n",
            "94/94 [==============================] - 2s 23ms/step - loss: 4.5782 - mae: 5.0548 - lr: 2.2387e-04\n",
            "Epoch 89/100\n",
            "94/94 [==============================] - 2s 22ms/step - loss: 5.0580 - mae: 5.5369 - lr: 2.5119e-04\n",
            "Epoch 90/100\n",
            "94/94 [==============================] - 2s 23ms/step - loss: 4.2493 - mae: 4.7244 - lr: 2.8184e-04\n",
            "Epoch 91/100\n",
            "94/94 [==============================] - 2s 22ms/step - loss: 4.8754 - mae: 5.3501 - lr: 3.1623e-04\n",
            "Epoch 92/100\n",
            "94/94 [==============================] - 2s 23ms/step - loss: 4.5672 - mae: 5.0419 - lr: 3.5481e-04\n",
            "Epoch 93/100\n",
            "94/94 [==============================] - 2s 22ms/step - loss: 4.8673 - mae: 5.3449 - lr: 3.9811e-04\n",
            "Epoch 94/100\n",
            "94/94 [==============================] - 2s 22ms/step - loss: 4.7310 - mae: 5.2099 - lr: 4.4668e-04\n",
            "Epoch 95/100\n",
            "94/94 [==============================] - 2s 22ms/step - loss: 4.5218 - mae: 4.9989 - lr: 5.0119e-04\n",
            "Epoch 96/100\n",
            "94/94 [==============================] - 2s 22ms/step - loss: 4.4833 - mae: 4.9614 - lr: 5.6234e-04\n",
            "Epoch 97/100\n",
            "94/94 [==============================] - 2s 22ms/step - loss: 6.6702 - mae: 7.1566 - lr: 6.3096e-04\n",
            "Epoch 98/100\n",
            "94/94 [==============================] - 2s 22ms/step - loss: 7.0063 - mae: 7.4903 - lr: 7.0795e-04\n",
            "Epoch 99/100\n",
            "94/94 [==============================] - 2s 22ms/step - loss: 10.0280 - mae: 10.5185 - lr: 7.9433e-04\n",
            "Epoch 100/100\n",
            "94/94 [==============================] - 2s 23ms/step - loss: 6.7098 - mae: 7.1961 - lr: 8.9125e-04\n"
          ],
          "name": "stdout"
        }
      ]
    },
    {
      "cell_type": "code",
      "metadata": {
        "colab_type": "code",
        "id": "AkBsrsXMzoWR",
        "colab": {
          "base_uri": "https://localhost:8080/",
          "height": 290
        },
        "outputId": "a0961d65-2af8-49dd-aa01-a344adb4fa4c"
      },
      "source": [
        "plt.semilogx(history.history[\"lr\"], history.history[\"loss\"])\n",
        "plt.axis([1e-8, 1e-4, 0, 30])\n",
        "\n",
        "# FROM THIS PICK A LEARNING RATE"
      ],
      "execution_count": 7,
      "outputs": [
        {
          "output_type": "execute_result",
          "data": {
            "text/plain": [
              "(1e-08, 0.0001, 0.0, 30.0)"
            ]
          },
          "metadata": {
            "tags": []
          },
          "execution_count": 7
        },
        {
          "output_type": "display_data",
          "data": {
            "image/png": "[encoded data removed]",
            "text/plain": [
              "<Figure size 432x288 with 1 Axes>"
            ]
          },
          "metadata": {
            "tags": [],
            "needs_background": "light"
          }
        }
      ]
    },
    {
      "cell_type": "code",
      "metadata": {
        "colab_type": "code",
        "id": "4uh-97bpLZCA",
        "colab": {
          "base_uri": "https://localhost:8080/",
          "height": 1000
        },
        "outputId": "50dcb27d-027d-4dd6-eaae-b6762cb3a7f7"
      },
      "source": [
        "tf.keras.backend.clear_session()\n",
        "tf.random.set_seed(51)\n",
        "np.random.seed(51)\n",
        "\n",
        "tf.keras.backend.clear_session()\n",
        "dataset = windowed_dataset(x_train, window_size, batch_size*2, shuffle_buffer_size)\n",
        "\n",
        "model = tf.keras.models.Sequential([\n",
        "   tf.keras.layers.Lambda(lambda x: tf.expand_dims(x, axis = -1), input_shape = [None]),\n",
        "  # tf.keras.layers.Bidirectional(tf.keras.layers.LSTM(20, return_sequences=True)),\n",
        "  tf.keras.layers.Bidirectional(tf.keras.layers.LSTM(20)),\n",
        "  # tf.keras.layers.BatchNormalization(),\n",
        "  tf.keras.layers.Dense(10, activation = 'relu'),\n",
        "  # tf.keras.layers.BatchNormalization(),\n",
        "  tf.keras.layers.Dense(1, activation = 'relu'),\n",
        "  tf.keras.layers.Lambda(lambda x: x*100)\n",
        "])\n",
        "\n",
        "model.compile(loss=tf.keras.losses.Huber(), optimizer='adam',metrics=[\"mae\"])\n",
        "history = model.fit(dataset,epochs=100,verbose=1)\n",
        "                                                            \n",
        "# FIND A MODEL AND A LR THAT TRAINS TO AN MAE < 3                                                          "
      ],
      "execution_count": 14,
      "outputs": [
        {
          "output_type": "stream",
          "text": [
            "Epoch 1/100\n",
            "47/47 [==============================] - 1s 12ms/step - loss: 11.3568 - mae: 11.8447\n",
            "Epoch 2/100\n",
            "47/47 [==============================] - 1s 13ms/step - loss: 4.3389 - mae: 4.8059\n",
            "Epoch 3/100\n",
            "47/47 [==============================] - 1s 12ms/step - loss: 3.6281 - mae: 4.0988\n",
            "Epoch 4/100\n",
            "47/47 [==============================] - 1s 12ms/step - loss: 2.9481 - mae: 3.4143\n",
            "Epoch 5/100\n",
            "47/47 [==============================] - 1s 13ms/step - loss: 2.8131 - mae: 3.2767\n",
            "Epoch 6/100\n",
            "47/47 [==============================] - 1s 13ms/step - loss: 2.8628 - mae: 3.3281\n",
            "Epoch 7/100\n",
            "47/47 [==============================] - 1s 13ms/step - loss: 2.7561 - mae: 3.2216\n",
            "Epoch 8/100\n",
            "47/47 [==============================] - 1s 14ms/step - loss: 2.6910 - mae: 3.1547\n",
            "Epoch 9/100\n",
            "47/47 [==============================] - 1s 13ms/step - loss: 2.7955 - mae: 3.2599\n",
            "Epoch 10/100\n",
            "47/47 [==============================] - 1s 14ms/step - loss: 2.7214 - mae: 3.1832\n",
            "Epoch 11/100\n",
            "47/47 [==============================] - 1s 13ms/step - loss: 2.7172 - mae: 3.1808\n",
            "Epoch 12/100\n",
            "47/47 [==============================] - 1s 15ms/step - loss: 2.6665 - mae: 3.1333\n",
            "Epoch 13/100\n",
            "47/47 [==============================] - 1s 13ms/step - loss: 2.7121 - mae: 3.1747\n",
            "Epoch 14/100\n",
            "47/47 [==============================] - 1s 14ms/step - loss: 2.7154 - mae: 3.1785\n",
            "Epoch 15/100\n",
            "47/47 [==============================] - 1s 14ms/step - loss: 2.6417 - mae: 3.1034\n",
            "Epoch 16/100\n",
            "47/47 [==============================] - 1s 12ms/step - loss: 2.5807 - mae: 3.0402\n",
            "Epoch 17/100\n",
            "47/47 [==============================] - 1s 14ms/step - loss: 2.5950 - mae: 3.0571\n",
            "Epoch 18/100\n",
            "47/47 [==============================] - 1s 13ms/step - loss: 2.5633 - mae: 3.0235\n",
            "Epoch 19/100\n",
            "47/47 [==============================] - 1s 14ms/step - loss: 2.5495 - mae: 3.0120\n",
            "Epoch 20/100\n",
            "47/47 [==============================] - 1s 13ms/step - loss: 2.5650 - mae: 3.0245\n",
            "Epoch 21/100\n",
            "47/47 [==============================] - 1s 13ms/step - loss: 2.5665 - mae: 3.0324\n",
            "Epoch 22/100\n",
            "47/47 [==============================] - 1s 13ms/step - loss: 2.5234 - mae: 2.9833\n",
            "Epoch 23/100\n",
            "47/47 [==============================] - 1s 14ms/step - loss: 2.5888 - mae: 3.0497\n",
            "Epoch 24/100\n",
            "47/47 [==============================] - 1s 13ms/step - loss: 2.5793 - mae: 3.0402\n",
            "Epoch 25/100\n",
            "47/47 [==============================] - 1s 13ms/step - loss: 2.5364 - mae: 2.9962\n",
            "Epoch 26/100\n",
            "47/47 [==============================] - 1s 15ms/step - loss: 2.5518 - mae: 3.0155\n",
            "Epoch 27/100\n",
            "47/47 [==============================] - 1s 14ms/step - loss: 2.6052 - mae: 3.0665\n",
            "Epoch 28/100\n",
            "47/47 [==============================] - 1s 14ms/step - loss: 2.5816 - mae: 3.0433\n",
            "Epoch 29/100\n",
            "47/47 [==============================] - 1s 13ms/step - loss: 2.5196 - mae: 2.9806\n",
            "Epoch 30/100\n",
            "47/47 [==============================] - 1s 14ms/step - loss: 2.4936 - mae: 2.9557\n",
            "Epoch 31/100\n",
            "47/47 [==============================] - 1s 13ms/step - loss: 2.4847 - mae: 2.9459\n",
            "Epoch 32/100\n",
            "47/47 [==============================] - 1s 14ms/step - loss: 2.5892 - mae: 3.0512\n",
            "Epoch 33/100\n",
            "47/47 [==============================] - 1s 12ms/step - loss: 2.5438 - mae: 3.0056\n",
            "Epoch 34/100\n",
            "47/47 [==============================] - 1s 14ms/step - loss: 2.5028 - mae: 2.9652\n",
            "Epoch 35/100\n",
            "47/47 [==============================] - 1s 14ms/step - loss: 2.4989 - mae: 2.9601\n",
            "Epoch 36/100\n",
            "47/47 [==============================] - 1s 14ms/step - loss: 2.4654 - mae: 2.9236\n",
            "Epoch 37/100\n",
            "47/47 [==============================] - 1s 13ms/step - loss: 2.4662 - mae: 2.9259\n",
            "Epoch 38/100\n",
            "47/47 [==============================] - 1s 14ms/step - loss: 2.5200 - mae: 2.9807\n",
            "Epoch 39/100\n",
            "47/47 [==============================] - 1s 14ms/step - loss: 2.5495 - mae: 3.0101\n",
            "Epoch 40/100\n",
            "47/47 [==============================] - 1s 15ms/step - loss: 2.5736 - mae: 3.0356\n",
            "Epoch 41/100\n",
            "47/47 [==============================] - 1s 13ms/step - loss: 2.4837 - mae: 2.9448\n",
            "Epoch 42/100\n",
            "47/47 [==============================] - 1s 14ms/step - loss: 2.4820 - mae: 2.9420\n",
            "Epoch 43/100\n",
            "47/47 [==============================] - 1s 13ms/step - loss: 2.6391 - mae: 3.0993\n",
            "Epoch 44/100\n",
            "47/47 [==============================] - 1s 13ms/step - loss: 2.4991 - mae: 2.9610\n",
            "Epoch 45/100\n",
            "47/47 [==============================] - 1s 14ms/step - loss: 2.5461 - mae: 3.0068\n",
            "Epoch 46/100\n",
            "47/47 [==============================] - 1s 13ms/step - loss: 2.4464 - mae: 2.9085\n",
            "Epoch 47/100\n",
            "47/47 [==============================] - 1s 14ms/step - loss: 2.4658 - mae: 2.9281\n",
            "Epoch 48/100\n",
            "47/47 [==============================] - 1s 14ms/step - loss: 2.4525 - mae: 2.9119\n",
            "Epoch 49/100\n",
            "47/47 [==============================] - 1s 15ms/step - loss: 2.5276 - mae: 2.9899\n",
            "Epoch 50/100\n",
            "47/47 [==============================] - 1s 13ms/step - loss: 2.5739 - mae: 3.0359\n",
            "Epoch 51/100\n",
            "47/47 [==============================] - 1s 14ms/step - loss: 2.4157 - mae: 2.8730\n",
            "Epoch 52/100\n",
            "47/47 [==============================] - 1s 15ms/step - loss: 2.5101 - mae: 2.9719\n",
            "Epoch 53/100\n",
            "47/47 [==============================] - 1s 14ms/step - loss: 2.4788 - mae: 2.9393\n",
            "Epoch 54/100\n",
            "47/47 [==============================] - 1s 14ms/step - loss: 2.4317 - mae: 2.8910\n",
            "Epoch 55/100\n",
            "47/47 [==============================] - 1s 13ms/step - loss: 2.4505 - mae: 2.9135\n",
            "Epoch 56/100\n",
            "47/47 [==============================] - 1s 14ms/step - loss: 2.4413 - mae: 2.9011\n",
            "Epoch 57/100\n",
            "47/47 [==============================] - 1s 14ms/step - loss: 2.4320 - mae: 2.8863\n",
            "Epoch 58/100\n",
            "47/47 [==============================] - 1s 13ms/step - loss: 2.5506 - mae: 3.0108\n",
            "Epoch 59/100\n",
            "47/47 [==============================] - 1s 13ms/step - loss: 2.4627 - mae: 2.9270\n",
            "Epoch 60/100\n",
            "47/47 [==============================] - 1s 13ms/step - loss: 2.4391 - mae: 2.9012\n",
            "Epoch 61/100\n",
            "47/47 [==============================] - 1s 13ms/step - loss: 2.4587 - mae: 2.9173\n",
            "Epoch 62/100\n",
            "47/47 [==============================] - 1s 14ms/step - loss: 2.4381 - mae: 2.9005\n",
            "Epoch 63/100\n",
            "47/47 [==============================] - 1s 14ms/step - loss: 2.4527 - mae: 2.9131\n",
            "Epoch 64/100\n",
            "47/47 [==============================] - 1s 14ms/step - loss: 2.4496 - mae: 2.9103\n",
            "Epoch 65/100\n",
            "47/47 [==============================] - 1s 14ms/step - loss: 2.4530 - mae: 2.9134\n",
            "Epoch 66/100\n",
            "47/47 [==============================] - 1s 14ms/step - loss: 2.5320 - mae: 2.9955\n",
            "Epoch 67/100\n",
            "47/47 [==============================] - 1s 14ms/step - loss: 2.4701 - mae: 2.9317\n",
            "Epoch 68/100\n",
            "47/47 [==============================] - 1s 15ms/step - loss: 2.4417 - mae: 2.9026\n",
            "Epoch 69/100\n",
            "47/47 [==============================] - 1s 15ms/step - loss: 2.4297 - mae: 2.8911\n",
            "Epoch 70/100\n",
            "47/47 [==============================] - 1s 15ms/step - loss: 2.4057 - mae: 2.8648\n",
            "Epoch 71/100\n",
            "47/47 [==============================] - 1s 14ms/step - loss: 2.4162 - mae: 2.8784\n",
            "Epoch 72/100\n",
            "47/47 [==============================] - 1s 14ms/step - loss: 2.3977 - mae: 2.8563\n",
            "Epoch 73/100\n",
            "47/47 [==============================] - 1s 13ms/step - loss: 2.4038 - mae: 2.8612\n",
            "Epoch 74/100\n",
            "47/47 [==============================] - 1s 15ms/step - loss: 2.3990 - mae: 2.8569\n",
            "Epoch 75/100\n",
            "47/47 [==============================] - 1s 15ms/step - loss: 2.4501 - mae: 2.9102\n",
            "Epoch 76/100\n",
            "47/47 [==============================] - 1s 13ms/step - loss: 2.4613 - mae: 2.9234\n",
            "Epoch 77/100\n",
            "47/47 [==============================] - 1s 14ms/step - loss: 2.4306 - mae: 2.8895\n",
            "Epoch 78/100\n",
            "47/47 [==============================] - 1s 14ms/step - loss: 2.4211 - mae: 2.8798\n",
            "Epoch 79/100\n",
            "47/47 [==============================] - 1s 14ms/step - loss: 2.4531 - mae: 2.9130\n",
            "Epoch 80/100\n",
            "47/47 [==============================] - 1s 15ms/step - loss: 2.4535 - mae: 2.9138\n",
            "Epoch 81/100\n",
            "47/47 [==============================] - 1s 15ms/step - loss: 2.4675 - mae: 2.9263\n",
            "Epoch 82/100\n",
            "47/47 [==============================] - 1s 13ms/step - loss: 2.4195 - mae: 2.8799\n",
            "Epoch 83/100\n",
            "47/47 [==============================] - 1s 14ms/step - loss: 2.4688 - mae: 2.9321\n",
            "Epoch 84/100\n",
            "47/47 [==============================] - 1s 14ms/step - loss: 2.4477 - mae: 2.9077\n",
            "Epoch 85/100\n",
            "47/47 [==============================] - 1s 13ms/step - loss: 2.4728 - mae: 2.9391\n",
            "Epoch 86/100\n",
            "47/47 [==============================] - 1s 14ms/step - loss: 2.4400 - mae: 2.8987\n",
            "Epoch 87/100\n",
            "47/47 [==============================] - 1s 14ms/step - loss: 2.4787 - mae: 2.9359\n",
            "Epoch 88/100\n",
            "47/47 [==============================] - 1s 14ms/step - loss: 2.4669 - mae: 2.9280\n",
            "Epoch 89/100\n",
            "47/47 [==============================] - 1s 13ms/step - loss: 2.4967 - mae: 2.9601\n",
            "Epoch 90/100\n",
            "47/47 [==============================] - 1s 14ms/step - loss: 2.4404 - mae: 2.9034\n",
            "Epoch 91/100\n",
            "47/47 [==============================] - 1s 14ms/step - loss: 2.3890 - mae: 2.8483\n",
            "Epoch 92/100\n",
            "47/47 [==============================] - 1s 14ms/step - loss: 2.4302 - mae: 2.8919\n",
            "Epoch 93/100\n",
            "47/47 [==============================] - 1s 14ms/step - loss: 2.4310 - mae: 2.8919\n",
            "Epoch 94/100\n",
            "47/47 [==============================] - 1s 13ms/step - loss: 2.4537 - mae: 2.9164\n",
            "Epoch 95/100\n",
            "47/47 [==============================] - 1s 13ms/step - loss: 2.4093 - mae: 2.8700\n",
            "Epoch 96/100\n",
            "47/47 [==============================] - 1s 14ms/step - loss: 2.4769 - mae: 2.9369\n",
            "Epoch 97/100\n",
            "47/47 [==============================] - 1s 14ms/step - loss: 2.4003 - mae: 2.8610\n",
            "Epoch 98/100\n",
            "47/47 [==============================] - 1s 15ms/step - loss: 2.4202 - mae: 2.8795\n",
            "Epoch 99/100\n",
            "47/47 [==============================] - 1s 14ms/step - loss: 2.4231 - mae: 2.8795\n",
            "Epoch 100/100\n",
            "47/47 [==============================] - 1s 13ms/step - loss: 2.4114 - mae: 2.8696\n"
          ],
          "name": "stdout"
        }
      ]
    },
    {
      "cell_type": "code",
      "metadata": {
        "colab_type": "code",
        "id": "icGDaND7z0ne",
        "colab": {
          "base_uri": "https://localhost:8080/",
          "height": 388
        },
        "outputId": "7e5a407c-fcc8-4aa4-fc04-141a4a96e1c1"
      },
      "source": [
        "forecast = []\n",
        "results = []\n",
        "for time in range(len(series) - window_size):\n",
        "  forecast.append(model.predict(series[time:time + window_size][np.newaxis]))\n",
        "\n",
        "forecast = forecast[split_time-window_size:]\n",
        "results = np.array(forecast)[:, 0, 0]\n",
        "\n",
        "\n",
        "plt.figure(figsize=(10, 6))\n",
        "\n",
        "plot_series(time_valid, x_valid)\n",
        "plot_series(time_valid, results)"
      ],
      "execution_count": 15,
      "outputs": [
        {
          "output_type": "display_data",
          "data": {
            "image/png": "[encoded data removed]",
            "text/plain": [
              "<Figure size 720x432 with 1 Axes>"
            ]
          },
          "metadata": {
            "tags": [],
            "needs_background": "light"
          }
        }
      ]
    },
    {
      "cell_type": "code",
      "metadata": {
        "colab_type": "code",
        "id": "KfPeqI7rz4LD",
        "outputId": "9b38525c-9ce8-4e14-ca0d-c3e421ae5c2c",
        "colab": {
          "base_uri": "https://localhost:8080/",
          "height": 34
        }
      },
      "source": [
        "tf.keras.metrics.mean_absolute_error(x_valid, results).numpy()\n",
        "\n",
        "# YOUR RESULT HERE SHOULD BE LESS THAN 4"
      ],
      "execution_count": 16,
      "outputs": [
        {
          "output_type": "execute_result",
          "data": {
            "text/plain": [
              "2.9886537"
            ]
          },
          "metadata": {
            "tags": []
          },
          "execution_count": 16
        }
      ]
    },
    {
      "cell_type": "code",
      "metadata": {
        "colab_type": "code",
        "id": "JUsdZB_tzDLe",
        "colab": {
          "base_uri": "https://localhost:8080/",
          "height": 607
        },
        "outputId": "7ef2fd40-bd19-4b1f-a5cf-78c8d38ed445"
      },
      "source": [
        "import matplotlib.image  as mpimg\n",
        "import matplotlib.pyplot as plt\n",
        "\n",
        "#-----------------------------------------------------------\n",
        "# Retrieve a list of list results on training and test data\n",
        "# sets for each training epoch\n",
        "#-----------------------------------------------------------\n",
        "mae=history.history['mae']\n",
        "loss=history.history['loss']\n",
        "\n",
        "epochs=range(len(loss)) # Get number of epochs\n",
        "\n",
        "#------------------------------------------------\n",
        "# Plot MAE and Loss\n",
        "#------------------------------------------------\n",
        "plt.plot(epochs, mae, 'r')\n",
        "plt.plot(epochs, loss, 'b')\n",
        "plt.title('MAE and Loss')\n",
        "plt.xlabel(\"Epochs\")\n",
        "plt.ylabel(\"Accuracy\")\n",
        "plt.legend([\"MAE\", \"Loss\"])\n",
        "\n",
        "plt.figure()\n",
        "\n",
        "epochs_zoom = epochs[200:]\n",
        "mae_zoom = mae[200:]\n",
        "loss_zoom = loss[200:]\n",
        "\n",
        "#------------------------------------------------\n",
        "# Plot Zoomed MAE and Loss\n",
        "#------------------------------------------------\n",
        "plt.plot(epochs_zoom, mae_zoom, 'r')\n",
        "plt.plot(epochs_zoom, loss_zoom, 'b')\n",
        "plt.title('MAE and Loss')\n",
        "plt.xlabel(\"Epochs\")\n",
        "plt.ylabel(\"Accuracy\")\n",
        "plt.legend([\"MAE\", \"Loss\"])\n",
        "\n",
        "plt.figure()"
      ],
      "execution_count": 17,
      "outputs": [
        {
          "output_type": "execute_result",
          "data": {
            "text/plain": [
              "<Figure size 432x288 with 0 Axes>"
            ]
          },
          "metadata": {
            "tags": []
          },
          "execution_count": 17
        },
        {
          "output_type": "display_data",
          "data": {
            "image/png": "[encoded data removed]",
            "text/plain": [
              "<Figure size 432x288 with 1 Axes>"
            ]
          },
          "metadata": {
            "tags": [],
            "needs_background": "light"
          }
        },
        {
          "output_type": "display_data",
          "data": {
            "image/png": "[encoded data removed]",
            "text/plain": [
              "<Figure size 432x288 with 1 Axes>"
            ]
          },
          "metadata": {
            "tags": [],
            "needs_background": "light"
          }
        },
        {
          "output_type": "display_data",
          "data": {
            "text/plain": [
              "<Figure size 432x288 with 0 Axes>"
            ]
          },
          "metadata": {
            "tags": []
          }
        }
      ]
    }
  ]
}